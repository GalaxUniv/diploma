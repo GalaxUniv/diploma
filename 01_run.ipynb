{
 "cells": [
  {
   "cell_type": "markdown",
   "metadata": {},
   "source": [
    "# Diploma XXX"
   ]
  },
  {
   "cell_type": "markdown",
   "metadata": {},
   "source": [
    "## Setup"
   ]
  },
  {
   "cell_type": "markdown",
   "metadata": {},
   "source": [
    "### import necesery liblaries"
   ]
  },
  {
   "cell_type": "code",
   "execution_count": 1,
   "metadata": {},
   "outputs": [
    {
     "name": "stderr",
     "output_type": "stream",
     "text": [
      "/home/billy/base/lib/python3.10/site-packages/torchvision/io/image.py:13: UserWarning: Failed to load image Python extension: '/home/billy/base/lib/python3.10/site-packages/torchvision/image.so: undefined symbol: _ZN3c1017RegisterOperatorsD1Ev'If you don't plan on using image functionality from `torchvision.io`, you can ignore this warning. Otherwise, there might be something wrong with your environment. Did you have `libjpeg` or `libpng` installed before building `torchvision` from source?\n",
      "  warn(\n"
     ]
    }
   ],
   "source": [
    "import torch\n",
    "import wandb\n",
    "from datasets import load_dataset\n",
    "from torchvision import transforms\n",
    "from torch.utils.data import DataLoader\n",
    "import torchvision.transforms.functional as TF\n",
    "from PIL import Image\n",
    "import matplotlib.pyplot as plt\n",
    "import matplotlib as mpl\n",
    "from tinyai.imports import *\n",
    "from torcheval.metrics import *\n",
    "import pdb"
   ]
  },
  {
   "cell_type": "markdown",
   "metadata": {},
   "source": [
    "### Config\n",
    "\n",
    "\n",
    "In this configuration, we are setting up various parameters and options for our workflow.\n",
    "\n",
    "- Setting the precision, linewidth, and scientific notation mode for printing tensors.\n",
    "- Setting the random seed for reproducibility.\n",
    "- Configuring the color map and DPI for matplotlib figures.\n",
    "- Setting the random seed and limiting the number of CPUs used. These configurations ensure consistent and optimized behavior throughout the workflow.\n"
   ]
  },
  {
   "cell_type": "code",
   "execution_count": 2,
   "metadata": {},
   "outputs": [],
   "source": [
    "torch.set_printoptions(precision=4, linewidth=140, sci_mode=False)\n",
    "mpl.rcParams['image.cmap'] = 'gray_r'\n",
    "mpl.rcParams['figure.dpi'] = 100\n",
    "\n",
    "set_seed(42)\n",
    "if fc.defaults.cpus>8: fc.defaults.cpus=10"
   ]
  },
  {
   "cell_type": "markdown",
   "metadata": {},
   "source": [
    "## Wandb"
   ]
  },
  {
   "cell_type": "code",
   "execution_count": 3,
   "metadata": {},
   "outputs": [],
   "source": [
    "def test_model_accuracy(model, dataloader, metrics):\n",
    "    model.eval()\n",
    "    accuracy_metric = metrics['accuracy']\n",
    "    precision_metric = metrics['precision']\n",
    "    recall_metric = metrics['recall']\n",
    "\n",
    "    with torch.no_grad():\n",
    "        for images, labels in dataloader:\n",
    "            outputs = model(images.to(def_device))\n",
    "            _, predicted = torch.max(outputs.data, 1)\n",
    "            accuracy_metric.update(predicted.to('cpu'), labels)\n",
    "            precision_metric.update(predicted.to('cpu'), labels)\n",
    "            recall_metric.update(predicted.to('cpu'), labels)\n",
    "\n",
    "    accuracy = accuracy_metric.compute()\n",
    "    precision = precision_metric.compute()\n",
    "    recall = recall_metric.compute()\n",
    "\n",
    "    model.train()\n",
    "    return accuracy, precision, recall"
   ]
  },
  {
   "cell_type": "code",
   "execution_count": 4,
   "metadata": {},
   "outputs": [],
   "source": [
    "import wandb\n",
    "class WandBCB(MetricsCB):\n",
    "    order=100\n",
    "    def __init__(self, config, *ms, project='diploma', **metrics):\n",
    "        fc.store_attr()\n",
    "        super().__init__(*ms, **metrics)\n",
    "\n",
    "    def before_fit(self, learn): wandb.init(project=self.project, config=self.config, name=self.config['name'])\n",
    "    def after_fit(self, learn):\n",
    "        #wandb.log({'color_dim': wandb.Image(astats.color_dim())})\n",
    "        #wandb.log({'dead_chart': wandb.Image(astats.dead_chart())})\n",
    "        #wandb.log({'plot_stats':wandb.Image(astats.plot_stats())})\n",
    "\n",
    "\n",
    "        metrics = {\n",
    "            'accuracy': MulticlassAccuracy(num_classes=10),\n",
    "            'precision': MulticlassPrecision(num_classes=10, average='macro'),\n",
    "            'recall': MulticlassRecall(num_classes=10, average='macro')\n",
    "        }\n",
    "        accuracy, precision, recall = test_model_accuracy(learn.model, dls.test, metrics)\n",
    "        wandb.log({'test_accuracy': accuracy, 'test_precision': precision, 'test_recall': recall})\n",
    "        wandb.finish()\n",
    "\n",
    "    def after_epoch(self, learn):\n",
    "        super().after_epoch(learn)\n",
    "        wandb.log({'lr':learn.opt.param_groups[-1]['lr']})\n",
    "        \n",
    "        # Save the model on the 5th, 10th, and 20th epochs\n",
    "        if learn.epoch == 4 or learn.epoch == 9 or learn.epoch == 19 or learn.epoch == 24:\n",
    "            metrics = {\n",
    "                'accuracy': MulticlassAccuracy(num_classes=10),\n",
    "                'precision': MulticlassPrecision(num_classes=10, average='macro'),\n",
    "                'recall': MulticlassRecall(num_classes=10, average='macro')\n",
    "            }\n",
    "\n",
    "            accuracy, precision, recall = test_model_accuracy(learn.model, dls.test, metrics)\n",
    "            wandb.log({'test_accuracy': accuracy, 'test_precision': precision, 'test_recall': recall})\n",
    "\n",
    "            model_filename = f\"{self.config['name']}_{learn.epoch + 1}.pth\"\n",
    "            torch.save(learn.model.state_dict(), f'models/{model_filename}')\n",
    "            wandb.save(model_filename)\n",
    "\n",
    "    def _log(self, d):\n",
    "        if d.get('train') == 'train':\n",
    "            wandb.log({'train_'+m:float(d[m]) for m in self.all_metrics})\n",
    "        else:\n",
    "            wandb.log({'val_'+m:float(d[m]) for m in self.all_metrics})\n",
    "        print(d)\n",
    "\n",
    "\n",
    "    def after_batch(self, learn):\n",
    "        super().after_batch(learn)\n",
    "        wandb.log({'loss':learn.loss})\n",
    "        wandb.log({'accuracy': learn.metrics.metrics['accuracy'].compute()})\n",
    "        wandb.log({'precision': learn.metrics.metrics['precision'].compute()})\n",
    "        wandb.log({'recall': learn.metrics.metrics['recall'].compute()})\n"
   ]
  },
  {
   "cell_type": "markdown",
   "metadata": {},
   "source": [
    "### Loading in FashionMNIST dataset the dataset and preparing the data for later use"
   ]
  },
  {
   "cell_type": "code",
   "execution_count": 5,
   "metadata": {},
   "outputs": [
    {
     "data": {
      "text/plain": [
       "DatasetDict({\n",
       "    train: Dataset({\n",
       "        features: ['image', 'label'],\n",
       "        num_rows: 60000\n",
       "    })\n",
       "    test: Dataset({\n",
       "        features: ['image', 'label'],\n",
       "        num_rows: 10000\n",
       "    })\n",
       "})"
      ]
     },
     "execution_count": 5,
     "metadata": {},
     "output_type": "execute_result"
    }
   ],
   "source": [
    "# Load the FashionMNIST dataset from Hugging Face\n",
    "dataset = load_dataset('fashion_mnist')\n",
    "\n",
    "bs= 512\n",
    "epochs = 25\n",
    "lr = 1e-2\n",
    "dataset"
   ]
  },
  {
   "cell_type": "markdown",
   "metadata": {},
   "source": [
    "Lets see the image"
   ]
  },
  {
   "cell_type": "code",
   "execution_count": 6,
   "metadata": {},
   "outputs": [
    {
     "data": {
      "image/png": "[encoded data removed]",
      "text/plain": [
       "<Figure size 640x480 with 1 Axes>"
      ]
     },
     "metadata": {},
     "output_type": "display_data"
    }
   ],
   "source": [
    "image = dataset['train'][0]['image']\n",
    "plt.imshow(image);"
   ]
  },
  {
   "cell_type": "markdown",
   "metadata": {},
   "source": [
    "Transforming a PIL image to a Tensor is necessary  because it allows us to perform various operations on the image using PyTorch.\n",
    "\n",
    "- PyTorch works with tensors as the primary data structure for representing and manipulating data.\n",
    "- We can leverage GPUs for accelerated computation. Tensors can be easily moved to and processed on GPUs, enabling faster training and inference."
   ]
  },
  {
   "cell_type": "code",
   "execution_count": 7,
   "metadata": {},
   "outputs": [
    {
     "data": {
      "image/png": "[encoded data removed]",
      "text/plain": [
       "<Figure size 640x480 with 1 Axes>"
      ]
     },
     "metadata": {},
     "output_type": "display_data"
    }
   ],
   "source": [
    "plt.imshow(transforms.ToTensor()(image)[0]);"
   ]
  },
  {
   "cell_type": "markdown",
   "metadata": {},
   "source": [
    "Lets create a function that will this to whole dataset"
   ]
  },
  {
   "cell_type": "code",
   "execution_count": 8,
   "metadata": {},
   "outputs": [],
   "source": [
    "@inplace\n",
    "def transformi(b): b['image'] = [(TF.to_tensor(o)) for o in b['image']]\n",
    "# test if we want values btween -0.5 and 0.5 or 0 and 1"
   ]
  },
  {
   "cell_type": "code",
   "execution_count": 9,
   "metadata": {},
   "outputs": [
    {
     "data": {
      "text/plain": [
       "torch.Size([1, 28, 28])"
      ]
     },
     "execution_count": 9,
     "metadata": {},
     "output_type": "execute_result"
    }
   ],
   "source": [
    "dataset = dataset.with_transform(transformi)\n",
    "image = dataset['train'][0]['image']\n",
    "image.shape"
   ]
  },
  {
   "cell_type": "code",
   "execution_count": 10,
   "metadata": {},
   "outputs": [
    {
     "data": {
      "text/plain": [
       "(torch.Size([512, 1, 28, 28]),\n",
       " torch.Size([1024, 1, 28, 28]),\n",
       " torch.Size([1024, 1, 28, 28]))"
      ]
     },
     "execution_count": 10,
     "metadata": {},
     "output_type": "execute_result"
    }
   ],
   "source": [
    "dls = DataLoaders.from_dd(dataset,batch_size=bs,test=True ,split = 0.1, num_workers=10, pin_memory=True)\n",
    "next(iter(dls.train))[0].shape, next(iter(dls.valid))[0].shape, next(iter(dls.test))[0].shape"
   ]
  },
  {
   "cell_type": "markdown",
   "metadata": {},
   "source": [
    "```python\n",
    "def init_weights(m, leaky=0.):\n",
    "    if isinstance(m, (nn.Conv1d,nn.Conv2d,nn.Conv3d)): init.kaiming_normal_(m.weight, a=leaky)\n",
    "\n",
    "metrics = MetricsCB(accuracy=MulticlassAccuracy(num_classes=10),\n",
    "                    precision=MulticlassPrecision(num_classes=10, average='macro'),\n",
    "                    recall=MulticlassRecall(num_classes=10, average='macro'))\n",
    "\n",
    "astats = ActivationStats(fc.risinstance(GeneralRelu))\n",
    "wandbcb =  WandBCB(config={'lr':lr, 'epochs':epochs, 'bs':bs, 'name':'Leaky ReLU'}, project='diploma run')\n",
    "cbs = [DeviceCB(), ProgressCB(plot=True),MetricsCB(), astats , metrics, wandbcb]\n",
    "\n",
    "iw = partial(init_weights, leaky=0.1)\n",
    "act_gr = partial(GeneralRelu, leak=0.1, sub=0.4)\n",
    "\n",
    "model = get_model(act_gr,norm=nn.BatchNorm2d).apply(iw)\n",
    "learn = TrainLearner(model, dls, F.cross_entropy, lr=lr, cbs=cbs)\n",
    "\n",
    "\n",
    "learn.fit(5)\n",
    "```"
   ]
  },
  {
   "cell_type": "markdown",
   "metadata": {},
   "source": [
    "#  Baseline model"
   ]
  },
  {
   "cell_type": "markdown",
   "metadata": {},
   "source": [
    "####  Exaplin what ResBlock is doing and make graphical representation of it\n",
    "```python\n",
    "def conv(ni, nf, ks=3, stride=2, act=True):\n",
    "    res = nn.Conv2d(ni, nf, stride=stride, kernel_size=ks, padding=ks // 2)\n",
    "    if act: res = nn.Sequential(res, nn.ReLU())\n",
    "    return res\n",
    "    \n",
    "def _conv_block(ni, nf, stride, act=act_gr, norm=None, ks=3):\n",
    "    return nn.Sequential(conv(ni, nf, stride=1, act=act, norm=norm, ks=ks),\n",
    "                         conv(nf, nf, stride=stride, act=None, norm=norm, ks=ks))\n",
    "\n",
    "class ResBlock(nn.Module):\n",
    "    def __init__(self, ni, nf, stride=1, ks=3, act=act_gr, norm=None):\n",
    "        super().__init__()\n",
    "        self.convs = _conv_block(ni, nf, stride, act=act, ks=ks, norm=norm)\n",
    "        self.idconv = fc.noop if ni==nf else conv(ni, nf, ks=1, stride=1, act=None)\n",
    "        self.pool = fc.noop if stride==1 else nn.AvgPool2d(2, ceil_mode=True)\n",
    "        self.act = act()\n",
    "\n",
    "    def forward(self, x): return self.act(self.convs(x) + self.idconv(self.pool(x)))\n",
    "```"
   ]
  },
  {
   "cell_type": "code",
   "execution_count": 11,
   "metadata": {},
   "outputs": [],
   "source": [
    "def get_model(act=GeneralRelu,norm=False):\n",
    "    layers = [ResBlock(1, 16, stride=1, act=act, norm=norm),\n",
    "              # Why we stride 2 here? Because we want to reduce the size of the image by half\n",
    "              ResBlock(16, 32, stride=2, act=act, norm=norm),\n",
    "              ResBlock(32, 64, stride=2, act=act, norm=norm),\n",
    "              ResBlock(64, 128, stride=2, act=act, norm=norm),\n",
    "              ResBlock(128, 256, stride=2, act=act, norm=norm),\n",
    "              ResBlock(256, 512, stride=2, act=act, norm=norm),\n",
    "              nn.Flatten(),\n",
    "              nn.Linear(512, 10, bias=False),\n",
    "        ]\n",
    "    if norm:\n",
    "        layers.append(nn.BatchNorm1d(10))\n",
    "    return nn.Sequential(*layers)\n",
    "get_model();"
   ]
  },
  {
   "cell_type": "code",
   "execution_count": 12,
   "metadata": {},
   "outputs": [],
   "source": [
    "metrics = MetricsCB(accuracy=MulticlassAccuracy(num_classes=10),\n",
    "                    precision=MulticlassPrecision(num_classes=10, average='macro'),\n",
    "                    recall=MulticlassRecall(num_classes=10, average='macro'))"
   ]
  },
  {
   "cell_type": "code",
   "execution_count": 13,
   "metadata": {},
   "outputs": [],
   "source": [
    "#astats = ActivationStats(fc.risinstance(GeneralRelu))\n",
    "wandbcb =  WandBCB(config={'lr':lr, 'epochs':epochs, 'bs':bs, 'name':'baseline'}, project='diploma')\n",
    "cbs = [DeviceCB('cuda'), metrics, ProgressCB(plot=True), wandbcb]\n",
    "model = get_model()\n",
    "learn = TrainLearner(model, dls, F.cross_entropy, lr=lr, cbs=cbs)"
   ]
  },
  {
   "cell_type": "code",
   "execution_count": 80,
   "metadata": {},
   "outputs": [
    {
     "data": {
      "text/html": [
       "Tracking run with wandb version 0.16.6"
      ],
      "text/plain": [
       "<IPython.core.display.HTML object>"
      ]
     },
     "metadata": {},
     "output_type": "display_data"
    },
    {
     "data": {
      "text/html": [
       "Run data is saved locally in <code>/home/billy/diploma/wandb/run-20240507_191526-eyaw9l5o</code>"
      ],
      "text/plain": [
       "<IPython.core.display.HTML object>"
      ]
     },
     "metadata": {},
     "output_type": "display_data"
    },
    {
     "data": {
      "text/html": [
       "Syncing run <strong><a href='https://wandb.ai/afterhoursbilly/diploma/runs/eyaw9l5o' target=\"_blank\">baseline</a></strong> to <a href='https://wandb.ai/afterhoursbilly/diploma' target=\"_blank\">Weights & Biases</a> (<a href='https://wandb.me/run' target=\"_blank\">docs</a>)<br/>"
      ],
      "text/plain": [
       "<IPython.core.display.HTML object>"
      ]
     },
     "metadata": {},
     "output_type": "display_data"
    },
    {
     "data": {
      "text/html": [
       " View project at <a href='https://wandb.ai/afterhoursbilly/diploma' target=\"_blank\">https://wandb.ai/afterhoursbilly/diploma</a>"
      ],
      "text/plain": [
       "<IPython.core.display.HTML object>"
      ]
     },
     "metadata": {},
     "output_type": "display_data"
    },
    {
     "data": {
      "text/html": [
       " View run at <a href='https://wandb.ai/afterhoursbilly/diploma/runs/eyaw9l5o' target=\"_blank\">https://wandb.ai/afterhoursbilly/diploma/runs/eyaw9l5o</a>"
      ],
      "text/plain": [
       "<IPython.core.display.HTML object>"
      ]
     },
     "metadata": {},
     "output_type": "display_data"
    },
    {
     "data": {
      "text/html": [
       "\n",
       "<style>\n",
       "    /* Turns off some styling */\n",
       "    progress {\n",
       "        /* gets rid of default border in Firefox and Opera. */\n",
       "        border: none;\n",
       "        /* Needs to be in here for Safari polyfill so background images work as expected. */\n",
       "        background-size: auto;\n",
       "    }\n",
       "    progress:not([value]), progress:not([value])::-webkit-progress-bar {\n",
       "        background: repeating-linear-gradient(45deg, #7e7e7e, #7e7e7e 10px, #5c5c5c 10px, #5c5c5c 20px);\n",
       "    }\n",
       "    .progress-bar-interrupted, .progress-bar-interrupted::-webkit-progress-bar {\n",
       "        background: #F44336;\n",
       "    }\n",
       "</style>\n"
      ],
      "text/plain": [
       "<IPython.core.display.HTML object>"
      ]
     },
     "metadata": {},
     "output_type": "display_data"
    },
    {
     "data": {
      "text/html": [
       "<table border=\"1\" class=\"dataframe\">\n",
       "  <thead>\n",
       "    <tr style=\"text-align: left;\">\n",
       "      <th>accuracy</th>\n",
       "      <th>precision</th>\n",
       "      <th>recall</th>\n",
       "      <th>loss</th>\n",
       "      <th>epoch</th>\n",
       "      <th>train</th>\n",
       "    </tr>\n",
       "  </thead>\n",
       "  <tbody>\n",
       "    <tr>\n",
       "      <td>0.100</td>\n",
       "      <td>0.010</td>\n",
       "      <td>0.100</td>\n",
       "      <td>2.303</td>\n",
       "      <td>0</td>\n",
       "      <td>train</td>\n",
       "    </tr>\n",
       "    <tr>\n",
       "      <td>0.101</td>\n",
       "      <td>0.010</td>\n",
       "      <td>0.100</td>\n",
       "      <td>2.302</td>\n",
       "      <td>0</td>\n",
       "      <td>eval</td>\n",
       "    </tr>\n",
       "    <tr>\n",
       "      <td>0.100</td>\n",
       "      <td>0.010</td>\n",
       "      <td>0.100</td>\n",
       "      <td>2.302</td>\n",
       "      <td>1</td>\n",
       "      <td>train</td>\n",
       "    </tr>\n",
       "    <tr>\n",
       "      <td>0.101</td>\n",
       "      <td>0.010</td>\n",
       "      <td>0.100</td>\n",
       "      <td>2.302</td>\n",
       "      <td>1</td>\n",
       "      <td>eval</td>\n",
       "    </tr>\n",
       "    <tr>\n",
       "      <td>0.100</td>\n",
       "      <td>0.010</td>\n",
       "      <td>0.100</td>\n",
       "      <td>2.302</td>\n",
       "      <td>2</td>\n",
       "      <td>train</td>\n",
       "    </tr>\n",
       "    <tr>\n",
       "      <td>0.101</td>\n",
       "      <td>0.010</td>\n",
       "      <td>0.100</td>\n",
       "      <td>2.302</td>\n",
       "      <td>2</td>\n",
       "      <td>eval</td>\n",
       "    </tr>\n",
       "    <tr>\n",
       "      <td>0.116</td>\n",
       "      <td>0.024</td>\n",
       "      <td>0.116</td>\n",
       "      <td>2.302</td>\n",
       "      <td>3</td>\n",
       "      <td>train</td>\n",
       "    </tr>\n",
       "    <tr>\n",
       "      <td>0.101</td>\n",
       "      <td>0.010</td>\n",
       "      <td>0.100</td>\n",
       "      <td>2.302</td>\n",
       "      <td>3</td>\n",
       "      <td>eval</td>\n",
       "    </tr>\n",
       "    <tr>\n",
       "      <td>0.107</td>\n",
       "      <td>0.040</td>\n",
       "      <td>0.108</td>\n",
       "      <td>2.302</td>\n",
       "      <td>4</td>\n",
       "      <td>train</td>\n",
       "    </tr>\n",
       "    <tr>\n",
       "      <td>0.116</td>\n",
       "      <td>0.075</td>\n",
       "      <td>0.115</td>\n",
       "      <td>2.302</td>\n",
       "      <td>4</td>\n",
       "      <td>eval</td>\n",
       "    </tr>\n",
       "    <tr>\n",
       "      <td>0.122</td>\n",
       "      <td>0.026</td>\n",
       "      <td>0.122</td>\n",
       "      <td>2.302</td>\n",
       "      <td>5</td>\n",
       "      <td>train</td>\n",
       "    </tr>\n",
       "    <tr>\n",
       "      <td>0.118</td>\n",
       "      <td>0.028</td>\n",
       "      <td>0.122</td>\n",
       "      <td>2.302</td>\n",
       "      <td>5</td>\n",
       "      <td>eval</td>\n",
       "    </tr>\n",
       "    <tr>\n",
       "      <td>0.119</td>\n",
       "      <td>0.024</td>\n",
       "      <td>0.118</td>\n",
       "      <td>2.302</td>\n",
       "      <td>6</td>\n",
       "      <td>train</td>\n",
       "    </tr>\n",
       "    <tr>\n",
       "      <td>0.096</td>\n",
       "      <td>0.010</td>\n",
       "      <td>0.100</td>\n",
       "      <td>2.302</td>\n",
       "      <td>6</td>\n",
       "      <td>eval</td>\n",
       "    </tr>\n",
       "    <tr>\n",
       "      <td>0.102</td>\n",
       "      <td>0.025</td>\n",
       "      <td>0.102</td>\n",
       "      <td>2.302</td>\n",
       "      <td>7</td>\n",
       "      <td>train</td>\n",
       "    </tr>\n",
       "    <tr>\n",
       "      <td>0.096</td>\n",
       "      <td>0.010</td>\n",
       "      <td>0.100</td>\n",
       "      <td>2.302</td>\n",
       "      <td>7</td>\n",
       "      <td>eval</td>\n",
       "    </tr>\n",
       "    <tr>\n",
       "      <td>0.102</td>\n",
       "      <td>0.032</td>\n",
       "      <td>0.101</td>\n",
       "      <td>2.302</td>\n",
       "      <td>8</td>\n",
       "      <td>train</td>\n",
       "    </tr>\n",
       "    <tr>\n",
       "      <td>0.096</td>\n",
       "      <td>0.010</td>\n",
       "      <td>0.100</td>\n",
       "      <td>2.302</td>\n",
       "      <td>8</td>\n",
       "      <td>eval</td>\n",
       "    </tr>\n",
       "    <tr>\n",
       "      <td>0.100</td>\n",
       "      <td>0.010</td>\n",
       "      <td>0.100</td>\n",
       "      <td>2.302</td>\n",
       "      <td>9</td>\n",
       "      <td>train</td>\n",
       "    </tr>\n",
       "    <tr>\n",
       "      <td>0.096</td>\n",
       "      <td>0.010</td>\n",
       "      <td>0.100</td>\n",
       "      <td>2.301</td>\n",
       "      <td>9</td>\n",
       "      <td>eval</td>\n",
       "    </tr>\n",
       "    <tr>\n",
       "      <td>0.100</td>\n",
       "      <td>0.010</td>\n",
       "      <td>0.100</td>\n",
       "      <td>2.301</td>\n",
       "      <td>10</td>\n",
       "      <td>train</td>\n",
       "    </tr>\n",
       "    <tr>\n",
       "      <td>0.096</td>\n",
       "      <td>0.010</td>\n",
       "      <td>0.100</td>\n",
       "      <td>2.301</td>\n",
       "      <td>10</td>\n",
       "      <td>eval</td>\n",
       "    </tr>\n",
       "    <tr>\n",
       "      <td>0.116</td>\n",
       "      <td>0.023</td>\n",
       "      <td>0.115</td>\n",
       "      <td>2.301</td>\n",
       "      <td>11</td>\n",
       "      <td>train</td>\n",
       "    </tr>\n",
       "    <tr>\n",
       "      <td>0.096</td>\n",
       "      <td>0.010</td>\n",
       "      <td>0.100</td>\n",
       "      <td>2.301</td>\n",
       "      <td>11</td>\n",
       "      <td>eval</td>\n",
       "    </tr>\n",
       "    <tr>\n",
       "      <td>0.100</td>\n",
       "      <td>0.010</td>\n",
       "      <td>0.100</td>\n",
       "      <td>2.301</td>\n",
       "      <td>12</td>\n",
       "      <td>train</td>\n",
       "    </tr>\n",
       "    <tr>\n",
       "      <td>0.096</td>\n",
       "      <td>0.010</td>\n",
       "      <td>0.100</td>\n",
       "      <td>2.301</td>\n",
       "      <td>12</td>\n",
       "      <td>eval</td>\n",
       "    </tr>\n",
       "    <tr>\n",
       "      <td>0.101</td>\n",
       "      <td>0.167</td>\n",
       "      <td>0.100</td>\n",
       "      <td>2.301</td>\n",
       "      <td>13</td>\n",
       "      <td>train</td>\n",
       "    </tr>\n",
       "    <tr>\n",
       "      <td>0.096</td>\n",
       "      <td>0.010</td>\n",
       "      <td>0.100</td>\n",
       "      <td>2.301</td>\n",
       "      <td>13</td>\n",
       "      <td>eval</td>\n",
       "    </tr>\n",
       "    <tr>\n",
       "      <td>0.101</td>\n",
       "      <td>0.099</td>\n",
       "      <td>0.101</td>\n",
       "      <td>2.300</td>\n",
       "      <td>14</td>\n",
       "      <td>train</td>\n",
       "    </tr>\n",
       "    <tr>\n",
       "      <td>0.096</td>\n",
       "      <td>0.060</td>\n",
       "      <td>0.100</td>\n",
       "      <td>2.300</td>\n",
       "      <td>14</td>\n",
       "      <td>eval</td>\n",
       "    </tr>\n",
       "    <tr>\n",
       "      <td>0.105</td>\n",
       "      <td>0.136</td>\n",
       "      <td>0.105</td>\n",
       "      <td>2.300</td>\n",
       "      <td>15</td>\n",
       "      <td>train</td>\n",
       "    </tr>\n",
       "    <tr>\n",
       "      <td>0.115</td>\n",
       "      <td>0.118</td>\n",
       "      <td>0.119</td>\n",
       "      <td>2.300</td>\n",
       "      <td>15</td>\n",
       "      <td>eval</td>\n",
       "    </tr>\n",
       "    <tr>\n",
       "      <td>0.139</td>\n",
       "      <td>0.134</td>\n",
       "      <td>0.139</td>\n",
       "      <td>2.300</td>\n",
       "      <td>16</td>\n",
       "      <td>train</td>\n",
       "    </tr>\n",
       "    <tr>\n",
       "      <td>0.136</td>\n",
       "      <td>0.167</td>\n",
       "      <td>0.140</td>\n",
       "      <td>2.299</td>\n",
       "      <td>16</td>\n",
       "      <td>eval</td>\n",
       "    </tr>\n",
       "    <tr>\n",
       "      <td>0.156</td>\n",
       "      <td>0.134</td>\n",
       "      <td>0.155</td>\n",
       "      <td>2.299</td>\n",
       "      <td>17</td>\n",
       "      <td>train</td>\n",
       "    </tr>\n",
       "    <tr>\n",
       "      <td>0.152</td>\n",
       "      <td>0.182</td>\n",
       "      <td>0.155</td>\n",
       "      <td>2.298</td>\n",
       "      <td>17</td>\n",
       "      <td>eval</td>\n",
       "    </tr>\n",
       "    <tr>\n",
       "      <td>0.174</td>\n",
       "      <td>0.184</td>\n",
       "      <td>0.174</td>\n",
       "      <td>2.298</td>\n",
       "      <td>18</td>\n",
       "      <td>train</td>\n",
       "    </tr>\n",
       "    <tr>\n",
       "      <td>0.177</td>\n",
       "      <td>0.185</td>\n",
       "      <td>0.181</td>\n",
       "      <td>2.297</td>\n",
       "      <td>18</td>\n",
       "      <td>eval</td>\n",
       "    </tr>\n",
       "    <tr>\n",
       "      <td>0.195</td>\n",
       "      <td>0.232</td>\n",
       "      <td>0.195</td>\n",
       "      <td>2.297</td>\n",
       "      <td>19</td>\n",
       "      <td>train</td>\n",
       "    </tr>\n",
       "    <tr>\n",
       "      <td>0.196</td>\n",
       "      <td>0.177</td>\n",
       "      <td>0.200</td>\n",
       "      <td>2.296</td>\n",
       "      <td>19</td>\n",
       "      <td>eval</td>\n",
       "    </tr>\n",
       "    <tr>\n",
       "      <td>0.215</td>\n",
       "      <td>0.234</td>\n",
       "      <td>0.215</td>\n",
       "      <td>2.295</td>\n",
       "      <td>20</td>\n",
       "      <td>train</td>\n",
       "    </tr>\n",
       "    <tr>\n",
       "      <td>0.233</td>\n",
       "      <td>0.233</td>\n",
       "      <td>0.237</td>\n",
       "      <td>2.294</td>\n",
       "      <td>20</td>\n",
       "      <td>eval</td>\n",
       "    </tr>\n",
       "    <tr>\n",
       "      <td>0.266</td>\n",
       "      <td>0.258</td>\n",
       "      <td>0.265</td>\n",
       "      <td>2.292</td>\n",
       "      <td>21</td>\n",
       "      <td>train</td>\n",
       "    </tr>\n",
       "    <tr>\n",
       "      <td>0.254</td>\n",
       "      <td>0.204</td>\n",
       "      <td>0.258</td>\n",
       "      <td>2.291</td>\n",
       "      <td>21</td>\n",
       "      <td>eval</td>\n",
       "    </tr>\n",
       "    <tr>\n",
       "      <td>0.271</td>\n",
       "      <td>0.268</td>\n",
       "      <td>0.271</td>\n",
       "      <td>2.288</td>\n",
       "      <td>22</td>\n",
       "      <td>train</td>\n",
       "    </tr>\n",
       "    <tr>\n",
       "      <td>0.264</td>\n",
       "      <td>0.212</td>\n",
       "      <td>0.268</td>\n",
       "      <td>2.285</td>\n",
       "      <td>22</td>\n",
       "      <td>eval</td>\n",
       "    </tr>\n",
       "    <tr>\n",
       "      <td>0.283</td>\n",
       "      <td>0.271</td>\n",
       "      <td>0.283</td>\n",
       "      <td>2.281</td>\n",
       "      <td>23</td>\n",
       "      <td>train</td>\n",
       "    </tr>\n",
       "    <tr>\n",
       "      <td>0.316</td>\n",
       "      <td>0.253</td>\n",
       "      <td>0.319</td>\n",
       "      <td>2.275</td>\n",
       "      <td>23</td>\n",
       "      <td>eval</td>\n",
       "    </tr>\n",
       "    <tr>\n",
       "      <td>0.305</td>\n",
       "      <td>0.278</td>\n",
       "      <td>0.304</td>\n",
       "      <td>2.267</td>\n",
       "      <td>24</td>\n",
       "      <td>train</td>\n",
       "    </tr>\n",
       "    <tr>\n",
       "      <td>0.284</td>\n",
       "      <td>0.263</td>\n",
       "      <td>0.285</td>\n",
       "      <td>2.255</td>\n",
       "      <td>24</td>\n",
       "      <td>eval</td>\n",
       "    </tr>\n",
       "  </tbody>\n",
       "</table>"
      ],
      "text/plain": [
       "<IPython.core.display.HTML object>"
      ]
     },
     "metadata": {},
     "output_type": "display_data"
    },
    {
     "name": "stdout",
     "output_type": "stream",
     "text": [
      "{'loss': '2.303', 'epoch': 0, 'train': 'train'}\n"
     ]
    },
    {
     "data": {
      "image/png": "[encoded data removed]",
      "text/plain": [
       "<Figure size 600x400 with 1 Axes>"
      ]
     },
     "metadata": {},
     "output_type": "display_data"
    },
    {
     "name": "stdout",
     "output_type": "stream",
     "text": [
      "{'loss': '2.302', 'epoch': 0, 'train': 'eval'}\n",
      "{'loss': '2.302', 'epoch': 1, 'train': 'train'}\n",
      "{'loss': '2.302', 'epoch': 1, 'train': 'eval'}\n",
      "{'loss': '2.302', 'epoch': 2, 'train': 'train'}\n",
      "{'loss': '2.302', 'epoch': 2, 'train': 'eval'}\n",
      "{'loss': '2.302', 'epoch': 3, 'train': 'train'}\n",
      "{'loss': '2.302', 'epoch': 3, 'train': 'eval'}\n",
      "{'loss': '2.302', 'epoch': 4, 'train': 'train'}\n",
      "{'loss': '2.302', 'epoch': 4, 'train': 'eval'}\n",
      "{'loss': '2.302', 'epoch': 5, 'train': 'train'}\n",
      "{'loss': '2.302', 'epoch': 5, 'train': 'eval'}\n",
      "{'loss': '2.302', 'epoch': 6, 'train': 'train'}\n",
      "{'loss': '2.302', 'epoch': 6, 'train': 'eval'}\n",
      "{'loss': '2.302', 'epoch': 7, 'train': 'train'}\n",
      "{'loss': '2.302', 'epoch': 7, 'train': 'eval'}\n",
      "{'loss': '2.302', 'epoch': 8, 'train': 'train'}\n",
      "{'loss': '2.302', 'epoch': 8, 'train': 'eval'}\n",
      "{'loss': '2.302', 'epoch': 9, 'train': 'train'}\n",
      "{'loss': '2.301', 'epoch': 9, 'train': 'eval'}\n",
      "{'loss': '2.301', 'epoch': 10, 'train': 'train'}\n",
      "{'loss': '2.301', 'epoch': 10, 'train': 'eval'}\n",
      "{'loss': '2.301', 'epoch': 11, 'train': 'train'}\n",
      "{'loss': '2.301', 'epoch': 11, 'train': 'eval'}\n",
      "{'loss': '2.301', 'epoch': 12, 'train': 'train'}\n",
      "{'loss': '2.301', 'epoch': 12, 'train': 'eval'}\n",
      "{'loss': '2.301', 'epoch': 13, 'train': 'train'}\n",
      "{'loss': '2.301', 'epoch': 13, 'train': 'eval'}\n",
      "{'loss': '2.300', 'epoch': 14, 'train': 'train'}\n",
      "{'loss': '2.300', 'epoch': 14, 'train': 'eval'}\n",
      "{'loss': '2.300', 'epoch': 15, 'train': 'train'}\n",
      "{'loss': '2.300', 'epoch': 15, 'train': 'eval'}\n",
      "{'loss': '2.300', 'epoch': 16, 'train': 'train'}\n",
      "{'loss': '2.299', 'epoch': 16, 'train': 'eval'}\n",
      "{'loss': '2.299', 'epoch': 17, 'train': 'train'}\n",
      "{'loss': '2.298', 'epoch': 17, 'train': 'eval'}\n",
      "{'loss': '2.298', 'epoch': 18, 'train': 'train'}\n",
      "{'loss': '2.297', 'epoch': 18, 'train': 'eval'}\n",
      "{'loss': '2.297', 'epoch': 19, 'train': 'train'}\n",
      "{'loss': '2.296', 'epoch': 19, 'train': 'eval'}\n",
      "{'loss': '2.295', 'epoch': 20, 'train': 'train'}\n",
      "{'loss': '2.294', 'epoch': 20, 'train': 'eval'}\n",
      "{'loss': '2.292', 'epoch': 21, 'train': 'train'}\n",
      "{'loss': '2.291', 'epoch': 21, 'train': 'eval'}\n",
      "{'loss': '2.288', 'epoch': 22, 'train': 'train'}\n",
      "{'loss': '2.285', 'epoch': 22, 'train': 'eval'}\n",
      "{'loss': '2.281', 'epoch': 23, 'train': 'train'}\n",
      "{'loss': '2.275', 'epoch': 23, 'train': 'eval'}\n",
      "{'loss': '2.267', 'epoch': 24, 'train': 'train'}\n",
      "{'loss': '2.255', 'epoch': 24, 'train': 'eval'}\n"
     ]
    },
    {
     "data": {
      "application/vnd.jupyter.widget-view+json": {
       "model_id": "8c9e118a50fe421b840baba1c46afdbb",
       "version_major": 2,
       "version_minor": 0
      },
      "text/plain": [
       "VBox(children=(Label(value='0.003 MB of 0.003 MB uploaded\\r'), FloatProgress(value=1.0, max=1.0)))"
      ]
     },
     "metadata": {},
     "output_type": "display_data"
    },
    {
     "data": {
      "text/html": [
       "<style>\n",
       "    table.wandb td:nth-child(1) { padding: 0 10px; text-align: left ; width: auto;} td:nth-child(2) {text-align: left ; width: 100%}\n",
       "    .wandb-row { display: flex; flex-direction: row; flex-wrap: wrap; justify-content: flex-start; width: 100% }\n",
       "    .wandb-col { display: flex; flex-direction: column; flex-basis: 100%; flex: 1; padding: 10px; }\n",
       "    </style>\n",
       "<div class=\"wandb-row\"><div class=\"wandb-col\"><h3>Run history:</h3><br/><table class=\"wandb\"><tr><td>accuracy</td><td>▁▁▁▁▁▁▁▁▂▂▂▁▁▁▁▁▁▁▁▁▁▁▁▁▁▂▂▃▃▃▄▄▅▅▆▇▇▆██</td></tr><tr><td>loss</td><td>█████████████████████████▇▇▇▇▇▇▇▇▇▆▆▅▅▄▁</td></tr><tr><td>lr</td><td>▁▁▁▁▁▁▁▁▁▁▁▁▁▁▁▁▁▁▁▁▁▁▁▁▁▁▁▁▁▁▁▁▁▁▁▁▁▁▁▁</td></tr><tr><td>precision</td><td>▁▁▁▁▁▂▁▃▂▂▁▁▁▂▂▁▁▁▁▁▁▁▁▃▄▄▄▅▄▆▇▇▇▇███▇▇█</td></tr><tr><td>recall</td><td>▁▁▁▁▁▁▁▁▂▂▂▁▁▁▁▁▁▁▁▁▁▁▁▁▁▂▂▃▃▃▄▄▅▅▆▇▇▆██</td></tr><tr><td>test_accuracy</td><td>▂▂▁▁▅▅█</td></tr><tr><td>test_precision</td><td>▃▃▁▁▆▆█</td></tr><tr><td>test_recall</td><td>▂▂▁▁▅▅█</td></tr><tr><td>train_loss</td><td>██████████████▇▇▇▇▇▇▆▆▅▄▁</td></tr><tr><td>val_loss</td><td>█████████████████▇▇▇▇▆▅▄▁</td></tr></table><br/></div><div class=\"wandb-col\"><h3>Run summary:</h3><br/><table class=\"wandb\"><tr><td>accuracy</td><td>0.284</td></tr><tr><td>loss</td><td>2.25406</td></tr><tr><td>lr</td><td>0.01</td></tr><tr><td>precision</td><td>0.26277</td></tr><tr><td>recall</td><td>0.28522</td></tr><tr><td>test_accuracy</td><td>0.2851</td></tr><tr><td>test_precision</td><td>0.26436</td></tr><tr><td>test_recall</td><td>0.2851</td></tr><tr><td>train_loss</td><td>2.267</td></tr><tr><td>val_loss</td><td>2.255</td></tr></table><br/></div></div>"
      ],
      "text/plain": [
       "<IPython.core.display.HTML object>"
      ]
     },
     "metadata": {},
     "output_type": "display_data"
    },
    {
     "data": {
      "text/html": [
       " View run <strong style=\"color:#cdcd00\">baseline</strong> at: <a href='https://wandb.ai/afterhoursbilly/diploma/runs/eyaw9l5o' target=\"_blank\">https://wandb.ai/afterhoursbilly/diploma/runs/eyaw9l5o</a><br/> View project at: <a href='https://wandb.ai/afterhoursbilly/diploma' target=\"_blank\">https://wandb.ai/afterhoursbilly/diploma</a><br/>Synced 5 W&B file(s), 0 media file(s), 0 artifact file(s) and 0 other file(s)"
      ],
      "text/plain": [
       "<IPython.core.display.HTML object>"
      ]
     },
     "metadata": {},
     "output_type": "display_data"
    },
    {
     "data": {
      "text/html": [
       "Find logs at: <code>./wandb/run-20240507_191526-eyaw9l5o/logs</code>"
      ],
      "text/plain": [
       "<IPython.core.display.HTML object>"
      ]
     },
     "metadata": {},
     "output_type": "display_data"
    }
   ],
   "source": [
    "learn.fit(epochs)"
   ]
  },
  {
   "cell_type": "code",
   "execution_count": null,
   "metadata": {},
   "outputs": [
    {
     "data": {
      "image/png": "[encoded data removed]",
      "text/plain": [
       "<Figure size 1100x500 with 24 Axes>"
      ]
     },
     "metadata": {},
     "output_type": "display_data"
    },
    {
     "data": {
      "image/png": "[encoded data removed]",
      "text/plain": [
       "<Figure size 1100x500 with 12 Axes>"
      ]
     },
     "metadata": {},
     "output_type": "display_data"
    },
    {
     "data": {
      "image/png": "[encoded data removed]",
      "text/plain": [
       "<Figure size 1000x400 with 2 Axes>"
      ]
     },
     "metadata": {},
     "output_type": "display_data"
    }
   ],
   "source": [
    "def print_activ():\n",
    "    astats.color_dim()\n",
    "    astats.dead_chart()\n",
    "    astats.plot_stats()\n",
    "print_activ()"
   ]
  },
  {
   "cell_type": "markdown",
   "metadata": {},
   "source": [
    "\n",
    "# Data Normalization\n",
    "\n",
    "Since our model is not training, it is important to normalize the data to ensure that all features are on a similar scale. This helps in improving the performance and convergence of the model during training.\n",
    "\n",
    "To normalize the data, we can..."
   ]
  },
  {
   "cell_type": "code",
   "execution_count": 14,
   "metadata": {},
   "outputs": [
    {
     "data": {
      "text/plain": [
       "(tensor(0.3814), tensor(0.3994))"
      ]
     },
     "execution_count": 14,
     "metadata": {},
     "output_type": "execute_result"
    }
   ],
   "source": [
    "image.mean(), image.std()"
   ]
  },
  {
   "cell_type": "code",
   "execution_count": 15,
   "metadata": {},
   "outputs": [
    {
     "name": "stdout",
     "output_type": "stream",
     "text": [
      "tensor(0.2891) tensor(0.3530)\n"
     ]
    }
   ],
   "source": [
    "xmean,xstd = next(iter(dls.train))[0].mean(), next(iter(dls.train))[0].std()\n",
    "print(xmean, xstd)\n",
    "xmean,xstd = 0.28, 0.35 # values from whole dataset not only one sample "
   ]
  },
  {
   "cell_type": "code",
   "execution_count": 16,
   "metadata": {},
   "outputs": [
    {
     "data": {
      "text/plain": [
       "(tensor(0.0199), tensor(1.0086))"
      ]
     },
     "execution_count": 16,
     "metadata": {},
     "output_type": "execute_result"
    }
   ],
   "source": [
    "@inplace\n",
    "def transformi(b): b['image'] = [(((TF.to_tensor(o)-xmean)/xstd)) for o in b['image']]\n",
    "\n",
    "\n",
    "tds = dataset.with_transform(transformi)\n",
    "dls = DataLoaders.from_dd(tds,batch_size=bs,test=True ,split = 0.1, num_workers=10, pin_memory=True)\n",
    "xb,yb = next(iter(dls.train))\n",
    "xb.mean(), xb.std()"
   ]
  },
  {
   "cell_type": "code",
   "execution_count": 17,
   "metadata": {},
   "outputs": [
    {
     "name": "stdout",
     "output_type": "stream",
     "text": [
      "tensor(-0.2591) tensor(0.5773)\n",
      "tensor(0.7774) tensor(1.2646)\n",
      "tensor(-0.1865) tensor(0.9199)\n",
      "tensor(0.3026) tensor(1.0554)\n",
      "tensor(-0.1090) tensor(0.6640)\n"
     ]
    }
   ],
   "source": [
    "for i in range(5):\n",
    "    print(xb[i].mean(), xb[i].std())"
   ]
  },
  {
   "cell_type": "markdown",
   "metadata": {},
   "source": [
    "Not every image has mean - 0, std - 1, but the whole batch is close to it and this is what mattters.\\\n",
    "\n",
    "### Lets try trainning with normalized input's"
   ]
  },
  {
   "cell_type": "code",
   "execution_count": 18,
   "metadata": {},
   "outputs": [],
   "source": [
    "set_seed(43)"
   ]
  },
  {
   "cell_type": "code",
   "execution_count": 19,
   "metadata": {},
   "outputs": [],
   "source": [
    "#astats = ActivationStats(fc.risinstance(GeneralRelu))\n",
    "wandbcb =  WandBCB(config={'lr':lr, 'epochs':epochs, 'bs':bs, 'name':'NormalizedInput_v2'}, project='diploma')\n",
    "cbs = [DeviceCB('cuda'), metrics, ProgressCB(plot=True), wandbcb]\n",
    "model = get_model()\n",
    "learn = TrainLearner(model, dls, F.cross_entropy, lr=lr, cbs=cbs)"
   ]
  },
  {
   "cell_type": "code",
   "execution_count": 26,
   "metadata": {},
   "outputs": [
    {
     "data": {
      "text/html": [
       "Tracking run with wandb version 0.16.6"
      ],
      "text/plain": [
       "<IPython.core.display.HTML object>"
      ]
     },
     "metadata": {},
     "output_type": "display_data"
    },
    {
     "data": {
      "text/html": [
       "Run data is saved locally in <code>/home/billy/diploma/wandb/run-20240507_213611-y2wnncoo</code>"
      ],
      "text/plain": [
       "<IPython.core.display.HTML object>"
      ]
     },
     "metadata": {},
     "output_type": "display_data"
    },
    {
     "data": {
      "text/html": [
       "Syncing run <strong><a href='https://wandb.ai/afterhoursbilly/diploma/runs/y2wnncoo' target=\"_blank\">NormalizedInput_v2</a></strong> to <a href='https://wandb.ai/afterhoursbilly/diploma' target=\"_blank\">Weights & Biases</a> (<a href='https://wandb.me/run' target=\"_blank\">docs</a>)<br/>"
      ],
      "text/plain": [
       "<IPython.core.display.HTML object>"
      ]
     },
     "metadata": {},
     "output_type": "display_data"
    },
    {
     "data": {
      "text/html": [
       " View project at <a href='https://wandb.ai/afterhoursbilly/diploma' target=\"_blank\">https://wandb.ai/afterhoursbilly/diploma</a>"
      ],
      "text/plain": [
       "<IPython.core.display.HTML object>"
      ]
     },
     "metadata": {},
     "output_type": "display_data"
    },
    {
     "data": {
      "text/html": [
       " View run at <a href='https://wandb.ai/afterhoursbilly/diploma/runs/y2wnncoo' target=\"_blank\">https://wandb.ai/afterhoursbilly/diploma/runs/y2wnncoo</a>"
      ],
      "text/plain": [
       "<IPython.core.display.HTML object>"
      ]
     },
     "metadata": {},
     "output_type": "display_data"
    },
    {
     "data": {
      "text/html": [
       "\n",
       "<style>\n",
       "    /* Turns off some styling */\n",
       "    progress {\n",
       "        /* gets rid of default border in Firefox and Opera. */\n",
       "        border: none;\n",
       "        /* Needs to be in here for Safari polyfill so background images work as expected. */\n",
       "        background-size: auto;\n",
       "    }\n",
       "    progress:not([value]), progress:not([value])::-webkit-progress-bar {\n",
       "        background: repeating-linear-gradient(45deg, #7e7e7e, #7e7e7e 10px, #5c5c5c 10px, #5c5c5c 20px);\n",
       "    }\n",
       "    .progress-bar-interrupted, .progress-bar-interrupted::-webkit-progress-bar {\n",
       "        background: #F44336;\n",
       "    }\n",
       "</style>\n"
      ],
      "text/plain": [
       "<IPython.core.display.HTML object>"
      ]
     },
     "metadata": {},
     "output_type": "display_data"
    },
    {
     "data": {
      "text/html": [
       "<table border=\"1\" class=\"dataframe\">\n",
       "  <thead>\n",
       "    <tr style=\"text-align: left;\">\n",
       "      <th>accuracy</th>\n",
       "      <th>precision</th>\n",
       "      <th>recall</th>\n",
       "      <th>loss</th>\n",
       "      <th>epoch</th>\n",
       "      <th>train</th>\n",
       "    </tr>\n",
       "  </thead>\n",
       "  <tbody>\n",
       "    <tr>\n",
       "      <td>0.100</td>\n",
       "      <td>0.010</td>\n",
       "      <td>0.100</td>\n",
       "      <td>2.303</td>\n",
       "      <td>0</td>\n",
       "      <td>train</td>\n",
       "    </tr>\n",
       "    <tr>\n",
       "      <td>0.099</td>\n",
       "      <td>0.010</td>\n",
       "      <td>0.100</td>\n",
       "      <td>2.303</td>\n",
       "      <td>0</td>\n",
       "      <td>eval</td>\n",
       "    </tr>\n",
       "    <tr>\n",
       "      <td>0.100</td>\n",
       "      <td>0.010</td>\n",
       "      <td>0.100</td>\n",
       "      <td>2.303</td>\n",
       "      <td>1</td>\n",
       "      <td>train</td>\n",
       "    </tr>\n",
       "    <tr>\n",
       "      <td>0.099</td>\n",
       "      <td>0.010</td>\n",
       "      <td>0.100</td>\n",
       "      <td>2.303</td>\n",
       "      <td>1</td>\n",
       "      <td>eval</td>\n",
       "    </tr>\n",
       "    <tr>\n",
       "      <td>0.100</td>\n",
       "      <td>0.010</td>\n",
       "      <td>0.100</td>\n",
       "      <td>2.302</td>\n",
       "      <td>2</td>\n",
       "      <td>train</td>\n",
       "    </tr>\n",
       "    <tr>\n",
       "      <td>0.099</td>\n",
       "      <td>0.010</td>\n",
       "      <td>0.100</td>\n",
       "      <td>2.303</td>\n",
       "      <td>2</td>\n",
       "      <td>eval</td>\n",
       "    </tr>\n",
       "    <tr>\n",
       "      <td>0.100</td>\n",
       "      <td>0.010</td>\n",
       "      <td>0.100</td>\n",
       "      <td>2.302</td>\n",
       "      <td>3</td>\n",
       "      <td>train</td>\n",
       "    </tr>\n",
       "    <tr>\n",
       "      <td>0.099</td>\n",
       "      <td>0.010</td>\n",
       "      <td>0.100</td>\n",
       "      <td>2.302</td>\n",
       "      <td>3</td>\n",
       "      <td>eval</td>\n",
       "    </tr>\n",
       "    <tr>\n",
       "      <td>0.100</td>\n",
       "      <td>0.010</td>\n",
       "      <td>0.100</td>\n",
       "      <td>2.302</td>\n",
       "      <td>4</td>\n",
       "      <td>train</td>\n",
       "    </tr>\n",
       "    <tr>\n",
       "      <td>0.099</td>\n",
       "      <td>0.010</td>\n",
       "      <td>0.100</td>\n",
       "      <td>2.302</td>\n",
       "      <td>4</td>\n",
       "      <td>eval</td>\n",
       "    </tr>\n",
       "    <tr>\n",
       "      <td>0.100</td>\n",
       "      <td>0.010</td>\n",
       "      <td>0.100</td>\n",
       "      <td>2.302</td>\n",
       "      <td>5</td>\n",
       "      <td>train</td>\n",
       "    </tr>\n",
       "    <tr>\n",
       "      <td>0.099</td>\n",
       "      <td>0.010</td>\n",
       "      <td>0.100</td>\n",
       "      <td>2.302</td>\n",
       "      <td>5</td>\n",
       "      <td>eval</td>\n",
       "    </tr>\n",
       "    <tr>\n",
       "      <td>0.100</td>\n",
       "      <td>0.010</td>\n",
       "      <td>0.100</td>\n",
       "      <td>2.302</td>\n",
       "      <td>6</td>\n",
       "      <td>train</td>\n",
       "    </tr>\n",
       "    <tr>\n",
       "      <td>0.099</td>\n",
       "      <td>0.010</td>\n",
       "      <td>0.100</td>\n",
       "      <td>2.302</td>\n",
       "      <td>6</td>\n",
       "      <td>eval</td>\n",
       "    </tr>\n",
       "    <tr>\n",
       "      <td>0.100</td>\n",
       "      <td>0.010</td>\n",
       "      <td>0.100</td>\n",
       "      <td>2.302</td>\n",
       "      <td>7</td>\n",
       "      <td>train</td>\n",
       "    </tr>\n",
       "    <tr>\n",
       "      <td>0.099</td>\n",
       "      <td>0.010</td>\n",
       "      <td>0.100</td>\n",
       "      <td>2.302</td>\n",
       "      <td>7</td>\n",
       "      <td>eval</td>\n",
       "    </tr>\n",
       "    <tr>\n",
       "      <td>0.100</td>\n",
       "      <td>0.010</td>\n",
       "      <td>0.100</td>\n",
       "      <td>2.302</td>\n",
       "      <td>8</td>\n",
       "      <td>train</td>\n",
       "    </tr>\n",
       "    <tr>\n",
       "      <td>0.099</td>\n",
       "      <td>0.010</td>\n",
       "      <td>0.100</td>\n",
       "      <td>2.302</td>\n",
       "      <td>8</td>\n",
       "      <td>eval</td>\n",
       "    </tr>\n",
       "    <tr>\n",
       "      <td>0.108</td>\n",
       "      <td>0.065</td>\n",
       "      <td>0.107</td>\n",
       "      <td>2.302</td>\n",
       "      <td>9</td>\n",
       "      <td>train</td>\n",
       "    </tr>\n",
       "    <tr>\n",
       "      <td>0.133</td>\n",
       "      <td>0.060</td>\n",
       "      <td>0.136</td>\n",
       "      <td>2.302</td>\n",
       "      <td>9</td>\n",
       "      <td>eval</td>\n",
       "    </tr>\n",
       "    <tr>\n",
       "      <td>0.145</td>\n",
       "      <td>0.056</td>\n",
       "      <td>0.145</td>\n",
       "      <td>2.302</td>\n",
       "      <td>10</td>\n",
       "      <td>train</td>\n",
       "    </tr>\n",
       "    <tr>\n",
       "      <td>0.156</td>\n",
       "      <td>0.043</td>\n",
       "      <td>0.159</td>\n",
       "      <td>2.302</td>\n",
       "      <td>10</td>\n",
       "      <td>eval</td>\n",
       "    </tr>\n",
       "    <tr>\n",
       "      <td>0.164</td>\n",
       "      <td>0.043</td>\n",
       "      <td>0.164</td>\n",
       "      <td>2.301</td>\n",
       "      <td>11</td>\n",
       "      <td>train</td>\n",
       "    </tr>\n",
       "    <tr>\n",
       "      <td>0.166</td>\n",
       "      <td>0.037</td>\n",
       "      <td>0.170</td>\n",
       "      <td>2.301</td>\n",
       "      <td>11</td>\n",
       "      <td>eval</td>\n",
       "    </tr>\n",
       "    <tr>\n",
       "      <td>0.167</td>\n",
       "      <td>0.041</td>\n",
       "      <td>0.167</td>\n",
       "      <td>2.301</td>\n",
       "      <td>12</td>\n",
       "      <td>train</td>\n",
       "    </tr>\n",
       "    <tr>\n",
       "      <td>0.168</td>\n",
       "      <td>0.035</td>\n",
       "      <td>0.172</td>\n",
       "      <td>2.301</td>\n",
       "      <td>12</td>\n",
       "      <td>eval</td>\n",
       "    </tr>\n",
       "    <tr>\n",
       "      <td>0.173</td>\n",
       "      <td>0.035</td>\n",
       "      <td>0.173</td>\n",
       "      <td>2.301</td>\n",
       "      <td>13</td>\n",
       "      <td>train</td>\n",
       "    </tr>\n",
       "    <tr>\n",
       "      <td>0.167</td>\n",
       "      <td>0.034</td>\n",
       "      <td>0.171</td>\n",
       "      <td>2.301</td>\n",
       "      <td>13</td>\n",
       "      <td>eval</td>\n",
       "    </tr>\n",
       "    <tr>\n",
       "      <td>0.174</td>\n",
       "      <td>0.035</td>\n",
       "      <td>0.173</td>\n",
       "      <td>2.301</td>\n",
       "      <td>14</td>\n",
       "      <td>train</td>\n",
       "    </tr>\n",
       "    <tr>\n",
       "      <td>0.167</td>\n",
       "      <td>0.133</td>\n",
       "      <td>0.171</td>\n",
       "      <td>2.301</td>\n",
       "      <td>14</td>\n",
       "      <td>eval</td>\n",
       "    </tr>\n",
       "    <tr>\n",
       "      <td>0.176</td>\n",
       "      <td>0.124</td>\n",
       "      <td>0.175</td>\n",
       "      <td>2.300</td>\n",
       "      <td>15</td>\n",
       "      <td>train</td>\n",
       "    </tr>\n",
       "    <tr>\n",
       "      <td>0.170</td>\n",
       "      <td>0.150</td>\n",
       "      <td>0.174</td>\n",
       "      <td>2.300</td>\n",
       "      <td>15</td>\n",
       "      <td>eval</td>\n",
       "    </tr>\n",
       "    <tr>\n",
       "      <td>0.193</td>\n",
       "      <td>0.218</td>\n",
       "      <td>0.192</td>\n",
       "      <td>2.300</td>\n",
       "      <td>16</td>\n",
       "      <td>train</td>\n",
       "    </tr>\n",
       "    <tr>\n",
       "      <td>0.189</td>\n",
       "      <td>0.221</td>\n",
       "      <td>0.194</td>\n",
       "      <td>2.300</td>\n",
       "      <td>16</td>\n",
       "      <td>eval</td>\n",
       "    </tr>\n",
       "    <tr>\n",
       "      <td>0.204</td>\n",
       "      <td>0.204</td>\n",
       "      <td>0.204</td>\n",
       "      <td>2.300</td>\n",
       "      <td>17</td>\n",
       "      <td>train</td>\n",
       "    </tr>\n",
       "    <tr>\n",
       "      <td>0.233</td>\n",
       "      <td>0.215</td>\n",
       "      <td>0.239</td>\n",
       "      <td>2.299</td>\n",
       "      <td>17</td>\n",
       "      <td>eval</td>\n",
       "    </tr>\n",
       "    <tr>\n",
       "      <td>0.247</td>\n",
       "      <td>0.207</td>\n",
       "      <td>0.246</td>\n",
       "      <td>2.299</td>\n",
       "      <td>18</td>\n",
       "      <td>train</td>\n",
       "    </tr>\n",
       "    <tr>\n",
       "      <td>0.234</td>\n",
       "      <td>0.206</td>\n",
       "      <td>0.239</td>\n",
       "      <td>2.299</td>\n",
       "      <td>18</td>\n",
       "      <td>eval</td>\n",
       "    </tr>\n",
       "    <tr>\n",
       "      <td>0.238</td>\n",
       "      <td>0.190</td>\n",
       "      <td>0.238</td>\n",
       "      <td>2.298</td>\n",
       "      <td>19</td>\n",
       "      <td>train</td>\n",
       "    </tr>\n",
       "    <tr>\n",
       "      <td>0.245</td>\n",
       "      <td>0.197</td>\n",
       "      <td>0.251</td>\n",
       "      <td>2.298</td>\n",
       "      <td>19</td>\n",
       "      <td>eval</td>\n",
       "    </tr>\n",
       "    <tr>\n",
       "      <td>0.249</td>\n",
       "      <td>0.185</td>\n",
       "      <td>0.248</td>\n",
       "      <td>2.297</td>\n",
       "      <td>20</td>\n",
       "      <td>train</td>\n",
       "    </tr>\n",
       "    <tr>\n",
       "      <td>0.248</td>\n",
       "      <td>0.147</td>\n",
       "      <td>0.253</td>\n",
       "      <td>2.296</td>\n",
       "      <td>20</td>\n",
       "      <td>eval</td>\n",
       "    </tr>\n",
       "    <tr>\n",
       "      <td>0.256</td>\n",
       "      <td>0.156</td>\n",
       "      <td>0.255</td>\n",
       "      <td>2.295</td>\n",
       "      <td>21</td>\n",
       "      <td>train</td>\n",
       "    </tr>\n",
       "    <tr>\n",
       "      <td>0.243</td>\n",
       "      <td>0.127</td>\n",
       "      <td>0.249</td>\n",
       "      <td>2.294</td>\n",
       "      <td>21</td>\n",
       "      <td>eval</td>\n",
       "    </tr>\n",
       "    <tr>\n",
       "      <td>0.253</td>\n",
       "      <td>0.186</td>\n",
       "      <td>0.252</td>\n",
       "      <td>2.292</td>\n",
       "      <td>22</td>\n",
       "      <td>train</td>\n",
       "    </tr>\n",
       "    <tr>\n",
       "      <td>0.249</td>\n",
       "      <td>0.136</td>\n",
       "      <td>0.255</td>\n",
       "      <td>2.291</td>\n",
       "      <td>22</td>\n",
       "      <td>eval</td>\n",
       "    </tr>\n",
       "    <tr>\n",
       "      <td>0.257</td>\n",
       "      <td>0.172</td>\n",
       "      <td>0.256</td>\n",
       "      <td>2.288</td>\n",
       "      <td>23</td>\n",
       "      <td>train</td>\n",
       "    </tr>\n",
       "    <tr>\n",
       "      <td>0.250</td>\n",
       "      <td>0.237</td>\n",
       "      <td>0.256</td>\n",
       "      <td>2.285</td>\n",
       "      <td>23</td>\n",
       "      <td>eval</td>\n",
       "    </tr>\n",
       "    <tr>\n",
       "      <td>0.258</td>\n",
       "      <td>0.252</td>\n",
       "      <td>0.257</td>\n",
       "      <td>2.280</td>\n",
       "      <td>24</td>\n",
       "      <td>train</td>\n",
       "    </tr>\n",
       "    <tr>\n",
       "      <td>0.256</td>\n",
       "      <td>0.238</td>\n",
       "      <td>0.262</td>\n",
       "      <td>2.274</td>\n",
       "      <td>24</td>\n",
       "      <td>eval</td>\n",
       "    </tr>\n",
       "  </tbody>\n",
       "</table>"
      ],
      "text/plain": [
       "<IPython.core.display.HTML object>"
      ]
     },
     "metadata": {},
     "output_type": "display_data"
    },
    {
     "name": "stdout",
     "output_type": "stream",
     "text": [
      "{'loss': '2.303', 'epoch': 0, 'train': 'train'}\n"
     ]
    },
    {
     "data": {
      "image/png": "[encoded data removed]",
      "text/plain": [
       "<Figure size 600x400 with 1 Axes>"
      ]
     },
     "metadata": {},
     "output_type": "display_data"
    },
    {
     "name": "stdout",
     "output_type": "stream",
     "text": [
      "{'loss': '2.303', 'epoch': 0, 'train': 'eval'}\n",
      "{'loss': '2.303', 'epoch': 1, 'train': 'train'}\n",
      "{'loss': '2.303', 'epoch': 1, 'train': 'eval'}\n",
      "{'loss': '2.302', 'epoch': 2, 'train': 'train'}\n",
      "{'loss': '2.303', 'epoch': 2, 'train': 'eval'}\n",
      "{'loss': '2.302', 'epoch': 3, 'train': 'train'}\n",
      "{'loss': '2.302', 'epoch': 3, 'train': 'eval'}\n",
      "{'loss': '2.302', 'epoch': 4, 'train': 'train'}\n",
      "{'loss': '2.302', 'epoch': 4, 'train': 'eval'}\n",
      "{'loss': '2.302', 'epoch': 5, 'train': 'train'}\n",
      "{'loss': '2.302', 'epoch': 5, 'train': 'eval'}\n",
      "{'loss': '2.302', 'epoch': 6, 'train': 'train'}\n",
      "{'loss': '2.302', 'epoch': 6, 'train': 'eval'}\n",
      "{'loss': '2.302', 'epoch': 7, 'train': 'train'}\n",
      "{'loss': '2.302', 'epoch': 7, 'train': 'eval'}\n",
      "{'loss': '2.302', 'epoch': 8, 'train': 'train'}\n",
      "{'loss': '2.302', 'epoch': 8, 'train': 'eval'}\n",
      "{'loss': '2.302', 'epoch': 9, 'train': 'train'}\n",
      "{'loss': '2.302', 'epoch': 9, 'train': 'eval'}\n",
      "{'loss': '2.302', 'epoch': 10, 'train': 'train'}\n",
      "{'loss': '2.302', 'epoch': 10, 'train': 'eval'}\n",
      "{'loss': '2.301', 'epoch': 11, 'train': 'train'}\n",
      "{'loss': '2.301', 'epoch': 11, 'train': 'eval'}\n",
      "{'loss': '2.301', 'epoch': 12, 'train': 'train'}\n",
      "{'loss': '2.301', 'epoch': 12, 'train': 'eval'}\n",
      "{'loss': '2.301', 'epoch': 13, 'train': 'train'}\n",
      "{'loss': '2.301', 'epoch': 13, 'train': 'eval'}\n",
      "{'loss': '2.301', 'epoch': 14, 'train': 'train'}\n",
      "{'loss': '2.301', 'epoch': 14, 'train': 'eval'}\n",
      "{'loss': '2.300', 'epoch': 15, 'train': 'train'}\n",
      "{'loss': '2.300', 'epoch': 15, 'train': 'eval'}\n",
      "{'loss': '2.300', 'epoch': 16, 'train': 'train'}\n",
      "{'loss': '2.300', 'epoch': 16, 'train': 'eval'}\n",
      "{'loss': '2.300', 'epoch': 17, 'train': 'train'}\n",
      "{'loss': '2.299', 'epoch': 17, 'train': 'eval'}\n",
      "{'loss': '2.299', 'epoch': 18, 'train': 'train'}\n",
      "{'loss': '2.299', 'epoch': 18, 'train': 'eval'}\n",
      "{'loss': '2.298', 'epoch': 19, 'train': 'train'}\n",
      "{'loss': '2.298', 'epoch': 19, 'train': 'eval'}\n",
      "{'loss': '2.297', 'epoch': 20, 'train': 'train'}\n",
      "{'loss': '2.296', 'epoch': 20, 'train': 'eval'}\n",
      "{'loss': '2.295', 'epoch': 21, 'train': 'train'}\n",
      "{'loss': '2.294', 'epoch': 21, 'train': 'eval'}\n",
      "{'loss': '2.292', 'epoch': 22, 'train': 'train'}\n",
      "{'loss': '2.291', 'epoch': 22, 'train': 'eval'}\n",
      "{'loss': '2.288', 'epoch': 23, 'train': 'train'}\n",
      "{'loss': '2.285', 'epoch': 23, 'train': 'eval'}\n",
      "{'loss': '2.280', 'epoch': 24, 'train': 'train'}\n",
      "{'loss': '2.274', 'epoch': 24, 'train': 'eval'}\n"
     ]
    },
    {
     "data": {
      "application/vnd.jupyter.widget-view+json": {
       "model_id": "504d0954c7fd4009af25378d61bd1392",
       "version_major": 2,
       "version_minor": 0
      },
      "text/plain": [
       "VBox(children=(Label(value='0.003 MB of 0.006 MB uploaded\\r'), FloatProgress(value=0.4393530997304582, max=1.0…"
      ]
     },
     "metadata": {},
     "output_type": "display_data"
    },
    {
     "data": {
      "text/html": [
       "<style>\n",
       "    table.wandb td:nth-child(1) { padding: 0 10px; text-align: left ; width: auto;} td:nth-child(2) {text-align: left ; width: 100%}\n",
       "    .wandb-row { display: flex; flex-direction: row; flex-wrap: wrap; justify-content: flex-start; width: 100% }\n",
       "    .wandb-col { display: flex; flex-direction: column; flex-basis: 100%; flex: 1; padding: 10px; }\n",
       "    </style>\n",
       "<div class=\"wandb-row\"><div class=\"wandb-col\"><h3>Run history:</h3><br/><table class=\"wandb\"><tr><td>accuracy</td><td>▁▁▁▁▁▁▁▁▁▁▁▁▁▁▁▁▃▃▄▄▄▄▄▄▄▄▄▅▆▇▇▇▇███████</td></tr><tr><td>loss</td><td>███████████████▇▇▇▇█▇▇▇▇▇▇▇▇▇▇▇▆▆▆▆▅▅▄▄▁</td></tr><tr><td>lr</td><td>▁▁▁▁▁▁▁▁▁▁▁▁▁▁▁▁▁▁▁▁▁▁▁▁▁▁▁▁▁▁▁▁▁▁▁▁▁▁▁▁</td></tr><tr><td>precision</td><td>▁▁▁▁▁▁▁▁▁▁▁▁▁▁▁▃▂▂▂▂▂▂▂▂▂▅██▇▇▆▇▇▆▅▆▆▆██</td></tr><tr><td>recall</td><td>▁▁▁▁▁▁▁▁▁▁▁▁▁▁▁▁▃▃▄▄▄▄▄▄▄▄▄▅▆▇▇▇▇███████</td></tr><tr><td>test_accuracy</td><td>▁▁▃▃▇▇█</td></tr><tr><td>test_precision</td><td>▁▁▃▃▇▇█</td></tr><tr><td>test_recall</td><td>▁▁▃▃▇▇█</td></tr><tr><td>train_loss</td><td>███████████▇▇▇▇▇▇▇▇▆▆▆▅▃▁</td></tr><tr><td>val_loss</td><td>███████████████▇▇▇▇▇▆▆▅▄▁</td></tr></table><br/></div><div class=\"wandb-col\"><h3>Run summary:</h3><br/><table class=\"wandb\"><tr><td>accuracy</td><td>0.256</td></tr><tr><td>loss</td><td>2.27552</td></tr><tr><td>lr</td><td>0.01</td></tr><tr><td>precision</td><td>0.23769</td></tr><tr><td>recall</td><td>0.26156</td></tr><tr><td>test_accuracy</td><td>0.2634</td></tr><tr><td>test_precision</td><td>0.24527</td></tr><tr><td>test_recall</td><td>0.2634</td></tr><tr><td>train_loss</td><td>2.28</td></tr><tr><td>val_loss</td><td>2.274</td></tr></table><br/></div></div>"
      ],
      "text/plain": [
       "<IPython.core.display.HTML object>"
      ]
     },
     "metadata": {},
     "output_type": "display_data"
    },
    {
     "data": {
      "text/html": [
       " View run <strong style=\"color:#cdcd00\">NormalizedInput_v2</strong> at: <a href='https://wandb.ai/afterhoursbilly/diploma/runs/y2wnncoo' target=\"_blank\">https://wandb.ai/afterhoursbilly/diploma/runs/y2wnncoo</a><br/> View project at: <a href='https://wandb.ai/afterhoursbilly/diploma' target=\"_blank\">https://wandb.ai/afterhoursbilly/diploma</a><br/>Synced 5 W&B file(s), 0 media file(s), 0 artifact file(s) and 0 other file(s)"
      ],
      "text/plain": [
       "<IPython.core.display.HTML object>"
      ]
     },
     "metadata": {},
     "output_type": "display_data"
    },
    {
     "data": {
      "text/html": [
       "Find logs at: <code>./wandb/run-20240507_213611-y2wnncoo/logs</code>"
      ],
      "text/plain": [
       "<IPython.core.display.HTML object>"
      ]
     },
     "metadata": {},
     "output_type": "display_data"
    }
   ],
   "source": [
    "learn.fit(epochs)"
   ]
  },
  {
   "cell_type": "markdown",
   "metadata": {},
   "source": [
    "Here we can see that some of our activation are starting to move but the mean and std are still incorect. \\\n",
    "The reason is it dosn't matter that our input are normalized if are weight are not and after layer we lose the normalization.\n",
    "The solution is to initialize our weight and not use random weights(the ones we were using before)."
   ]
  },
  {
   "cell_type": "code",
   "execution_count": 20,
   "metadata": {},
   "outputs": [],
   "source": [
    "def init_weights(m, leaky=0.):\n",
    "    if isinstance(m, (nn.Conv1d,nn.Conv2d,nn.Conv3d)): init.kaiming_normal_(m.weight, a=leaky)"
   ]
  },
  {
   "cell_type": "code",
   "execution_count": 21,
   "metadata": {},
   "outputs": [],
   "source": [
    "#astats = ActivationStats(fc.risinstance(GeneralRelu))\n",
    "wandbcb =  WandBCB(config={'lr':lr, 'epochs':epochs, 'bs':bs, 'name':'Inited Weights'}, project='diploma')\n",
    "cbs = [DeviceCB('cuda'), metrics, ProgressCB(plot=True), wandbcb]\n",
    "iw = partial(init_weights)\n",
    "model = get_model().apply(iw)\n",
    "learn = TrainLearner(model, dls, F.cross_entropy, lr=lr, cbs=cbs)"
   ]
  },
  {
   "cell_type": "code",
   "execution_count": 29,
   "metadata": {},
   "outputs": [
    {
     "data": {
      "text/html": [
       "Tracking run with wandb version 0.16.6"
      ],
      "text/plain": [
       "<IPython.core.display.HTML object>"
      ]
     },
     "metadata": {},
     "output_type": "display_data"
    },
    {
     "data": {
      "text/html": [
       "Run data is saved locally in <code>/home/billy/diploma/wandb/run-20240507_220021-vphoux14</code>"
      ],
      "text/plain": [
       "<IPython.core.display.HTML object>"
      ]
     },
     "metadata": {},
     "output_type": "display_data"
    },
    {
     "data": {
      "text/html": [
       "Syncing run <strong><a href='https://wandb.ai/afterhoursbilly/diploma/runs/vphoux14' target=\"_blank\">Inited Weights</a></strong> to <a href='https://wandb.ai/afterhoursbilly/diploma' target=\"_blank\">Weights & Biases</a> (<a href='https://wandb.me/run' target=\"_blank\">docs</a>)<br/>"
      ],
      "text/plain": [
       "<IPython.core.display.HTML object>"
      ]
     },
     "metadata": {},
     "output_type": "display_data"
    },
    {
     "data": {
      "text/html": [
       " View project at <a href='https://wandb.ai/afterhoursbilly/diploma' target=\"_blank\">https://wandb.ai/afterhoursbilly/diploma</a>"
      ],
      "text/plain": [
       "<IPython.core.display.HTML object>"
      ]
     },
     "metadata": {},
     "output_type": "display_data"
    },
    {
     "data": {
      "text/html": [
       " View run at <a href='https://wandb.ai/afterhoursbilly/diploma/runs/vphoux14' target=\"_blank\">https://wandb.ai/afterhoursbilly/diploma/runs/vphoux14</a>"
      ],
      "text/plain": [
       "<IPython.core.display.HTML object>"
      ]
     },
     "metadata": {},
     "output_type": "display_data"
    },
    {
     "data": {
      "text/html": [
       "\n",
       "<style>\n",
       "    /* Turns off some styling */\n",
       "    progress {\n",
       "        /* gets rid of default border in Firefox and Opera. */\n",
       "        border: none;\n",
       "        /* Needs to be in here for Safari polyfill so background images work as expected. */\n",
       "        background-size: auto;\n",
       "    }\n",
       "    progress:not([value]), progress:not([value])::-webkit-progress-bar {\n",
       "        background: repeating-linear-gradient(45deg, #7e7e7e, #7e7e7e 10px, #5c5c5c 10px, #5c5c5c 20px);\n",
       "    }\n",
       "    .progress-bar-interrupted, .progress-bar-interrupted::-webkit-progress-bar {\n",
       "        background: #F44336;\n",
       "    }\n",
       "</style>\n"
      ],
      "text/plain": [
       "<IPython.core.display.HTML object>"
      ]
     },
     "metadata": {},
     "output_type": "display_data"
    },
    {
     "data": {
      "text/html": [
       "<table border=\"1\" class=\"dataframe\">\n",
       "  <thead>\n",
       "    <tr style=\"text-align: left;\">\n",
       "      <th>accuracy</th>\n",
       "      <th>precision</th>\n",
       "      <th>recall</th>\n",
       "      <th>loss</th>\n",
       "      <th>epoch</th>\n",
       "      <th>train</th>\n",
       "    </tr>\n",
       "  </thead>\n",
       "  <tbody>\n",
       "    <tr>\n",
       "      <td>0.587</td>\n",
       "      <td>0.578</td>\n",
       "      <td>0.587</td>\n",
       "      <td>1.403</td>\n",
       "      <td>0</td>\n",
       "      <td>train</td>\n",
       "    </tr>\n",
       "    <tr>\n",
       "      <td>0.650</td>\n",
       "      <td>0.714</td>\n",
       "      <td>0.645</td>\n",
       "      <td>0.943</td>\n",
       "      <td>0</td>\n",
       "      <td>eval</td>\n",
       "    </tr>\n",
       "    <tr>\n",
       "      <td>0.743</td>\n",
       "      <td>0.740</td>\n",
       "      <td>0.743</td>\n",
       "      <td>0.693</td>\n",
       "      <td>1</td>\n",
       "      <td>train</td>\n",
       "    </tr>\n",
       "    <tr>\n",
       "      <td>0.751</td>\n",
       "      <td>0.785</td>\n",
       "      <td>0.752</td>\n",
       "      <td>0.656</td>\n",
       "      <td>1</td>\n",
       "      <td>eval</td>\n",
       "    </tr>\n",
       "    <tr>\n",
       "      <td>0.789</td>\n",
       "      <td>0.786</td>\n",
       "      <td>0.789</td>\n",
       "      <td>0.570</td>\n",
       "      <td>2</td>\n",
       "      <td>train</td>\n",
       "    </tr>\n",
       "    <tr>\n",
       "      <td>0.758</td>\n",
       "      <td>0.808</td>\n",
       "      <td>0.757</td>\n",
       "      <td>0.638</td>\n",
       "      <td>2</td>\n",
       "      <td>eval</td>\n",
       "    </tr>\n",
       "    <tr>\n",
       "      <td>0.810</td>\n",
       "      <td>0.807</td>\n",
       "      <td>0.810</td>\n",
       "      <td>0.511</td>\n",
       "      <td>3</td>\n",
       "      <td>train</td>\n",
       "    </tr>\n",
       "    <tr>\n",
       "      <td>0.759</td>\n",
       "      <td>0.810</td>\n",
       "      <td>0.762</td>\n",
       "      <td>0.596</td>\n",
       "      <td>3</td>\n",
       "      <td>eval</td>\n",
       "    </tr>\n",
       "    <tr>\n",
       "      <td>0.830</td>\n",
       "      <td>0.828</td>\n",
       "      <td>0.830</td>\n",
       "      <td>0.462</td>\n",
       "      <td>4</td>\n",
       "      <td>train</td>\n",
       "    </tr>\n",
       "    <tr>\n",
       "      <td>0.830</td>\n",
       "      <td>0.853</td>\n",
       "      <td>0.829</td>\n",
       "      <td>0.457</td>\n",
       "      <td>4</td>\n",
       "      <td>eval</td>\n",
       "    </tr>\n",
       "    <tr>\n",
       "      <td>0.841</td>\n",
       "      <td>0.839</td>\n",
       "      <td>0.841</td>\n",
       "      <td>0.434</td>\n",
       "      <td>5</td>\n",
       "      <td>train</td>\n",
       "    </tr>\n",
       "    <tr>\n",
       "      <td>0.814</td>\n",
       "      <td>0.845</td>\n",
       "      <td>0.816</td>\n",
       "      <td>0.527</td>\n",
       "      <td>5</td>\n",
       "      <td>eval</td>\n",
       "    </tr>\n",
       "    <tr>\n",
       "      <td>0.850</td>\n",
       "      <td>0.848</td>\n",
       "      <td>0.850</td>\n",
       "      <td>0.408</td>\n",
       "      <td>6</td>\n",
       "      <td>train</td>\n",
       "    </tr>\n",
       "    <tr>\n",
       "      <td>0.857</td>\n",
       "      <td>0.859</td>\n",
       "      <td>0.858</td>\n",
       "      <td>0.400</td>\n",
       "      <td>6</td>\n",
       "      <td>eval</td>\n",
       "    </tr>\n",
       "    <tr>\n",
       "      <td>0.859</td>\n",
       "      <td>0.857</td>\n",
       "      <td>0.859</td>\n",
       "      <td>0.383</td>\n",
       "      <td>7</td>\n",
       "      <td>train</td>\n",
       "    </tr>\n",
       "    <tr>\n",
       "      <td>0.862</td>\n",
       "      <td>0.864</td>\n",
       "      <td>0.863</td>\n",
       "      <td>0.394</td>\n",
       "      <td>7</td>\n",
       "      <td>eval</td>\n",
       "    </tr>\n",
       "    <tr>\n",
       "      <td>0.865</td>\n",
       "      <td>0.864</td>\n",
       "      <td>0.865</td>\n",
       "      <td>0.366</td>\n",
       "      <td>8</td>\n",
       "      <td>train</td>\n",
       "    </tr>\n",
       "    <tr>\n",
       "      <td>0.851</td>\n",
       "      <td>0.867</td>\n",
       "      <td>0.851</td>\n",
       "      <td>0.406</td>\n",
       "      <td>8</td>\n",
       "      <td>eval</td>\n",
       "    </tr>\n",
       "    <tr>\n",
       "      <td>0.870</td>\n",
       "      <td>0.869</td>\n",
       "      <td>0.870</td>\n",
       "      <td>0.354</td>\n",
       "      <td>9</td>\n",
       "      <td>train</td>\n",
       "    </tr>\n",
       "    <tr>\n",
       "      <td>0.865</td>\n",
       "      <td>0.878</td>\n",
       "      <td>0.865</td>\n",
       "      <td>0.372</td>\n",
       "      <td>9</td>\n",
       "      <td>eval</td>\n",
       "    </tr>\n",
       "    <tr>\n",
       "      <td>0.873</td>\n",
       "      <td>0.872</td>\n",
       "      <td>0.873</td>\n",
       "      <td>0.345</td>\n",
       "      <td>10</td>\n",
       "      <td>train</td>\n",
       "    </tr>\n",
       "    <tr>\n",
       "      <td>0.870</td>\n",
       "      <td>0.878</td>\n",
       "      <td>0.871</td>\n",
       "      <td>0.365</td>\n",
       "      <td>10</td>\n",
       "      <td>eval</td>\n",
       "    </tr>\n",
       "    <tr>\n",
       "      <td>0.875</td>\n",
       "      <td>0.874</td>\n",
       "      <td>0.875</td>\n",
       "      <td>0.334</td>\n",
       "      <td>11</td>\n",
       "      <td>train</td>\n",
       "    </tr>\n",
       "    <tr>\n",
       "      <td>0.875</td>\n",
       "      <td>0.881</td>\n",
       "      <td>0.875</td>\n",
       "      <td>0.347</td>\n",
       "      <td>11</td>\n",
       "      <td>eval</td>\n",
       "    </tr>\n",
       "    <tr>\n",
       "      <td>0.881</td>\n",
       "      <td>0.880</td>\n",
       "      <td>0.881</td>\n",
       "      <td>0.323</td>\n",
       "      <td>12</td>\n",
       "      <td>train</td>\n",
       "    </tr>\n",
       "    <tr>\n",
       "      <td>0.876</td>\n",
       "      <td>0.883</td>\n",
       "      <td>0.875</td>\n",
       "      <td>0.335</td>\n",
       "      <td>12</td>\n",
       "      <td>eval</td>\n",
       "    </tr>\n",
       "    <tr>\n",
       "      <td>0.883</td>\n",
       "      <td>0.882</td>\n",
       "      <td>0.883</td>\n",
       "      <td>0.317</td>\n",
       "      <td>13</td>\n",
       "      <td>train</td>\n",
       "    </tr>\n",
       "    <tr>\n",
       "      <td>0.848</td>\n",
       "      <td>0.883</td>\n",
       "      <td>0.846</td>\n",
       "      <td>0.402</td>\n",
       "      <td>13</td>\n",
       "      <td>eval</td>\n",
       "    </tr>\n",
       "    <tr>\n",
       "      <td>0.888</td>\n",
       "      <td>0.887</td>\n",
       "      <td>0.888</td>\n",
       "      <td>0.304</td>\n",
       "      <td>14</td>\n",
       "      <td>train</td>\n",
       "    </tr>\n",
       "    <tr>\n",
       "      <td>0.882</td>\n",
       "      <td>0.884</td>\n",
       "      <td>0.882</td>\n",
       "      <td>0.327</td>\n",
       "      <td>14</td>\n",
       "      <td>eval</td>\n",
       "    </tr>\n",
       "    <tr>\n",
       "      <td>0.891</td>\n",
       "      <td>0.891</td>\n",
       "      <td>0.891</td>\n",
       "      <td>0.295</td>\n",
       "      <td>15</td>\n",
       "      <td>train</td>\n",
       "    </tr>\n",
       "    <tr>\n",
       "      <td>0.890</td>\n",
       "      <td>0.892</td>\n",
       "      <td>0.890</td>\n",
       "      <td>0.315</td>\n",
       "      <td>15</td>\n",
       "      <td>eval</td>\n",
       "    </tr>\n",
       "    <tr>\n",
       "      <td>0.892</td>\n",
       "      <td>0.891</td>\n",
       "      <td>0.892</td>\n",
       "      <td>0.292</td>\n",
       "      <td>16</td>\n",
       "      <td>train</td>\n",
       "    </tr>\n",
       "    <tr>\n",
       "      <td>0.821</td>\n",
       "      <td>0.849</td>\n",
       "      <td>0.822</td>\n",
       "      <td>0.482</td>\n",
       "      <td>16</td>\n",
       "      <td>eval</td>\n",
       "    </tr>\n",
       "    <tr>\n",
       "      <td>0.892</td>\n",
       "      <td>0.891</td>\n",
       "      <td>0.892</td>\n",
       "      <td>0.294</td>\n",
       "      <td>17</td>\n",
       "      <td>train</td>\n",
       "    </tr>\n",
       "    <tr>\n",
       "      <td>0.889</td>\n",
       "      <td>0.891</td>\n",
       "      <td>0.889</td>\n",
       "      <td>0.312</td>\n",
       "      <td>17</td>\n",
       "      <td>eval</td>\n",
       "    </tr>\n",
       "    <tr>\n",
       "      <td>0.896</td>\n",
       "      <td>0.895</td>\n",
       "      <td>0.896</td>\n",
       "      <td>0.278</td>\n",
       "      <td>18</td>\n",
       "      <td>train</td>\n",
       "    </tr>\n",
       "    <tr>\n",
       "      <td>0.871</td>\n",
       "      <td>0.877</td>\n",
       "      <td>0.871</td>\n",
       "      <td>0.361</td>\n",
       "      <td>18</td>\n",
       "      <td>eval</td>\n",
       "    </tr>\n",
       "    <tr>\n",
       "      <td>0.898</td>\n",
       "      <td>0.898</td>\n",
       "      <td>0.898</td>\n",
       "      <td>0.273</td>\n",
       "      <td>19</td>\n",
       "      <td>train</td>\n",
       "    </tr>\n",
       "    <tr>\n",
       "      <td>0.886</td>\n",
       "      <td>0.890</td>\n",
       "      <td>0.886</td>\n",
       "      <td>0.315</td>\n",
       "      <td>19</td>\n",
       "      <td>eval</td>\n",
       "    </tr>\n",
       "    <tr>\n",
       "      <td>0.900</td>\n",
       "      <td>0.900</td>\n",
       "      <td>0.900</td>\n",
       "      <td>0.270</td>\n",
       "      <td>20</td>\n",
       "      <td>train</td>\n",
       "    </tr>\n",
       "    <tr>\n",
       "      <td>0.892</td>\n",
       "      <td>0.893</td>\n",
       "      <td>0.893</td>\n",
       "      <td>0.316</td>\n",
       "      <td>20</td>\n",
       "      <td>eval</td>\n",
       "    </tr>\n",
       "    <tr>\n",
       "      <td>0.903</td>\n",
       "      <td>0.902</td>\n",
       "      <td>0.902</td>\n",
       "      <td>0.263</td>\n",
       "      <td>21</td>\n",
       "      <td>train</td>\n",
       "    </tr>\n",
       "    <tr>\n",
       "      <td>0.896</td>\n",
       "      <td>0.897</td>\n",
       "      <td>0.896</td>\n",
       "      <td>0.300</td>\n",
       "      <td>21</td>\n",
       "      <td>eval</td>\n",
       "    </tr>\n",
       "    <tr>\n",
       "      <td>0.905</td>\n",
       "      <td>0.904</td>\n",
       "      <td>0.905</td>\n",
       "      <td>0.257</td>\n",
       "      <td>22</td>\n",
       "      <td>train</td>\n",
       "    </tr>\n",
       "    <tr>\n",
       "      <td>0.886</td>\n",
       "      <td>0.889</td>\n",
       "      <td>0.887</td>\n",
       "      <td>0.319</td>\n",
       "      <td>22</td>\n",
       "      <td>eval</td>\n",
       "    </tr>\n",
       "    <tr>\n",
       "      <td>0.907</td>\n",
       "      <td>0.907</td>\n",
       "      <td>0.907</td>\n",
       "      <td>0.249</td>\n",
       "      <td>23</td>\n",
       "      <td>train</td>\n",
       "    </tr>\n",
       "    <tr>\n",
       "      <td>0.899</td>\n",
       "      <td>0.899</td>\n",
       "      <td>0.899</td>\n",
       "      <td>0.291</td>\n",
       "      <td>23</td>\n",
       "      <td>eval</td>\n",
       "    </tr>\n",
       "    <tr>\n",
       "      <td>0.908</td>\n",
       "      <td>0.907</td>\n",
       "      <td>0.907</td>\n",
       "      <td>0.249</td>\n",
       "      <td>24</td>\n",
       "      <td>train</td>\n",
       "    </tr>\n",
       "    <tr>\n",
       "      <td>0.890</td>\n",
       "      <td>0.894</td>\n",
       "      <td>0.890</td>\n",
       "      <td>0.314</td>\n",
       "      <td>24</td>\n",
       "      <td>eval</td>\n",
       "    </tr>\n",
       "  </tbody>\n",
       "</table>"
      ],
      "text/plain": [
       "<IPython.core.display.HTML object>"
      ]
     },
     "metadata": {},
     "output_type": "display_data"
    },
    {
     "name": "stdout",
     "output_type": "stream",
     "text": [
      "{'loss': '1.403', 'epoch': 0, 'train': 'train'}\n"
     ]
    },
    {
     "data": {
      "image/png": "[encoded data removed]",
      "text/plain": [
       "<Figure size 600x400 with 1 Axes>"
      ]
     },
     "metadata": {},
     "output_type": "display_data"
    },
    {
     "name": "stdout",
     "output_type": "stream",
     "text": [
      "{'loss': '0.943', 'epoch': 0, 'train': 'eval'}\n",
      "{'loss': '0.693', 'epoch': 1, 'train': 'train'}\n",
      "{'loss': '0.656', 'epoch': 1, 'train': 'eval'}\n",
      "{'loss': '0.570', 'epoch': 2, 'train': 'train'}\n",
      "{'loss': '0.638', 'epoch': 2, 'train': 'eval'}\n",
      "{'loss': '0.511', 'epoch': 3, 'train': 'train'}\n",
      "{'loss': '0.596', 'epoch': 3, 'train': 'eval'}\n",
      "{'loss': '0.462', 'epoch': 4, 'train': 'train'}\n",
      "{'loss': '0.457', 'epoch': 4, 'train': 'eval'}\n",
      "{'loss': '0.434', 'epoch': 5, 'train': 'train'}\n",
      "{'loss': '0.527', 'epoch': 5, 'train': 'eval'}\n",
      "{'loss': '0.408', 'epoch': 6, 'train': 'train'}\n",
      "{'loss': '0.400', 'epoch': 6, 'train': 'eval'}\n",
      "{'loss': '0.383', 'epoch': 7, 'train': 'train'}\n",
      "{'loss': '0.394', 'epoch': 7, 'train': 'eval'}\n",
      "{'loss': '0.366', 'epoch': 8, 'train': 'train'}\n",
      "{'loss': '0.406', 'epoch': 8, 'train': 'eval'}\n",
      "{'loss': '0.354', 'epoch': 9, 'train': 'train'}\n",
      "{'loss': '0.372', 'epoch': 9, 'train': 'eval'}\n",
      "{'loss': '0.345', 'epoch': 10, 'train': 'train'}\n",
      "{'loss': '0.365', 'epoch': 10, 'train': 'eval'}\n",
      "{'loss': '0.334', 'epoch': 11, 'train': 'train'}\n",
      "{'loss': '0.347', 'epoch': 11, 'train': 'eval'}\n",
      "{'loss': '0.323', 'epoch': 12, 'train': 'train'}\n",
      "{'loss': '0.335', 'epoch': 12, 'train': 'eval'}\n",
      "{'loss': '0.317', 'epoch': 13, 'train': 'train'}\n",
      "{'loss': '0.402', 'epoch': 13, 'train': 'eval'}\n",
      "{'loss': '0.304', 'epoch': 14, 'train': 'train'}\n",
      "{'loss': '0.327', 'epoch': 14, 'train': 'eval'}\n",
      "{'loss': '0.295', 'epoch': 15, 'train': 'train'}\n",
      "{'loss': '0.315', 'epoch': 15, 'train': 'eval'}\n",
      "{'loss': '0.292', 'epoch': 16, 'train': 'train'}\n",
      "{'loss': '0.482', 'epoch': 16, 'train': 'eval'}\n",
      "{'loss': '0.294', 'epoch': 17, 'train': 'train'}\n",
      "{'loss': '0.312', 'epoch': 17, 'train': 'eval'}\n",
      "{'loss': '0.278', 'epoch': 18, 'train': 'train'}\n",
      "{'loss': '0.361', 'epoch': 18, 'train': 'eval'}\n",
      "{'loss': '0.273', 'epoch': 19, 'train': 'train'}\n",
      "{'loss': '0.315', 'epoch': 19, 'train': 'eval'}\n",
      "{'loss': '0.270', 'epoch': 20, 'train': 'train'}\n",
      "{'loss': '0.316', 'epoch': 20, 'train': 'eval'}\n",
      "{'loss': '0.263', 'epoch': 21, 'train': 'train'}\n",
      "{'loss': '0.300', 'epoch': 21, 'train': 'eval'}\n",
      "{'loss': '0.257', 'epoch': 22, 'train': 'train'}\n",
      "{'loss': '0.319', 'epoch': 22, 'train': 'eval'}\n",
      "{'loss': '0.249', 'epoch': 23, 'train': 'train'}\n",
      "{'loss': '0.291', 'epoch': 23, 'train': 'eval'}\n",
      "{'loss': '0.249', 'epoch': 24, 'train': 'train'}\n",
      "{'loss': '0.314', 'epoch': 24, 'train': 'eval'}\n"
     ]
    },
    {
     "data": {
      "application/vnd.jupyter.widget-view+json": {
       "model_id": "7ccd506b811e40b6b618f318cff69769",
       "version_major": 2,
       "version_minor": 0
      },
      "text/plain": [
       "VBox(children=(Label(value='0.003 MB of 0.003 MB uploaded\\r'), FloatProgress(value=1.0, max=1.0)))"
      ]
     },
     "metadata": {},
     "output_type": "display_data"
    },
    {
     "data": {
      "text/html": [
       "<style>\n",
       "    table.wandb td:nth-child(1) { padding: 0 10px; text-align: left ; width: auto;} td:nth-child(2) {text-align: left ; width: 100%}\n",
       "    .wandb-row { display: flex; flex-direction: row; flex-wrap: wrap; justify-content: flex-start; width: 100% }\n",
       "    .wandb-col { display: flex; flex-direction: column; flex-basis: 100%; flex: 1; padding: 10px; }\n",
       "    </style>\n",
       "<div class=\"wandb-row\"><div class=\"wandb-col\"><h3>Run history:</h3><br/><table class=\"wandb\"><tr><td>accuracy</td><td>▁▃▅▆▆▆▆▇▇▇▇▇▇▇▇▇▇▇████▇█████████████████</td></tr><tr><td>loss</td><td>█▅▄▄▃▃▃▂▂▂▂▂▂▂▂▂▂▂▂▂▁▂▂▁▁▂▁▁▁▁▁▂▁▁▁▁▁▁▂▁</td></tr><tr><td>lr</td><td>▁▁▁▁▁▁▁▁▁▁▁▁▁▁▁▁▁▁▁▁▁▁▁▁▁▁▁▁▁▁▁▁▁▁▁▁▁▁▁▁</td></tr><tr><td>precision</td><td>▁▃▅▆▆▆▇▇▇▇▇▇▇▇▇▇▇▇██████████████████████</td></tr><tr><td>recall</td><td>▁▃▅▆▆▆▆▇▇▇▇▇▇▇▇▇▇▇████▇█████████████████</td></tr><tr><td>test_accuracy</td><td>▁▁▄▄███</td></tr><tr><td>test_precision</td><td>▁▁▄▄███</td></tr><tr><td>test_recall</td><td>▁▁▄▄███</td></tr><tr><td>train_loss</td><td>█▄▃▃▂▂▂▂▂▂▂▂▁▁▁▁▁▁▁▁▁▁▁▁▁</td></tr><tr><td>val_loss</td><td>█▅▅▄▃▄▂▂▂▂▂▂▁▂▁▁▃▁▂▁▁▁▁▁▁</td></tr></table><br/></div><div class=\"wandb-col\"><h3>Run summary:</h3><br/><table class=\"wandb\"><tr><td>accuracy</td><td>0.8895</td></tr><tr><td>loss</td><td>0.35781</td></tr><tr><td>lr</td><td>0.01</td></tr><tr><td>precision</td><td>0.89361</td></tr><tr><td>recall</td><td>0.89036</td></tr><tr><td>test_accuracy</td><td>0.8741</td></tr><tr><td>test_precision</td><td>0.8783</td></tr><tr><td>test_recall</td><td>0.8741</td></tr><tr><td>train_loss</td><td>0.249</td></tr><tr><td>val_loss</td><td>0.314</td></tr></table><br/></div></div>"
      ],
      "text/plain": [
       "<IPython.core.display.HTML object>"
      ]
     },
     "metadata": {},
     "output_type": "display_data"
    },
    {
     "data": {
      "text/html": [
       " View run <strong style=\"color:#cdcd00\">Inited Weights</strong> at: <a href='https://wandb.ai/afterhoursbilly/diploma/runs/vphoux14' target=\"_blank\">https://wandb.ai/afterhoursbilly/diploma/runs/vphoux14</a><br/> View project at: <a href='https://wandb.ai/afterhoursbilly/diploma' target=\"_blank\">https://wandb.ai/afterhoursbilly/diploma</a><br/>Synced 5 W&B file(s), 0 media file(s), 0 artifact file(s) and 0 other file(s)"
      ],
      "text/plain": [
       "<IPython.core.display.HTML object>"
      ]
     },
     "metadata": {},
     "output_type": "display_data"
    },
    {
     "data": {
      "text/html": [
       "Find logs at: <code>./wandb/run-20240507_220021-vphoux14/logs</code>"
      ],
      "text/plain": [
       "<IPython.core.display.HTML object>"
      ]
     },
     "metadata": {},
     "output_type": "display_data"
    }
   ],
   "source": [
    "learn.fit(epochs)"
   ]
  },
  {
   "cell_type": "markdown",
   "metadata": {},
   "source": [
    "# BatchNorm\n",
    "We can also normalize the activations of the network by using BatchNorm. This technique normalizes the activations of each layer.\n"
   ]
  },
  {
   "cell_type": "code",
   "execution_count": 22,
   "metadata": {},
   "outputs": [],
   "source": [
    "wandbcb =  WandBCB(config={'lr':lr, 'epochs':epochs, 'bs':bs, 'name':'Batch Norm'}, project='diploma')\n",
    "cbs = [DeviceCB('cuda'), metrics, ProgressCB(plot=True), wandbcb]\n",
    "model = get_model(act_gr,norm=nn.BatchNorm2d).apply(iw)\n",
    "learn = TrainLearner(model, dls, F.cross_entropy, lr=lr, cbs=cbs)"
   ]
  },
  {
   "cell_type": "code",
   "execution_count": 31,
   "metadata": {},
   "outputs": [
    {
     "data": {
      "text/html": [
       "Tracking run with wandb version 0.16.6"
      ],
      "text/plain": [
       "<IPython.core.display.HTML object>"
      ]
     },
     "metadata": {},
     "output_type": "display_data"
    },
    {
     "data": {
      "text/html": [
       "Run data is saved locally in <code>/home/billy/diploma/wandb/run-20240507_221612-smt8ame7</code>"
      ],
      "text/plain": [
       "<IPython.core.display.HTML object>"
      ]
     },
     "metadata": {},
     "output_type": "display_data"
    },
    {
     "data": {
      "text/html": [
       "Syncing run <strong><a href='https://wandb.ai/afterhoursbilly/diploma/runs/smt8ame7' target=\"_blank\">Batch Norm</a></strong> to <a href='https://wandb.ai/afterhoursbilly/diploma' target=\"_blank\">Weights & Biases</a> (<a href='https://wandb.me/run' target=\"_blank\">docs</a>)<br/>"
      ],
      "text/plain": [
       "<IPython.core.display.HTML object>"
      ]
     },
     "metadata": {},
     "output_type": "display_data"
    },
    {
     "data": {
      "text/html": [
       " View project at <a href='https://wandb.ai/afterhoursbilly/diploma' target=\"_blank\">https://wandb.ai/afterhoursbilly/diploma</a>"
      ],
      "text/plain": [
       "<IPython.core.display.HTML object>"
      ]
     },
     "metadata": {},
     "output_type": "display_data"
    },
    {
     "data": {
      "text/html": [
       " View run at <a href='https://wandb.ai/afterhoursbilly/diploma/runs/smt8ame7' target=\"_blank\">https://wandb.ai/afterhoursbilly/diploma/runs/smt8ame7</a>"
      ],
      "text/plain": [
       "<IPython.core.display.HTML object>"
      ]
     },
     "metadata": {},
     "output_type": "display_data"
    },
    {
     "data": {
      "text/html": [
       "\n",
       "<style>\n",
       "    /* Turns off some styling */\n",
       "    progress {\n",
       "        /* gets rid of default border in Firefox and Opera. */\n",
       "        border: none;\n",
       "        /* Needs to be in here for Safari polyfill so background images work as expected. */\n",
       "        background-size: auto;\n",
       "    }\n",
       "    progress:not([value]), progress:not([value])::-webkit-progress-bar {\n",
       "        background: repeating-linear-gradient(45deg, #7e7e7e, #7e7e7e 10px, #5c5c5c 10px, #5c5c5c 20px);\n",
       "    }\n",
       "    .progress-bar-interrupted, .progress-bar-interrupted::-webkit-progress-bar {\n",
       "        background: #F44336;\n",
       "    }\n",
       "</style>\n"
      ],
      "text/plain": [
       "<IPython.core.display.HTML object>"
      ]
     },
     "metadata": {},
     "output_type": "display_data"
    },
    {
     "data": {
      "text/html": [
       "<table border=\"1\" class=\"dataframe\">\n",
       "  <thead>\n",
       "    <tr style=\"text-align: left;\">\n",
       "      <th>accuracy</th>\n",
       "      <th>precision</th>\n",
       "      <th>recall</th>\n",
       "      <th>loss</th>\n",
       "      <th>epoch</th>\n",
       "      <th>train</th>\n",
       "    </tr>\n",
       "  </thead>\n",
       "  <tbody>\n",
       "    <tr>\n",
       "      <td>0.759</td>\n",
       "      <td>0.756</td>\n",
       "      <td>0.759</td>\n",
       "      <td>0.923</td>\n",
       "      <td>0</td>\n",
       "      <td>train</td>\n",
       "    </tr>\n",
       "    <tr>\n",
       "      <td>0.825</td>\n",
       "      <td>0.824</td>\n",
       "      <td>0.826</td>\n",
       "      <td>0.719</td>\n",
       "      <td>0</td>\n",
       "      <td>eval</td>\n",
       "    </tr>\n",
       "    <tr>\n",
       "      <td>0.839</td>\n",
       "      <td>0.838</td>\n",
       "      <td>0.839</td>\n",
       "      <td>0.673</td>\n",
       "      <td>1</td>\n",
       "      <td>train</td>\n",
       "    </tr>\n",
       "    <tr>\n",
       "      <td>0.851</td>\n",
       "      <td>0.849</td>\n",
       "      <td>0.851</td>\n",
       "      <td>0.628</td>\n",
       "      <td>1</td>\n",
       "      <td>eval</td>\n",
       "    </tr>\n",
       "    <tr>\n",
       "      <td>0.861</td>\n",
       "      <td>0.860</td>\n",
       "      <td>0.861</td>\n",
       "      <td>0.587</td>\n",
       "      <td>2</td>\n",
       "      <td>train</td>\n",
       "    </tr>\n",
       "    <tr>\n",
       "      <td>0.864</td>\n",
       "      <td>0.863</td>\n",
       "      <td>0.864</td>\n",
       "      <td>0.565</td>\n",
       "      <td>2</td>\n",
       "      <td>eval</td>\n",
       "    </tr>\n",
       "    <tr>\n",
       "      <td>0.873</td>\n",
       "      <td>0.872</td>\n",
       "      <td>0.873</td>\n",
       "      <td>0.527</td>\n",
       "      <td>3</td>\n",
       "      <td>train</td>\n",
       "    </tr>\n",
       "    <tr>\n",
       "      <td>0.872</td>\n",
       "      <td>0.872</td>\n",
       "      <td>0.873</td>\n",
       "      <td>0.518</td>\n",
       "      <td>3</td>\n",
       "      <td>eval</td>\n",
       "    </tr>\n",
       "    <tr>\n",
       "      <td>0.884</td>\n",
       "      <td>0.883</td>\n",
       "      <td>0.884</td>\n",
       "      <td>0.482</td>\n",
       "      <td>4</td>\n",
       "      <td>train</td>\n",
       "    </tr>\n",
       "    <tr>\n",
       "      <td>0.877</td>\n",
       "      <td>0.876</td>\n",
       "      <td>0.878</td>\n",
       "      <td>0.486</td>\n",
       "      <td>4</td>\n",
       "      <td>eval</td>\n",
       "    </tr>\n",
       "    <tr>\n",
       "      <td>0.892</td>\n",
       "      <td>0.892</td>\n",
       "      <td>0.892</td>\n",
       "      <td>0.445</td>\n",
       "      <td>5</td>\n",
       "      <td>train</td>\n",
       "    </tr>\n",
       "    <tr>\n",
       "      <td>0.884</td>\n",
       "      <td>0.884</td>\n",
       "      <td>0.884</td>\n",
       "      <td>0.467</td>\n",
       "      <td>5</td>\n",
       "      <td>eval</td>\n",
       "    </tr>\n",
       "    <tr>\n",
       "      <td>0.899</td>\n",
       "      <td>0.899</td>\n",
       "      <td>0.899</td>\n",
       "      <td>0.414</td>\n",
       "      <td>6</td>\n",
       "      <td>train</td>\n",
       "    </tr>\n",
       "    <tr>\n",
       "      <td>0.884</td>\n",
       "      <td>0.884</td>\n",
       "      <td>0.884</td>\n",
       "      <td>0.442</td>\n",
       "      <td>6</td>\n",
       "      <td>eval</td>\n",
       "    </tr>\n",
       "    <tr>\n",
       "      <td>0.906</td>\n",
       "      <td>0.906</td>\n",
       "      <td>0.906</td>\n",
       "      <td>0.387</td>\n",
       "      <td>7</td>\n",
       "      <td>train</td>\n",
       "    </tr>\n",
       "    <tr>\n",
       "      <td>0.883</td>\n",
       "      <td>0.887</td>\n",
       "      <td>0.884</td>\n",
       "      <td>0.434</td>\n",
       "      <td>7</td>\n",
       "      <td>eval</td>\n",
       "    </tr>\n",
       "    <tr>\n",
       "      <td>0.911</td>\n",
       "      <td>0.911</td>\n",
       "      <td>0.911</td>\n",
       "      <td>0.363</td>\n",
       "      <td>8</td>\n",
       "      <td>train</td>\n",
       "    </tr>\n",
       "    <tr>\n",
       "      <td>0.889</td>\n",
       "      <td>0.889</td>\n",
       "      <td>0.889</td>\n",
       "      <td>0.409</td>\n",
       "      <td>8</td>\n",
       "      <td>eval</td>\n",
       "    </tr>\n",
       "    <tr>\n",
       "      <td>0.917</td>\n",
       "      <td>0.917</td>\n",
       "      <td>0.917</td>\n",
       "      <td>0.342</td>\n",
       "      <td>9</td>\n",
       "      <td>train</td>\n",
       "    </tr>\n",
       "    <tr>\n",
       "      <td>0.886</td>\n",
       "      <td>0.885</td>\n",
       "      <td>0.886</td>\n",
       "      <td>0.407</td>\n",
       "      <td>9</td>\n",
       "      <td>eval</td>\n",
       "    </tr>\n",
       "    <tr>\n",
       "      <td>0.923</td>\n",
       "      <td>0.922</td>\n",
       "      <td>0.922</td>\n",
       "      <td>0.322</td>\n",
       "      <td>10</td>\n",
       "      <td>train</td>\n",
       "    </tr>\n",
       "    <tr>\n",
       "      <td>0.890</td>\n",
       "      <td>0.890</td>\n",
       "      <td>0.891</td>\n",
       "      <td>0.388</td>\n",
       "      <td>10</td>\n",
       "      <td>eval</td>\n",
       "    </tr>\n",
       "    <tr>\n",
       "      <td>0.928</td>\n",
       "      <td>0.928</td>\n",
       "      <td>0.928</td>\n",
       "      <td>0.303</td>\n",
       "      <td>11</td>\n",
       "      <td>train</td>\n",
       "    </tr>\n",
       "    <tr>\n",
       "      <td>0.889</td>\n",
       "      <td>0.890</td>\n",
       "      <td>0.890</td>\n",
       "      <td>0.393</td>\n",
       "      <td>11</td>\n",
       "      <td>eval</td>\n",
       "    </tr>\n",
       "    <tr>\n",
       "      <td>0.932</td>\n",
       "      <td>0.932</td>\n",
       "      <td>0.932</td>\n",
       "      <td>0.286</td>\n",
       "      <td>12</td>\n",
       "      <td>train</td>\n",
       "    </tr>\n",
       "    <tr>\n",
       "      <td>0.890</td>\n",
       "      <td>0.889</td>\n",
       "      <td>0.890</td>\n",
       "      <td>0.381</td>\n",
       "      <td>12</td>\n",
       "      <td>eval</td>\n",
       "    </tr>\n",
       "    <tr>\n",
       "      <td>0.938</td>\n",
       "      <td>0.938</td>\n",
       "      <td>0.938</td>\n",
       "      <td>0.269</td>\n",
       "      <td>13</td>\n",
       "      <td>train</td>\n",
       "    </tr>\n",
       "    <tr>\n",
       "      <td>0.892</td>\n",
       "      <td>0.892</td>\n",
       "      <td>0.893</td>\n",
       "      <td>0.372</td>\n",
       "      <td>13</td>\n",
       "      <td>eval</td>\n",
       "    </tr>\n",
       "    <tr>\n",
       "      <td>0.942</td>\n",
       "      <td>0.942</td>\n",
       "      <td>0.942</td>\n",
       "      <td>0.255</td>\n",
       "      <td>14</td>\n",
       "      <td>train</td>\n",
       "    </tr>\n",
       "    <tr>\n",
       "      <td>0.889</td>\n",
       "      <td>0.889</td>\n",
       "      <td>0.889</td>\n",
       "      <td>0.373</td>\n",
       "      <td>14</td>\n",
       "      <td>eval</td>\n",
       "    </tr>\n",
       "    <tr>\n",
       "      <td>0.947</td>\n",
       "      <td>0.948</td>\n",
       "      <td>0.947</td>\n",
       "      <td>0.239</td>\n",
       "      <td>15</td>\n",
       "      <td>train</td>\n",
       "    </tr>\n",
       "    <tr>\n",
       "      <td>0.887</td>\n",
       "      <td>0.888</td>\n",
       "      <td>0.887</td>\n",
       "      <td>0.381</td>\n",
       "      <td>15</td>\n",
       "      <td>eval</td>\n",
       "    </tr>\n",
       "    <tr>\n",
       "      <td>0.952</td>\n",
       "      <td>0.952</td>\n",
       "      <td>0.952</td>\n",
       "      <td>0.226</td>\n",
       "      <td>16</td>\n",
       "      <td>train</td>\n",
       "    </tr>\n",
       "    <tr>\n",
       "      <td>0.890</td>\n",
       "      <td>0.891</td>\n",
       "      <td>0.890</td>\n",
       "      <td>0.376</td>\n",
       "      <td>16</td>\n",
       "      <td>eval</td>\n",
       "    </tr>\n",
       "    <tr>\n",
       "      <td>0.954</td>\n",
       "      <td>0.954</td>\n",
       "      <td>0.954</td>\n",
       "      <td>0.215</td>\n",
       "      <td>17</td>\n",
       "      <td>train</td>\n",
       "    </tr>\n",
       "    <tr>\n",
       "      <td>0.894</td>\n",
       "      <td>0.895</td>\n",
       "      <td>0.895</td>\n",
       "      <td>0.355</td>\n",
       "      <td>17</td>\n",
       "      <td>eval</td>\n",
       "    </tr>\n",
       "    <tr>\n",
       "      <td>0.960</td>\n",
       "      <td>0.960</td>\n",
       "      <td>0.960</td>\n",
       "      <td>0.201</td>\n",
       "      <td>18</td>\n",
       "      <td>train</td>\n",
       "    </tr>\n",
       "    <tr>\n",
       "      <td>0.895</td>\n",
       "      <td>0.894</td>\n",
       "      <td>0.896</td>\n",
       "      <td>0.356</td>\n",
       "      <td>18</td>\n",
       "      <td>eval</td>\n",
       "    </tr>\n",
       "    <tr>\n",
       "      <td>0.963</td>\n",
       "      <td>0.964</td>\n",
       "      <td>0.963</td>\n",
       "      <td>0.190</td>\n",
       "      <td>19</td>\n",
       "      <td>train</td>\n",
       "    </tr>\n",
       "    <tr>\n",
       "      <td>0.887</td>\n",
       "      <td>0.888</td>\n",
       "      <td>0.888</td>\n",
       "      <td>0.372</td>\n",
       "      <td>19</td>\n",
       "      <td>eval</td>\n",
       "    </tr>\n",
       "    <tr>\n",
       "      <td>0.968</td>\n",
       "      <td>0.968</td>\n",
       "      <td>0.968</td>\n",
       "      <td>0.178</td>\n",
       "      <td>20</td>\n",
       "      <td>train</td>\n",
       "    </tr>\n",
       "    <tr>\n",
       "      <td>0.881</td>\n",
       "      <td>0.885</td>\n",
       "      <td>0.881</td>\n",
       "      <td>0.394</td>\n",
       "      <td>20</td>\n",
       "      <td>eval</td>\n",
       "    </tr>\n",
       "    <tr>\n",
       "      <td>0.971</td>\n",
       "      <td>0.971</td>\n",
       "      <td>0.971</td>\n",
       "      <td>0.168</td>\n",
       "      <td>21</td>\n",
       "      <td>train</td>\n",
       "    </tr>\n",
       "    <tr>\n",
       "      <td>0.895</td>\n",
       "      <td>0.894</td>\n",
       "      <td>0.895</td>\n",
       "      <td>0.355</td>\n",
       "      <td>21</td>\n",
       "      <td>eval</td>\n",
       "    </tr>\n",
       "    <tr>\n",
       "      <td>0.974</td>\n",
       "      <td>0.974</td>\n",
       "      <td>0.974</td>\n",
       "      <td>0.159</td>\n",
       "      <td>22</td>\n",
       "      <td>train</td>\n",
       "    </tr>\n",
       "    <tr>\n",
       "      <td>0.857</td>\n",
       "      <td>0.879</td>\n",
       "      <td>0.856</td>\n",
       "      <td>0.462</td>\n",
       "      <td>22</td>\n",
       "      <td>eval</td>\n",
       "    </tr>\n",
       "    <tr>\n",
       "      <td>0.978</td>\n",
       "      <td>0.978</td>\n",
       "      <td>0.978</td>\n",
       "      <td>0.148</td>\n",
       "      <td>23</td>\n",
       "      <td>train</td>\n",
       "    </tr>\n",
       "    <tr>\n",
       "      <td>0.885</td>\n",
       "      <td>0.886</td>\n",
       "      <td>0.885</td>\n",
       "      <td>0.381</td>\n",
       "      <td>23</td>\n",
       "      <td>eval</td>\n",
       "    </tr>\n",
       "    <tr>\n",
       "      <td>0.979</td>\n",
       "      <td>0.979</td>\n",
       "      <td>0.979</td>\n",
       "      <td>0.142</td>\n",
       "      <td>24</td>\n",
       "      <td>train</td>\n",
       "    </tr>\n",
       "    <tr>\n",
       "      <td>0.883</td>\n",
       "      <td>0.887</td>\n",
       "      <td>0.883</td>\n",
       "      <td>0.365</td>\n",
       "      <td>24</td>\n",
       "      <td>eval</td>\n",
       "    </tr>\n",
       "  </tbody>\n",
       "</table>"
      ],
      "text/plain": [
       "<IPython.core.display.HTML object>"
      ]
     },
     "metadata": {},
     "output_type": "display_data"
    },
    {
     "name": "stdout",
     "output_type": "stream",
     "text": [
      "{'loss': '0.923', 'epoch': 0, 'train': 'train'}\n"
     ]
    },
    {
     "data": {
      "image/png": "[encoded data removed]",
      "text/plain": [
       "<Figure size 600x400 with 1 Axes>"
      ]
     },
     "metadata": {},
     "output_type": "display_data"
    },
    {
     "name": "stdout",
     "output_type": "stream",
     "text": [
      "{'loss': '0.719', 'epoch': 0, 'train': 'eval'}\n",
      "{'loss': '0.673', 'epoch': 1, 'train': 'train'}\n",
      "{'loss': '0.628', 'epoch': 1, 'train': 'eval'}\n",
      "{'loss': '0.587', 'epoch': 2, 'train': 'train'}\n",
      "{'loss': '0.565', 'epoch': 2, 'train': 'eval'}\n",
      "{'loss': '0.527', 'epoch': 3, 'train': 'train'}\n",
      "{'loss': '0.518', 'epoch': 3, 'train': 'eval'}\n",
      "{'loss': '0.482', 'epoch': 4, 'train': 'train'}\n",
      "{'loss': '0.486', 'epoch': 4, 'train': 'eval'}\n",
      "{'loss': '0.445', 'epoch': 5, 'train': 'train'}\n",
      "{'loss': '0.467', 'epoch': 5, 'train': 'eval'}\n",
      "{'loss': '0.414', 'epoch': 6, 'train': 'train'}\n",
      "{'loss': '0.442', 'epoch': 6, 'train': 'eval'}\n",
      "{'loss': '0.387', 'epoch': 7, 'train': 'train'}\n",
      "{'loss': '0.434', 'epoch': 7, 'train': 'eval'}\n",
      "{'loss': '0.363', 'epoch': 8, 'train': 'train'}\n",
      "{'loss': '0.409', 'epoch': 8, 'train': 'eval'}\n",
      "{'loss': '0.342', 'epoch': 9, 'train': 'train'}\n",
      "{'loss': '0.407', 'epoch': 9, 'train': 'eval'}\n",
      "{'loss': '0.322', 'epoch': 10, 'train': 'train'}\n",
      "{'loss': '0.388', 'epoch': 10, 'train': 'eval'}\n",
      "{'loss': '0.303', 'epoch': 11, 'train': 'train'}\n",
      "{'loss': '0.393', 'epoch': 11, 'train': 'eval'}\n",
      "{'loss': '0.286', 'epoch': 12, 'train': 'train'}\n",
      "{'loss': '0.381', 'epoch': 12, 'train': 'eval'}\n",
      "{'loss': '0.269', 'epoch': 13, 'train': 'train'}\n",
      "{'loss': '0.372', 'epoch': 13, 'train': 'eval'}\n",
      "{'loss': '0.255', 'epoch': 14, 'train': 'train'}\n",
      "{'loss': '0.373', 'epoch': 14, 'train': 'eval'}\n",
      "{'loss': '0.239', 'epoch': 15, 'train': 'train'}\n",
      "{'loss': '0.381', 'epoch': 15, 'train': 'eval'}\n",
      "{'loss': '0.226', 'epoch': 16, 'train': 'train'}\n",
      "{'loss': '0.376', 'epoch': 16, 'train': 'eval'}\n",
      "{'loss': '0.215', 'epoch': 17, 'train': 'train'}\n",
      "{'loss': '0.355', 'epoch': 17, 'train': 'eval'}\n",
      "{'loss': '0.201', 'epoch': 18, 'train': 'train'}\n",
      "{'loss': '0.356', 'epoch': 18, 'train': 'eval'}\n",
      "{'loss': '0.190', 'epoch': 19, 'train': 'train'}\n",
      "{'loss': '0.372', 'epoch': 19, 'train': 'eval'}\n",
      "{'loss': '0.178', 'epoch': 20, 'train': 'train'}\n",
      "{'loss': '0.394', 'epoch': 20, 'train': 'eval'}\n",
      "{'loss': '0.168', 'epoch': 21, 'train': 'train'}\n",
      "{'loss': '0.355', 'epoch': 21, 'train': 'eval'}\n",
      "{'loss': '0.159', 'epoch': 22, 'train': 'train'}\n",
      "{'loss': '0.462', 'epoch': 22, 'train': 'eval'}\n",
      "{'loss': '0.148', 'epoch': 23, 'train': 'train'}\n",
      "{'loss': '0.381', 'epoch': 23, 'train': 'eval'}\n",
      "{'loss': '0.142', 'epoch': 24, 'train': 'train'}\n",
      "{'loss': '0.365', 'epoch': 24, 'train': 'eval'}\n"
     ]
    },
    {
     "data": {
      "application/vnd.jupyter.widget-view+json": {
       "model_id": "2be6cb988a5a4922912fcca3e51393da",
       "version_major": 2,
       "version_minor": 0
      },
      "text/plain": [
       "VBox(children=(Label(value='0.003 MB of 0.003 MB uploaded\\r'), FloatProgress(value=1.0, max=1.0)))"
      ]
     },
     "metadata": {},
     "output_type": "display_data"
    },
    {
     "data": {
      "text/html": [
       "<style>\n",
       "    table.wandb td:nth-child(1) { padding: 0 10px; text-align: left ; width: auto;} td:nth-child(2) {text-align: left ; width: 100%}\n",
       "    .wandb-row { display: flex; flex-direction: row; flex-wrap: wrap; justify-content: flex-start; width: 100% }\n",
       "    .wandb-col { display: flex; flex-direction: column; flex-basis: 100%; flex: 1; padding: 10px; }\n",
       "    </style>\n",
       "<div class=\"wandb-row\"><div class=\"wandb-col\"><h3>Run history:</h3><br/><table class=\"wandb\"><tr><td>accuracy</td><td>▁▃▅▅▅▆▆▆▆▆▆▆▆▆▆▇▇▇▇▆▇▇▆▇▇▆▇▇▇█████████▆█</td></tr><tr><td>loss</td><td>█▆▆▆▅▅▅▅▄▄▄▄▃▃▃▃▃▂▂▃▂▂▃▂▂▄▂▂▂▂▂▂▂▁▁▂▁▁▃▁</td></tr><tr><td>lr</td><td>▁▁▁▁▁▁▁▁▁▁▁▁▁▁▁▁▁▁▁▁▁▁▁▁▁▁▁▁▁▁▁▁▁▁▁▁▁▁▁▁</td></tr><tr><td>precision</td><td>▁▃▅▅▅▆▆▆▆▆▆▆▆▆▆▇▇▇▇▆▇▇▆▇▇▆▇▇▇█████████▆█</td></tr><tr><td>recall</td><td>▁▃▅▅▅▆▆▆▆▆▆▆▆▆▆▇▇▇▇▆▇▇▆▇▇▆▇▇▇█████████▆█</td></tr><tr><td>test_accuracy</td><td>▁▁▆▅█▇▇</td></tr><tr><td>test_precision</td><td>▁▁▆▅█▇█</td></tr><tr><td>test_recall</td><td>▁▁▆▅█▇▇</td></tr><tr><td>train_loss</td><td>█▆▅▄▄▄▃▃▃▃▃▂▂▂▂▂▂▂▂▁▁▁▁▁▁</td></tr><tr><td>val_loss</td><td>█▆▅▄▄▃▃▃▂▂▂▂▂▁▁▂▁▁▁▁▂▁▃▂▁</td></tr></table><br/></div><div class=\"wandb-col\"><h3>Run summary:</h3><br/><table class=\"wandb\"><tr><td>accuracy</td><td>0.88283</td></tr><tr><td>loss</td><td>0.37698</td></tr><tr><td>lr</td><td>0.01</td></tr><tr><td>precision</td><td>0.88732</td></tr><tr><td>recall</td><td>0.88263</td></tr><tr><td>test_accuracy</td><td>0.8807</td></tr><tr><td>test_precision</td><td>0.886</td></tr><tr><td>test_recall</td><td>0.8807</td></tr><tr><td>train_loss</td><td>0.142</td></tr><tr><td>val_loss</td><td>0.365</td></tr></table><br/></div></div>"
      ],
      "text/plain": [
       "<IPython.core.display.HTML object>"
      ]
     },
     "metadata": {},
     "output_type": "display_data"
    },
    {
     "data": {
      "text/html": [
       " View run <strong style=\"color:#cdcd00\">Batch Norm</strong> at: <a href='https://wandb.ai/afterhoursbilly/diploma/runs/smt8ame7' target=\"_blank\">https://wandb.ai/afterhoursbilly/diploma/runs/smt8ame7</a><br/> View project at: <a href='https://wandb.ai/afterhoursbilly/diploma' target=\"_blank\">https://wandb.ai/afterhoursbilly/diploma</a><br/>Synced 5 W&B file(s), 0 media file(s), 0 artifact file(s) and 0 other file(s)"
      ],
      "text/plain": [
       "<IPython.core.display.HTML object>"
      ]
     },
     "metadata": {},
     "output_type": "display_data"
    },
    {
     "data": {
      "text/html": [
       "Find logs at: <code>./wandb/run-20240507_221612-smt8ame7/logs</code>"
      ],
      "text/plain": [
       "<IPython.core.display.HTML object>"
      ]
     },
     "metadata": {},
     "output_type": "display_data"
    }
   ],
   "source": [
    "learn.fit(epochs)"
   ]
  },
  {
   "cell_type": "markdown",
   "metadata": {},
   "source": [
    "# Augmentation\n",
    "----\n"
   ]
  },
  {
   "cell_type": "code",
   "execution_count": 23,
   "metadata": {},
   "outputs": [
    {
     "data": {
      "text/plain": [
       "(tensor(-0.1857), tensor(0.9391))"
      ]
     },
     "execution_count": 23,
     "metadata": {},
     "output_type": "execute_result"
    }
   ],
   "source": [
    "@inplace\n",
    "def transformi(b): b['image'] = [(((F.pad(TF.to_tensor(o), (2,2,2,2))) -xmean)/xstd) for o in b['image']]\n",
    "\n",
    "\n",
    "tds = dataset.with_transform(transformi)\n",
    "dls = DataLoaders.from_dd(tds,batch_size=bs,test=True ,split = 0.1, num_workers=10, pin_memory=True)\n",
    "xb,yb = next(iter(dls.train))\n",
    "xb.mean(), xb.std()"
   ]
  },
  {
   "cell_type": "code",
   "execution_count": 24,
   "metadata": {},
   "outputs": [],
   "source": [
    "def tfm_batch(b, tfm_x=fc.noop, tfm_y = fc.noop): return tfm_x(b[0]).to('cuda'),tfm_y(b[1].to('cuda'))\n",
    "tfms = nn.Sequential(transforms.RandomCrop(28, padding=1),\n",
    "                     transforms.RandomHorizontalFlip(),\n",
    "                     RandErase())\n",
    "augcb = BatchTransformCB(partial(tfm_batch, tfm_x=tfms), on_val=False)"
   ]
  },
  {
   "cell_type": "code",
   "execution_count": 25,
   "metadata": {},
   "outputs": [],
   "source": [
    "wandbcb =  WandBCB(config={'lr':lr, 'epochs':epochs, 'bs':bs, 'name':'Augmented Data'}, project='diploma')\n",
    "cbs = [DeviceCB('cuda'), metrics, ProgressCB(plot=True), augcb, wandbcb]\n",
    "iw = partial(init_weights)\n",
    "act_gr = partial(GeneralRelu)\n",
    "model = get_model(act_gr,norm=nn.BatchNorm2d).apply(iw).to(def_device)\n",
    "learn = TrainLearner(model, dls, F.cross_entropy, lr=lr, cbs=cbs)"
   ]
  },
  {
   "cell_type": "code",
   "execution_count": 27,
   "metadata": {},
   "outputs": [
    {
     "data": {
      "text/html": [
       "Finishing last run (ID:4w30tozr) before initializing another..."
      ],
      "text/plain": [
       "<IPython.core.display.HTML object>"
      ]
     },
     "metadata": {},
     "output_type": "display_data"
    },
    {
     "data": {
      "application/vnd.jupyter.widget-view+json": {
       "model_id": "7414bd587b444931a060f5a65ce5d6f0",
       "version_major": 2,
       "version_minor": 0
      },
      "text/plain": [
       "VBox(children=(Label(value='0.003 MB of 0.006 MB uploaded\\r'), FloatProgress(value=0.4286154320036963, max=1.0…"
      ]
     },
     "metadata": {},
     "output_type": "display_data"
    },
    {
     "data": {
      "text/html": [
       " View run <strong style=\"color:#cdcd00\">Augmented Data</strong> at: <a href='https://wandb.ai/afterhoursbilly/diploma/runs/4w30tozr' target=\"_blank\">https://wandb.ai/afterhoursbilly/diploma/runs/4w30tozr</a><br/> View project at: <a href='https://wandb.ai/afterhoursbilly/diploma' target=\"_blank\">https://wandb.ai/afterhoursbilly/diploma</a><br/>Synced 5 W&B file(s), 0 media file(s), 0 artifact file(s) and 0 other file(s)"
      ],
      "text/plain": [
       "<IPython.core.display.HTML object>"
      ]
     },
     "metadata": {},
     "output_type": "display_data"
    },
    {
     "data": {
      "text/html": [
       "Find logs at: <code>./wandb/run-20240507_224901-4w30tozr/logs</code>"
      ],
      "text/plain": [
       "<IPython.core.display.HTML object>"
      ]
     },
     "metadata": {},
     "output_type": "display_data"
    },
    {
     "data": {
      "text/html": [
       "Successfully finished last run (ID:4w30tozr). Initializing new run:<br/>"
      ],
      "text/plain": [
       "<IPython.core.display.HTML object>"
      ]
     },
     "metadata": {},
     "output_type": "display_data"
    },
    {
     "data": {
      "application/vnd.jupyter.widget-view+json": {
       "model_id": "570ddf2875ed4ac78651decafff8275a",
       "version_major": 2,
       "version_minor": 0
      },
      "text/plain": [
       "VBox(children=(Label(value='Waiting for wandb.init()...\\r'), FloatProgress(value=0.01111242489997595, max=1.0)…"
      ]
     },
     "metadata": {},
     "output_type": "display_data"
    },
    {
     "data": {
      "text/html": [
       "Tracking run with wandb version 0.16.6"
      ],
      "text/plain": [
       "<IPython.core.display.HTML object>"
      ]
     },
     "metadata": {},
     "output_type": "display_data"
    },
    {
     "data": {
      "text/html": [
       "Run data is saved locally in <code>/home/billy/diploma/wandb/run-20240507_224920-eedh8x9v</code>"
      ],
      "text/plain": [
       "<IPython.core.display.HTML object>"
      ]
     },
     "metadata": {},
     "output_type": "display_data"
    },
    {
     "data": {
      "text/html": [
       "Syncing run <strong><a href='https://wandb.ai/afterhoursbilly/diploma/runs/eedh8x9v' target=\"_blank\">Augmented Data</a></strong> to <a href='https://wandb.ai/afterhoursbilly/diploma' target=\"_blank\">Weights & Biases</a> (<a href='https://wandb.me/run' target=\"_blank\">docs</a>)<br/>"
      ],
      "text/plain": [
       "<IPython.core.display.HTML object>"
      ]
     },
     "metadata": {},
     "output_type": "display_data"
    },
    {
     "data": {
      "text/html": [
       " View project at <a href='https://wandb.ai/afterhoursbilly/diploma' target=\"_blank\">https://wandb.ai/afterhoursbilly/diploma</a>"
      ],
      "text/plain": [
       "<IPython.core.display.HTML object>"
      ]
     },
     "metadata": {},
     "output_type": "display_data"
    },
    {
     "data": {
      "text/html": [
       " View run at <a href='https://wandb.ai/afterhoursbilly/diploma/runs/eedh8x9v' target=\"_blank\">https://wandb.ai/afterhoursbilly/diploma/runs/eedh8x9v</a>"
      ],
      "text/plain": [
       "<IPython.core.display.HTML object>"
      ]
     },
     "metadata": {},
     "output_type": "display_data"
    },
    {
     "data": {
      "text/html": [
       "\n",
       "<style>\n",
       "    /* Turns off some styling */\n",
       "    progress {\n",
       "        /* gets rid of default border in Firefox and Opera. */\n",
       "        border: none;\n",
       "        /* Needs to be in here for Safari polyfill so background images work as expected. */\n",
       "        background-size: auto;\n",
       "    }\n",
       "    progress:not([value]), progress:not([value])::-webkit-progress-bar {\n",
       "        background: repeating-linear-gradient(45deg, #7e7e7e, #7e7e7e 10px, #5c5c5c 10px, #5c5c5c 20px);\n",
       "    }\n",
       "    .progress-bar-interrupted, .progress-bar-interrupted::-webkit-progress-bar {\n",
       "        background: #F44336;\n",
       "    }\n",
       "</style>\n"
      ],
      "text/plain": [
       "<IPython.core.display.HTML object>"
      ]
     },
     "metadata": {},
     "output_type": "display_data"
    },
    {
     "data": {
      "text/html": [
       "<table border=\"1\" class=\"dataframe\">\n",
       "  <thead>\n",
       "    <tr style=\"text-align: left;\">\n",
       "      <th>accuracy</th>\n",
       "      <th>precision</th>\n",
       "      <th>recall</th>\n",
       "      <th>loss</th>\n",
       "      <th>epoch</th>\n",
       "      <th>train</th>\n",
       "    </tr>\n",
       "  </thead>\n",
       "  <tbody>\n",
       "    <tr>\n",
       "      <td>0.450</td>\n",
       "      <td>0.471</td>\n",
       "      <td>0.450</td>\n",
       "      <td>1.760</td>\n",
       "      <td>0</td>\n",
       "      <td>train</td>\n",
       "    </tr>\n",
       "    <tr>\n",
       "      <td>0.534</td>\n",
       "      <td>0.620</td>\n",
       "      <td>0.535</td>\n",
       "      <td>1.461</td>\n",
       "      <td>0</td>\n",
       "      <td>eval</td>\n",
       "    </tr>\n",
       "    <tr>\n",
       "      <td>0.652</td>\n",
       "      <td>0.641</td>\n",
       "      <td>0.652</td>\n",
       "      <td>1.201</td>\n",
       "      <td>1</td>\n",
       "      <td>train</td>\n",
       "    </tr>\n",
       "    <tr>\n",
       "      <td>0.608</td>\n",
       "      <td>0.625</td>\n",
       "      <td>0.609</td>\n",
       "      <td>1.165</td>\n",
       "      <td>1</td>\n",
       "      <td>eval</td>\n",
       "    </tr>\n",
       "    <tr>\n",
       "      <td>0.700</td>\n",
       "      <td>0.688</td>\n",
       "      <td>0.700</td>\n",
       "      <td>1.038</td>\n",
       "      <td>2</td>\n",
       "      <td>train</td>\n",
       "    </tr>\n",
       "    <tr>\n",
       "      <td>0.585</td>\n",
       "      <td>0.619</td>\n",
       "      <td>0.585</td>\n",
       "      <td>1.191</td>\n",
       "      <td>2</td>\n",
       "      <td>eval</td>\n",
       "    </tr>\n",
       "    <tr>\n",
       "      <td>0.722</td>\n",
       "      <td>0.710</td>\n",
       "      <td>0.722</td>\n",
       "      <td>0.940</td>\n",
       "      <td>3</td>\n",
       "      <td>train</td>\n",
       "    </tr>\n",
       "    <tr>\n",
       "      <td>0.622</td>\n",
       "      <td>0.692</td>\n",
       "      <td>0.622</td>\n",
       "      <td>1.130</td>\n",
       "      <td>3</td>\n",
       "      <td>eval</td>\n",
       "    </tr>\n",
       "    <tr>\n",
       "      <td>0.743</td>\n",
       "      <td>0.733</td>\n",
       "      <td>0.743</td>\n",
       "      <td>0.864</td>\n",
       "      <td>4</td>\n",
       "      <td>train</td>\n",
       "    </tr>\n",
       "    <tr>\n",
       "      <td>0.739</td>\n",
       "      <td>0.739</td>\n",
       "      <td>0.740</td>\n",
       "      <td>0.887</td>\n",
       "      <td>4</td>\n",
       "      <td>eval</td>\n",
       "    </tr>\n",
       "    <tr>\n",
       "      <td>0.753</td>\n",
       "      <td>0.744</td>\n",
       "      <td>0.753</td>\n",
       "      <td>0.815</td>\n",
       "      <td>5</td>\n",
       "      <td>train</td>\n",
       "    </tr>\n",
       "    <tr>\n",
       "      <td>0.690</td>\n",
       "      <td>0.725</td>\n",
       "      <td>0.690</td>\n",
       "      <td>0.968</td>\n",
       "      <td>5</td>\n",
       "      <td>eval</td>\n",
       "    </tr>\n",
       "    <tr>\n",
       "      <td>0.760</td>\n",
       "      <td>0.751</td>\n",
       "      <td>0.760</td>\n",
       "      <td>0.781</td>\n",
       "      <td>6</td>\n",
       "      <td>train</td>\n",
       "    </tr>\n",
       "    <tr>\n",
       "      <td>0.669</td>\n",
       "      <td>0.729</td>\n",
       "      <td>0.669</td>\n",
       "      <td>0.948</td>\n",
       "      <td>6</td>\n",
       "      <td>eval</td>\n",
       "    </tr>\n",
       "    <tr>\n",
       "      <td>0.766</td>\n",
       "      <td>0.758</td>\n",
       "      <td>0.766</td>\n",
       "      <td>0.746</td>\n",
       "      <td>7</td>\n",
       "      <td>train</td>\n",
       "    </tr>\n",
       "    <tr>\n",
       "      <td>0.689</td>\n",
       "      <td>0.749</td>\n",
       "      <td>0.688</td>\n",
       "      <td>0.924</td>\n",
       "      <td>7</td>\n",
       "      <td>eval</td>\n",
       "    </tr>\n",
       "    <tr>\n",
       "      <td>0.777</td>\n",
       "      <td>0.770</td>\n",
       "      <td>0.777</td>\n",
       "      <td>0.714</td>\n",
       "      <td>8</td>\n",
       "      <td>train</td>\n",
       "    </tr>\n",
       "    <tr>\n",
       "      <td>0.711</td>\n",
       "      <td>0.741</td>\n",
       "      <td>0.711</td>\n",
       "      <td>0.945</td>\n",
       "      <td>8</td>\n",
       "      <td>eval</td>\n",
       "    </tr>\n",
       "    <tr>\n",
       "      <td>0.781</td>\n",
       "      <td>0.774</td>\n",
       "      <td>0.781</td>\n",
       "      <td>0.692</td>\n",
       "      <td>9</td>\n",
       "      <td>train</td>\n",
       "    </tr>\n",
       "    <tr>\n",
       "      <td>0.777</td>\n",
       "      <td>0.784</td>\n",
       "      <td>0.777</td>\n",
       "      <td>0.716</td>\n",
       "      <td>9</td>\n",
       "      <td>eval</td>\n",
       "    </tr>\n",
       "    <tr>\n",
       "      <td>0.786</td>\n",
       "      <td>0.780</td>\n",
       "      <td>0.786</td>\n",
       "      <td>0.670</td>\n",
       "      <td>10</td>\n",
       "      <td>train</td>\n",
       "    </tr>\n",
       "    <tr>\n",
       "      <td>0.701</td>\n",
       "      <td>0.754</td>\n",
       "      <td>0.701</td>\n",
       "      <td>0.904</td>\n",
       "      <td>10</td>\n",
       "      <td>eval</td>\n",
       "    </tr>\n",
       "    <tr>\n",
       "      <td>0.791</td>\n",
       "      <td>0.784</td>\n",
       "      <td>0.791</td>\n",
       "      <td>0.655</td>\n",
       "      <td>11</td>\n",
       "      <td>train</td>\n",
       "    </tr>\n",
       "    <tr>\n",
       "      <td>0.732</td>\n",
       "      <td>0.771</td>\n",
       "      <td>0.732</td>\n",
       "      <td>0.864</td>\n",
       "      <td>11</td>\n",
       "      <td>eval</td>\n",
       "    </tr>\n",
       "    <tr>\n",
       "      <td>0.795</td>\n",
       "      <td>0.790</td>\n",
       "      <td>0.795</td>\n",
       "      <td>0.636</td>\n",
       "      <td>12</td>\n",
       "      <td>train</td>\n",
       "    </tr>\n",
       "    <tr>\n",
       "      <td>0.714</td>\n",
       "      <td>0.762</td>\n",
       "      <td>0.713</td>\n",
       "      <td>0.768</td>\n",
       "      <td>12</td>\n",
       "      <td>eval</td>\n",
       "    </tr>\n",
       "    <tr>\n",
       "      <td>0.799</td>\n",
       "      <td>0.794</td>\n",
       "      <td>0.799</td>\n",
       "      <td>0.620</td>\n",
       "      <td>13</td>\n",
       "      <td>train</td>\n",
       "    </tr>\n",
       "    <tr>\n",
       "      <td>0.723</td>\n",
       "      <td>0.751</td>\n",
       "      <td>0.722</td>\n",
       "      <td>0.855</td>\n",
       "      <td>13</td>\n",
       "      <td>eval</td>\n",
       "    </tr>\n",
       "    <tr>\n",
       "      <td>0.806</td>\n",
       "      <td>0.801</td>\n",
       "      <td>0.806</td>\n",
       "      <td>0.603</td>\n",
       "      <td>14</td>\n",
       "      <td>train</td>\n",
       "    </tr>\n",
       "    <tr>\n",
       "      <td>0.732</td>\n",
       "      <td>0.784</td>\n",
       "      <td>0.731</td>\n",
       "      <td>0.829</td>\n",
       "      <td>14</td>\n",
       "      <td>eval</td>\n",
       "    </tr>\n",
       "    <tr>\n",
       "      <td>0.809</td>\n",
       "      <td>0.805</td>\n",
       "      <td>0.809</td>\n",
       "      <td>0.591</td>\n",
       "      <td>15</td>\n",
       "      <td>train</td>\n",
       "    </tr>\n",
       "    <tr>\n",
       "      <td>0.733</td>\n",
       "      <td>0.783</td>\n",
       "      <td>0.732</td>\n",
       "      <td>0.773</td>\n",
       "      <td>15</td>\n",
       "      <td>eval</td>\n",
       "    </tr>\n",
       "    <tr>\n",
       "      <td>0.813</td>\n",
       "      <td>0.809</td>\n",
       "      <td>0.813</td>\n",
       "      <td>0.576</td>\n",
       "      <td>16</td>\n",
       "      <td>train</td>\n",
       "    </tr>\n",
       "    <tr>\n",
       "      <td>0.715</td>\n",
       "      <td>0.760</td>\n",
       "      <td>0.714</td>\n",
       "      <td>0.885</td>\n",
       "      <td>16</td>\n",
       "      <td>eval</td>\n",
       "    </tr>\n",
       "    <tr>\n",
       "      <td>0.815</td>\n",
       "      <td>0.810</td>\n",
       "      <td>0.814</td>\n",
       "      <td>0.564</td>\n",
       "      <td>17</td>\n",
       "      <td>train</td>\n",
       "    </tr>\n",
       "    <tr>\n",
       "      <td>0.748</td>\n",
       "      <td>0.802</td>\n",
       "      <td>0.747</td>\n",
       "      <td>0.762</td>\n",
       "      <td>17</td>\n",
       "      <td>eval</td>\n",
       "    </tr>\n",
       "    <tr>\n",
       "      <td>0.820</td>\n",
       "      <td>0.817</td>\n",
       "      <td>0.820</td>\n",
       "      <td>0.549</td>\n",
       "      <td>18</td>\n",
       "      <td>train</td>\n",
       "    </tr>\n",
       "    <tr>\n",
       "      <td>0.741</td>\n",
       "      <td>0.778</td>\n",
       "      <td>0.740</td>\n",
       "      <td>0.760</td>\n",
       "      <td>18</td>\n",
       "      <td>eval</td>\n",
       "    </tr>\n",
       "    <tr>\n",
       "      <td>0.818</td>\n",
       "      <td>0.815</td>\n",
       "      <td>0.818</td>\n",
       "      <td>0.549</td>\n",
       "      <td>19</td>\n",
       "      <td>train</td>\n",
       "    </tr>\n",
       "    <tr>\n",
       "      <td>0.809</td>\n",
       "      <td>0.823</td>\n",
       "      <td>0.808</td>\n",
       "      <td>0.577</td>\n",
       "      <td>19</td>\n",
       "      <td>eval</td>\n",
       "    </tr>\n",
       "    <tr>\n",
       "      <td>0.824</td>\n",
       "      <td>0.821</td>\n",
       "      <td>0.824</td>\n",
       "      <td>0.536</td>\n",
       "      <td>20</td>\n",
       "      <td>train</td>\n",
       "    </tr>\n",
       "    <tr>\n",
       "      <td>0.724</td>\n",
       "      <td>0.788</td>\n",
       "      <td>0.724</td>\n",
       "      <td>0.764</td>\n",
       "      <td>20</td>\n",
       "      <td>eval</td>\n",
       "    </tr>\n",
       "    <tr>\n",
       "      <td>0.828</td>\n",
       "      <td>0.826</td>\n",
       "      <td>0.828</td>\n",
       "      <td>0.522</td>\n",
       "      <td>21</td>\n",
       "      <td>train</td>\n",
       "    </tr>\n",
       "    <tr>\n",
       "      <td>0.750</td>\n",
       "      <td>0.793</td>\n",
       "      <td>0.750</td>\n",
       "      <td>0.726</td>\n",
       "      <td>21</td>\n",
       "      <td>eval</td>\n",
       "    </tr>\n",
       "    <tr>\n",
       "      <td>0.825</td>\n",
       "      <td>0.822</td>\n",
       "      <td>0.825</td>\n",
       "      <td>0.525</td>\n",
       "      <td>22</td>\n",
       "      <td>train</td>\n",
       "    </tr>\n",
       "    <tr>\n",
       "      <td>0.726</td>\n",
       "      <td>0.798</td>\n",
       "      <td>0.723</td>\n",
       "      <td>0.923</td>\n",
       "      <td>22</td>\n",
       "      <td>eval</td>\n",
       "    </tr>\n",
       "    <tr>\n",
       "      <td>0.830</td>\n",
       "      <td>0.828</td>\n",
       "      <td>0.830</td>\n",
       "      <td>0.514</td>\n",
       "      <td>23</td>\n",
       "      <td>train</td>\n",
       "    </tr>\n",
       "    <tr>\n",
       "      <td>0.693</td>\n",
       "      <td>0.819</td>\n",
       "      <td>0.692</td>\n",
       "      <td>0.819</td>\n",
       "      <td>23</td>\n",
       "      <td>eval</td>\n",
       "    </tr>\n",
       "    <tr>\n",
       "      <td>0.829</td>\n",
       "      <td>0.827</td>\n",
       "      <td>0.829</td>\n",
       "      <td>0.503</td>\n",
       "      <td>24</td>\n",
       "      <td>train</td>\n",
       "    </tr>\n",
       "    <tr>\n",
       "      <td>0.778</td>\n",
       "      <td>0.811</td>\n",
       "      <td>0.778</td>\n",
       "      <td>0.725</td>\n",
       "      <td>24</td>\n",
       "      <td>eval</td>\n",
       "    </tr>\n",
       "  </tbody>\n",
       "</table>"
      ],
      "text/plain": [
       "<IPython.core.display.HTML object>"
      ]
     },
     "metadata": {},
     "output_type": "display_data"
    },
    {
     "name": "stdout",
     "output_type": "stream",
     "text": [
      "{'loss': '1.760', 'epoch': 0, 'train': 'train'}\n"
     ]
    },
    {
     "data": {
      "image/png": "[encoded data removed]",
      "text/plain": [
       "<Figure size 600x400 with 1 Axes>"
      ]
     },
     "metadata": {},
     "output_type": "display_data"
    },
    {
     "name": "stdout",
     "output_type": "stream",
     "text": [
      "{'loss': '1.461', 'epoch': 0, 'train': 'eval'}\n",
      "{'loss': '1.201', 'epoch': 1, 'train': 'train'}\n",
      "{'loss': '1.165', 'epoch': 1, 'train': 'eval'}\n",
      "{'loss': '1.038', 'epoch': 2, 'train': 'train'}\n",
      "{'loss': '1.191', 'epoch': 2, 'train': 'eval'}\n",
      "{'loss': '0.940', 'epoch': 3, 'train': 'train'}\n",
      "{'loss': '1.130', 'epoch': 3, 'train': 'eval'}\n",
      "{'loss': '0.864', 'epoch': 4, 'train': 'train'}\n",
      "{'loss': '0.887', 'epoch': 4, 'train': 'eval'}\n",
      "{'loss': '0.815', 'epoch': 5, 'train': 'train'}\n",
      "{'loss': '0.968', 'epoch': 5, 'train': 'eval'}\n",
      "{'loss': '0.781', 'epoch': 6, 'train': 'train'}\n",
      "{'loss': '0.948', 'epoch': 6, 'train': 'eval'}\n",
      "{'loss': '0.746', 'epoch': 7, 'train': 'train'}\n",
      "{'loss': '0.924', 'epoch': 7, 'train': 'eval'}\n",
      "{'loss': '0.714', 'epoch': 8, 'train': 'train'}\n",
      "{'loss': '0.945', 'epoch': 8, 'train': 'eval'}\n",
      "{'loss': '0.692', 'epoch': 9, 'train': 'train'}\n",
      "{'loss': '0.716', 'epoch': 9, 'train': 'eval'}\n",
      "{'loss': '0.670', 'epoch': 10, 'train': 'train'}\n",
      "{'loss': '0.904', 'epoch': 10, 'train': 'eval'}\n",
      "{'loss': '0.655', 'epoch': 11, 'train': 'train'}\n",
      "{'loss': '0.864', 'epoch': 11, 'train': 'eval'}\n",
      "{'loss': '0.636', 'epoch': 12, 'train': 'train'}\n",
      "{'loss': '0.768', 'epoch': 12, 'train': 'eval'}\n",
      "{'loss': '0.620', 'epoch': 13, 'train': 'train'}\n",
      "{'loss': '0.855', 'epoch': 13, 'train': 'eval'}\n",
      "{'loss': '0.603', 'epoch': 14, 'train': 'train'}\n",
      "{'loss': '0.829', 'epoch': 14, 'train': 'eval'}\n",
      "{'loss': '0.591', 'epoch': 15, 'train': 'train'}\n",
      "{'loss': '0.773', 'epoch': 15, 'train': 'eval'}\n",
      "{'loss': '0.576', 'epoch': 16, 'train': 'train'}\n",
      "{'loss': '0.885', 'epoch': 16, 'train': 'eval'}\n",
      "{'loss': '0.564', 'epoch': 17, 'train': 'train'}\n",
      "{'loss': '0.762', 'epoch': 17, 'train': 'eval'}\n",
      "{'loss': '0.549', 'epoch': 18, 'train': 'train'}\n",
      "{'loss': '0.760', 'epoch': 18, 'train': 'eval'}\n",
      "{'loss': '0.549', 'epoch': 19, 'train': 'train'}\n",
      "{'loss': '0.577', 'epoch': 19, 'train': 'eval'}\n",
      "{'loss': '0.536', 'epoch': 20, 'train': 'train'}\n",
      "{'loss': '0.764', 'epoch': 20, 'train': 'eval'}\n",
      "{'loss': '0.522', 'epoch': 21, 'train': 'train'}\n",
      "{'loss': '0.726', 'epoch': 21, 'train': 'eval'}\n",
      "{'loss': '0.525', 'epoch': 22, 'train': 'train'}\n",
      "{'loss': '0.923', 'epoch': 22, 'train': 'eval'}\n",
      "{'loss': '0.514', 'epoch': 23, 'train': 'train'}\n",
      "{'loss': '0.819', 'epoch': 23, 'train': 'eval'}\n",
      "{'loss': '0.503', 'epoch': 24, 'train': 'train'}\n",
      "{'loss': '0.725', 'epoch': 24, 'train': 'eval'}\n"
     ]
    },
    {
     "data": {
      "application/vnd.jupyter.widget-view+json": {
       "model_id": "9401575ab6254b27951089eb84823c4f",
       "version_major": 2,
       "version_minor": 0
      },
      "text/plain": [
       "VBox(children=(Label(value='0.003 MB of 0.003 MB uploaded\\r'), FloatProgress(value=1.0, max=1.0)))"
      ]
     },
     "metadata": {},
     "output_type": "display_data"
    },
    {
     "data": {
      "text/html": [
       "<style>\n",
       "    table.wandb td:nth-child(1) { padding: 0 10px; text-align: left ; width: auto;} td:nth-child(2) {text-align: left ; width: 100%}\n",
       "    .wandb-row { display: flex; flex-direction: row; flex-wrap: wrap; justify-content: flex-start; width: 100% }\n",
       "    .wandb-col { display: flex; flex-direction: column; flex-basis: 100%; flex: 1; padding: 10px; }\n",
       "    </style>\n",
       "<div class=\"wandb-row\"><div class=\"wandb-col\"><h3>Run history:</h3><br/><table class=\"wandb\"><tr><td>accuracy</td><td>▁▃▅▅▆▇▅▇▇▇▇▇▇▇▇▇▇▇▇▇██▇██▇████████████▆█</td></tr><tr><td>loss</td><td>█▅▄▄▄▄▄▃▃▃▃▃▂▂▂▂▂▂▃▃▂▂▃▂▂▃▂▁▂▁▂▂▁▁▂▂▁▁▃▁</td></tr><tr><td>lr</td><td>▁▁▁▁▁▁▁▁▁▁▁▁▁▁▁▁▁▁▁▁▁▁▁▁▁▁▁▁▁▁▁▁▁▁▁▁▁▁▁▁</td></tr><tr><td>precision</td><td>▁▃▅▅▆▆▆▇▇▇▇▇▇▇▇▇▇▇▇▇▇█▇██▇██████████████</td></tr><tr><td>recall</td><td>▁▃▅▅▆▇▅▇▇▇▇▇▇▇▇▇▇▇▇▇██▇██▇████████████▆█</td></tr><tr><td>test_accuracy</td><td>▂▁▅▄█▆▄</td></tr><tr><td>test_precision</td><td>▁▁▄▄██▇</td></tr><tr><td>test_recall</td><td>▂▁▅▄█▆▄</td></tr><tr><td>train_loss</td><td>█▅▄▃▃▃▃▂▂▂▂▂▂▂▂▁▁▁▁▁▁▁▁▁▁</td></tr><tr><td>val_loss</td><td>█▆▆▅▃▄▄▄▄▂▄▃▃▃▃▃▃▂▂▁▂▂▄▃▂</td></tr></table><br/></div><div class=\"wandb-col\"><h3>Run summary:</h3><br/><table class=\"wandb\"><tr><td>accuracy</td><td>0.778</td></tr><tr><td>loss</td><td>0.73536</td></tr><tr><td>lr</td><td>0.01</td></tr><tr><td>precision</td><td>0.8109</td></tr><tr><td>recall</td><td>0.77803</td></tr><tr><td>test_accuracy</td><td>0.763</td></tr><tr><td>test_precision</td><td>0.79875</td></tr><tr><td>test_recall</td><td>0.763</td></tr><tr><td>train_loss</td><td>0.503</td></tr><tr><td>val_loss</td><td>0.725</td></tr></table><br/></div></div>"
      ],
      "text/plain": [
       "<IPython.core.display.HTML object>"
      ]
     },
     "metadata": {},
     "output_type": "display_data"
    },
    {
     "data": {
      "text/html": [
       " View run <strong style=\"color:#cdcd00\">Augmented Data</strong> at: <a href='https://wandb.ai/afterhoursbilly/diploma/runs/eedh8x9v' target=\"_blank\">https://wandb.ai/afterhoursbilly/diploma/runs/eedh8x9v</a><br/> View project at: <a href='https://wandb.ai/afterhoursbilly/diploma' target=\"_blank\">https://wandb.ai/afterhoursbilly/diploma</a><br/>Synced 5 W&B file(s), 0 media file(s), 0 artifact file(s) and 0 other file(s)"
      ],
      "text/plain": [
       "<IPython.core.display.HTML object>"
      ]
     },
     "metadata": {},
     "output_type": "display_data"
    },
    {
     "data": {
      "text/html": [
       "Find logs at: <code>./wandb/run-20240507_224920-eedh8x9v/logs</code>"
      ],
      "text/plain": [
       "<IPython.core.display.HTML object>"
      ]
     },
     "metadata": {},
     "output_type": "display_data"
    }
   ],
   "source": [
    "learn.fit(epochs)"
   ]
  },
  {
   "cell_type": "code",
   "execution_count": 36,
   "metadata": {},
   "outputs": [
    {
     "data": {
      "image/png": "[encoded data removed]",
      "text/plain": [
       "<Figure size 600x600 with 16 Axes>"
      ]
     },
     "metadata": {},
     "output_type": "display_data"
    }
   ],
   "source": [
    "learn = TrainLearner(get_model(), dls, F.cross_entropy, lr=lr, cbs=[DeviceCB(), SingleBatchCB(), augcb])\n",
    "learn.fit(1)\n",
    "xb,yb = learn.batch\n",
    "show_images(xb[:16], imsize=1.5)"
   ]
  },
  {
   "cell_type": "markdown",
   "metadata": {},
   "source": [
    "# LeakyReLU"
   ]
  },
  {
   "cell_type": "code",
   "execution_count": 37,
   "metadata": {},
   "outputs": [],
   "source": [
    "wandbcb =  WandBCB(config={'lr':lr, 'epochs':epochs, 'bs':bs, 'name':'Leaky ReLU'}, project='diploma')\n",
    "cbs = [DeviceCB('cuda'), metrics, ProgressCB(plot=True), augcb, wandbcb]\n",
    "iw = partial(init_weights, leaky=0.1)\n",
    "act_gr = partial(GeneralRelu, leak=0.1, sub=0.4)\n",
    "model = get_model(act_gr,norm=nn.BatchNorm2d).apply(iw).to(def_device)\n",
    "learn = TrainLearner(model, dls, F.cross_entropy, lr=lr, cbs=cbs)"
   ]
  },
  {
   "cell_type": "code",
   "execution_count": 39,
   "metadata": {},
   "outputs": [
    {
     "data": {
      "text/html": [
       "Tracking run with wandb version 0.16.6"
      ],
      "text/plain": [
       "<IPython.core.display.HTML object>"
      ]
     },
     "metadata": {},
     "output_type": "display_data"
    },
    {
     "data": {
      "text/html": [
       "Run data is saved locally in <code>/home/billy/diploma/wandb/run-20240507_234030-kjl115sv</code>"
      ],
      "text/plain": [
       "<IPython.core.display.HTML object>"
      ]
     },
     "metadata": {},
     "output_type": "display_data"
    },
    {
     "data": {
      "text/html": [
       "Syncing run <strong><a href='https://wandb.ai/afterhoursbilly/diploma/runs/kjl115sv' target=\"_blank\">Leaky ReLU</a></strong> to <a href='https://wandb.ai/afterhoursbilly/diploma' target=\"_blank\">Weights & Biases</a> (<a href='https://wandb.me/run' target=\"_blank\">docs</a>)<br/>"
      ],
      "text/plain": [
       "<IPython.core.display.HTML object>"
      ]
     },
     "metadata": {},
     "output_type": "display_data"
    },
    {
     "data": {
      "text/html": [
       " View project at <a href='https://wandb.ai/afterhoursbilly/diploma' target=\"_blank\">https://wandb.ai/afterhoursbilly/diploma</a>"
      ],
      "text/plain": [
       "<IPython.core.display.HTML object>"
      ]
     },
     "metadata": {},
     "output_type": "display_data"
    },
    {
     "data": {
      "text/html": [
       " View run at <a href='https://wandb.ai/afterhoursbilly/diploma/runs/kjl115sv' target=\"_blank\">https://wandb.ai/afterhoursbilly/diploma/runs/kjl115sv</a>"
      ],
      "text/plain": [
       "<IPython.core.display.HTML object>"
      ]
     },
     "metadata": {},
     "output_type": "display_data"
    },
    {
     "data": {
      "text/html": [
       "\n",
       "<style>\n",
       "    /* Turns off some styling */\n",
       "    progress {\n",
       "        /* gets rid of default border in Firefox and Opera. */\n",
       "        border: none;\n",
       "        /* Needs to be in here for Safari polyfill so background images work as expected. */\n",
       "        background-size: auto;\n",
       "    }\n",
       "    progress:not([value]), progress:not([value])::-webkit-progress-bar {\n",
       "        background: repeating-linear-gradient(45deg, #7e7e7e, #7e7e7e 10px, #5c5c5c 10px, #5c5c5c 20px);\n",
       "    }\n",
       "    .progress-bar-interrupted, .progress-bar-interrupted::-webkit-progress-bar {\n",
       "        background: #F44336;\n",
       "    }\n",
       "</style>\n"
      ],
      "text/plain": [
       "<IPython.core.display.HTML object>"
      ]
     },
     "metadata": {},
     "output_type": "display_data"
    },
    {
     "data": {
      "text/html": [
       "<table border=\"1\" class=\"dataframe\">\n",
       "  <thead>\n",
       "    <tr style=\"text-align: left;\">\n",
       "      <th>accuracy</th>\n",
       "      <th>precision</th>\n",
       "      <th>recall</th>\n",
       "      <th>loss</th>\n",
       "      <th>epoch</th>\n",
       "      <th>train</th>\n",
       "    </tr>\n",
       "  </thead>\n",
       "  <tbody>\n",
       "    <tr>\n",
       "      <td>0.601</td>\n",
       "      <td>0.594</td>\n",
       "      <td>0.601</td>\n",
       "      <td>1.273</td>\n",
       "      <td>0</td>\n",
       "      <td>train</td>\n",
       "    </tr>\n",
       "    <tr>\n",
       "      <td>0.618</td>\n",
       "      <td>0.625</td>\n",
       "      <td>0.618</td>\n",
       "      <td>1.135</td>\n",
       "      <td>0</td>\n",
       "      <td>eval</td>\n",
       "    </tr>\n",
       "    <tr>\n",
       "      <td>0.718</td>\n",
       "      <td>0.709</td>\n",
       "      <td>0.718</td>\n",
       "      <td>0.962</td>\n",
       "      <td>1</td>\n",
       "      <td>train</td>\n",
       "    </tr>\n",
       "    <tr>\n",
       "      <td>0.720</td>\n",
       "      <td>0.723</td>\n",
       "      <td>0.721</td>\n",
       "      <td>0.931</td>\n",
       "      <td>1</td>\n",
       "      <td>eval</td>\n",
       "    </tr>\n",
       "    <tr>\n",
       "      <td>0.744</td>\n",
       "      <td>0.736</td>\n",
       "      <td>0.744</td>\n",
       "      <td>0.869</td>\n",
       "      <td>2</td>\n",
       "      <td>train</td>\n",
       "    </tr>\n",
       "    <tr>\n",
       "      <td>0.720</td>\n",
       "      <td>0.737</td>\n",
       "      <td>0.720</td>\n",
       "      <td>0.888</td>\n",
       "      <td>2</td>\n",
       "      <td>eval</td>\n",
       "    </tr>\n",
       "    <tr>\n",
       "      <td>0.761</td>\n",
       "      <td>0.753</td>\n",
       "      <td>0.761</td>\n",
       "      <td>0.803</td>\n",
       "      <td>3</td>\n",
       "      <td>train</td>\n",
       "    </tr>\n",
       "    <tr>\n",
       "      <td>0.715</td>\n",
       "      <td>0.745</td>\n",
       "      <td>0.715</td>\n",
       "      <td>0.907</td>\n",
       "      <td>3</td>\n",
       "      <td>eval</td>\n",
       "    </tr>\n",
       "    <tr>\n",
       "      <td>0.772</td>\n",
       "      <td>0.765</td>\n",
       "      <td>0.772</td>\n",
       "      <td>0.755</td>\n",
       "      <td>4</td>\n",
       "      <td>train</td>\n",
       "    </tr>\n",
       "    <tr>\n",
       "      <td>0.774</td>\n",
       "      <td>0.782</td>\n",
       "      <td>0.774</td>\n",
       "      <td>0.721</td>\n",
       "      <td>4</td>\n",
       "      <td>eval</td>\n",
       "    </tr>\n",
       "    <tr>\n",
       "      <td>0.783</td>\n",
       "      <td>0.777</td>\n",
       "      <td>0.782</td>\n",
       "      <td>0.718</td>\n",
       "      <td>5</td>\n",
       "      <td>train</td>\n",
       "    </tr>\n",
       "    <tr>\n",
       "      <td>0.735</td>\n",
       "      <td>0.763</td>\n",
       "      <td>0.736</td>\n",
       "      <td>0.827</td>\n",
       "      <td>5</td>\n",
       "      <td>eval</td>\n",
       "    </tr>\n",
       "    <tr>\n",
       "      <td>0.792</td>\n",
       "      <td>0.786</td>\n",
       "      <td>0.791</td>\n",
       "      <td>0.684</td>\n",
       "      <td>6</td>\n",
       "      <td>train</td>\n",
       "    </tr>\n",
       "    <tr>\n",
       "      <td>0.748</td>\n",
       "      <td>0.778</td>\n",
       "      <td>0.748</td>\n",
       "      <td>0.784</td>\n",
       "      <td>6</td>\n",
       "      <td>eval</td>\n",
       "    </tr>\n",
       "    <tr>\n",
       "      <td>0.796</td>\n",
       "      <td>0.791</td>\n",
       "      <td>0.796</td>\n",
       "      <td>0.663</td>\n",
       "      <td>7</td>\n",
       "      <td>train</td>\n",
       "    </tr>\n",
       "    <tr>\n",
       "      <td>0.753</td>\n",
       "      <td>0.775</td>\n",
       "      <td>0.754</td>\n",
       "      <td>0.756</td>\n",
       "      <td>7</td>\n",
       "      <td>eval</td>\n",
       "    </tr>\n",
       "    <tr>\n",
       "      <td>0.804</td>\n",
       "      <td>0.800</td>\n",
       "      <td>0.804</td>\n",
       "      <td>0.632</td>\n",
       "      <td>8</td>\n",
       "      <td>train</td>\n",
       "    </tr>\n",
       "    <tr>\n",
       "      <td>0.764</td>\n",
       "      <td>0.789</td>\n",
       "      <td>0.765</td>\n",
       "      <td>0.761</td>\n",
       "      <td>8</td>\n",
       "      <td>eval</td>\n",
       "    </tr>\n",
       "    <tr>\n",
       "      <td>0.809</td>\n",
       "      <td>0.806</td>\n",
       "      <td>0.809</td>\n",
       "      <td>0.615</td>\n",
       "      <td>9</td>\n",
       "      <td>train</td>\n",
       "    </tr>\n",
       "    <tr>\n",
       "      <td>0.809</td>\n",
       "      <td>0.813</td>\n",
       "      <td>0.809</td>\n",
       "      <td>0.593</td>\n",
       "      <td>9</td>\n",
       "      <td>eval</td>\n",
       "    </tr>\n",
       "    <tr>\n",
       "      <td>0.808</td>\n",
       "      <td>0.805</td>\n",
       "      <td>0.808</td>\n",
       "      <td>0.604</td>\n",
       "      <td>10</td>\n",
       "      <td>train</td>\n",
       "    </tr>\n",
       "    <tr>\n",
       "      <td>0.773</td>\n",
       "      <td>0.791</td>\n",
       "      <td>0.773</td>\n",
       "      <td>0.727</td>\n",
       "      <td>10</td>\n",
       "      <td>eval</td>\n",
       "    </tr>\n",
       "    <tr>\n",
       "      <td>0.817</td>\n",
       "      <td>0.814</td>\n",
       "      <td>0.817</td>\n",
       "      <td>0.582</td>\n",
       "      <td>11</td>\n",
       "      <td>train</td>\n",
       "    </tr>\n",
       "    <tr>\n",
       "      <td>0.772</td>\n",
       "      <td>0.795</td>\n",
       "      <td>0.772</td>\n",
       "      <td>0.687</td>\n",
       "      <td>11</td>\n",
       "      <td>eval</td>\n",
       "    </tr>\n",
       "    <tr>\n",
       "      <td>0.819</td>\n",
       "      <td>0.816</td>\n",
       "      <td>0.819</td>\n",
       "      <td>0.568</td>\n",
       "      <td>12</td>\n",
       "      <td>train</td>\n",
       "    </tr>\n",
       "    <tr>\n",
       "      <td>0.787</td>\n",
       "      <td>0.806</td>\n",
       "      <td>0.787</td>\n",
       "      <td>0.637</td>\n",
       "      <td>12</td>\n",
       "      <td>eval</td>\n",
       "    </tr>\n",
       "    <tr>\n",
       "      <td>0.823</td>\n",
       "      <td>0.820</td>\n",
       "      <td>0.823</td>\n",
       "      <td>0.552</td>\n",
       "      <td>13</td>\n",
       "      <td>train</td>\n",
       "    </tr>\n",
       "    <tr>\n",
       "      <td>0.799</td>\n",
       "      <td>0.806</td>\n",
       "      <td>0.799</td>\n",
       "      <td>0.631</td>\n",
       "      <td>13</td>\n",
       "      <td>eval</td>\n",
       "    </tr>\n",
       "    <tr>\n",
       "      <td>0.826</td>\n",
       "      <td>0.824</td>\n",
       "      <td>0.826</td>\n",
       "      <td>0.542</td>\n",
       "      <td>14</td>\n",
       "      <td>train</td>\n",
       "    </tr>\n",
       "    <tr>\n",
       "      <td>0.775</td>\n",
       "      <td>0.792</td>\n",
       "      <td>0.775</td>\n",
       "      <td>0.682</td>\n",
       "      <td>14</td>\n",
       "      <td>eval</td>\n",
       "    </tr>\n",
       "    <tr>\n",
       "      <td>0.826</td>\n",
       "      <td>0.824</td>\n",
       "      <td>0.826</td>\n",
       "      <td>0.532</td>\n",
       "      <td>15</td>\n",
       "      <td>train</td>\n",
       "    </tr>\n",
       "    <tr>\n",
       "      <td>0.787</td>\n",
       "      <td>0.809</td>\n",
       "      <td>0.788</td>\n",
       "      <td>0.639</td>\n",
       "      <td>15</td>\n",
       "      <td>eval</td>\n",
       "    </tr>\n",
       "    <tr>\n",
       "      <td>0.831</td>\n",
       "      <td>0.828</td>\n",
       "      <td>0.831</td>\n",
       "      <td>0.521</td>\n",
       "      <td>16</td>\n",
       "      <td>train</td>\n",
       "    </tr>\n",
       "    <tr>\n",
       "      <td>0.755</td>\n",
       "      <td>0.800</td>\n",
       "      <td>0.755</td>\n",
       "      <td>0.726</td>\n",
       "      <td>16</td>\n",
       "      <td>eval</td>\n",
       "    </tr>\n",
       "    <tr>\n",
       "      <td>0.834</td>\n",
       "      <td>0.832</td>\n",
       "      <td>0.833</td>\n",
       "      <td>0.513</td>\n",
       "      <td>17</td>\n",
       "      <td>train</td>\n",
       "    </tr>\n",
       "    <tr>\n",
       "      <td>0.785</td>\n",
       "      <td>0.805</td>\n",
       "      <td>0.786</td>\n",
       "      <td>0.636</td>\n",
       "      <td>17</td>\n",
       "      <td>eval</td>\n",
       "    </tr>\n",
       "    <tr>\n",
       "      <td>0.836</td>\n",
       "      <td>0.834</td>\n",
       "      <td>0.836</td>\n",
       "      <td>0.500</td>\n",
       "      <td>18</td>\n",
       "      <td>train</td>\n",
       "    </tr>\n",
       "    <tr>\n",
       "      <td>0.802</td>\n",
       "      <td>0.818</td>\n",
       "      <td>0.802</td>\n",
       "      <td>0.597</td>\n",
       "      <td>18</td>\n",
       "      <td>eval</td>\n",
       "    </tr>\n",
       "    <tr>\n",
       "      <td>0.839</td>\n",
       "      <td>0.837</td>\n",
       "      <td>0.839</td>\n",
       "      <td>0.492</td>\n",
       "      <td>19</td>\n",
       "      <td>train</td>\n",
       "    </tr>\n",
       "    <tr>\n",
       "      <td>0.847</td>\n",
       "      <td>0.850</td>\n",
       "      <td>0.847</td>\n",
       "      <td>0.470</td>\n",
       "      <td>19</td>\n",
       "      <td>eval</td>\n",
       "    </tr>\n",
       "    <tr>\n",
       "      <td>0.841</td>\n",
       "      <td>0.840</td>\n",
       "      <td>0.841</td>\n",
       "      <td>0.484</td>\n",
       "      <td>20</td>\n",
       "      <td>train</td>\n",
       "    </tr>\n",
       "    <tr>\n",
       "      <td>0.809</td>\n",
       "      <td>0.815</td>\n",
       "      <td>0.809</td>\n",
       "      <td>0.589</td>\n",
       "      <td>20</td>\n",
       "      <td>eval</td>\n",
       "    </tr>\n",
       "    <tr>\n",
       "      <td>0.846</td>\n",
       "      <td>0.844</td>\n",
       "      <td>0.846</td>\n",
       "      <td>0.470</td>\n",
       "      <td>21</td>\n",
       "      <td>train</td>\n",
       "    </tr>\n",
       "    <tr>\n",
       "      <td>0.776</td>\n",
       "      <td>0.802</td>\n",
       "      <td>0.776</td>\n",
       "      <td>0.672</td>\n",
       "      <td>21</td>\n",
       "      <td>eval</td>\n",
       "    </tr>\n",
       "    <tr>\n",
       "      <td>0.846</td>\n",
       "      <td>0.844</td>\n",
       "      <td>0.846</td>\n",
       "      <td>0.470</td>\n",
       "      <td>22</td>\n",
       "      <td>train</td>\n",
       "    </tr>\n",
       "    <tr>\n",
       "      <td>0.819</td>\n",
       "      <td>0.822</td>\n",
       "      <td>0.820</td>\n",
       "      <td>0.584</td>\n",
       "      <td>22</td>\n",
       "      <td>eval</td>\n",
       "    </tr>\n",
       "    <tr>\n",
       "      <td>0.846</td>\n",
       "      <td>0.845</td>\n",
       "      <td>0.846</td>\n",
       "      <td>0.466</td>\n",
       "      <td>23</td>\n",
       "      <td>train</td>\n",
       "    </tr>\n",
       "    <tr>\n",
       "      <td>0.821</td>\n",
       "      <td>0.823</td>\n",
       "      <td>0.822</td>\n",
       "      <td>0.537</td>\n",
       "      <td>23</td>\n",
       "      <td>eval</td>\n",
       "    </tr>\n",
       "    <tr>\n",
       "      <td>0.847</td>\n",
       "      <td>0.845</td>\n",
       "      <td>0.847</td>\n",
       "      <td>0.460</td>\n",
       "      <td>24</td>\n",
       "      <td>train</td>\n",
       "    </tr>\n",
       "    <tr>\n",
       "      <td>0.821</td>\n",
       "      <td>0.825</td>\n",
       "      <td>0.821</td>\n",
       "      <td>0.557</td>\n",
       "      <td>24</td>\n",
       "      <td>eval</td>\n",
       "    </tr>\n",
       "  </tbody>\n",
       "</table>"
      ],
      "text/plain": [
       "<IPython.core.display.HTML object>"
      ]
     },
     "metadata": {},
     "output_type": "display_data"
    },
    {
     "name": "stdout",
     "output_type": "stream",
     "text": [
      "{'loss': '1.273', 'epoch': 0, 'train': 'train'}\n"
     ]
    },
    {
     "data": {
      "image/png": "[encoded data removed]",
      "text/plain": [
       "<Figure size 600x400 with 1 Axes>"
      ]
     },
     "metadata": {},
     "output_type": "display_data"
    },
    {
     "name": "stdout",
     "output_type": "stream",
     "text": [
      "{'loss': '1.135', 'epoch': 0, 'train': 'eval'}\n",
      "{'loss': '0.962', 'epoch': 1, 'train': 'train'}\n",
      "{'loss': '0.931', 'epoch': 1, 'train': 'eval'}\n",
      "{'loss': '0.869', 'epoch': 2, 'train': 'train'}\n",
      "{'loss': '0.888', 'epoch': 2, 'train': 'eval'}\n",
      "{'loss': '0.803', 'epoch': 3, 'train': 'train'}\n",
      "{'loss': '0.907', 'epoch': 3, 'train': 'eval'}\n",
      "{'loss': '0.755', 'epoch': 4, 'train': 'train'}\n",
      "{'loss': '0.721', 'epoch': 4, 'train': 'eval'}\n",
      "{'loss': '0.718', 'epoch': 5, 'train': 'train'}\n",
      "{'loss': '0.827', 'epoch': 5, 'train': 'eval'}\n",
      "{'loss': '0.684', 'epoch': 6, 'train': 'train'}\n",
      "{'loss': '0.784', 'epoch': 6, 'train': 'eval'}\n",
      "{'loss': '0.663', 'epoch': 7, 'train': 'train'}\n",
      "{'loss': '0.756', 'epoch': 7, 'train': 'eval'}\n",
      "{'loss': '0.632', 'epoch': 8, 'train': 'train'}\n",
      "{'loss': '0.761', 'epoch': 8, 'train': 'eval'}\n",
      "{'loss': '0.615', 'epoch': 9, 'train': 'train'}\n",
      "{'loss': '0.593', 'epoch': 9, 'train': 'eval'}\n",
      "{'loss': '0.604', 'epoch': 10, 'train': 'train'}\n",
      "{'loss': '0.727', 'epoch': 10, 'train': 'eval'}\n",
      "{'loss': '0.582', 'epoch': 11, 'train': 'train'}\n",
      "{'loss': '0.687', 'epoch': 11, 'train': 'eval'}\n",
      "{'loss': '0.568', 'epoch': 12, 'train': 'train'}\n",
      "{'loss': '0.637', 'epoch': 12, 'train': 'eval'}\n",
      "{'loss': '0.552', 'epoch': 13, 'train': 'train'}\n",
      "{'loss': '0.631', 'epoch': 13, 'train': 'eval'}\n",
      "{'loss': '0.542', 'epoch': 14, 'train': 'train'}\n",
      "{'loss': '0.682', 'epoch': 14, 'train': 'eval'}\n",
      "{'loss': '0.532', 'epoch': 15, 'train': 'train'}\n",
      "{'loss': '0.639', 'epoch': 15, 'train': 'eval'}\n",
      "{'loss': '0.521', 'epoch': 16, 'train': 'train'}\n",
      "{'loss': '0.726', 'epoch': 16, 'train': 'eval'}\n",
      "{'loss': '0.513', 'epoch': 17, 'train': 'train'}\n",
      "{'loss': '0.636', 'epoch': 17, 'train': 'eval'}\n",
      "{'loss': '0.500', 'epoch': 18, 'train': 'train'}\n",
      "{'loss': '0.597', 'epoch': 18, 'train': 'eval'}\n",
      "{'loss': '0.492', 'epoch': 19, 'train': 'train'}\n",
      "{'loss': '0.470', 'epoch': 19, 'train': 'eval'}\n",
      "{'loss': '0.484', 'epoch': 20, 'train': 'train'}\n",
      "{'loss': '0.589', 'epoch': 20, 'train': 'eval'}\n",
      "{'loss': '0.470', 'epoch': 21, 'train': 'train'}\n",
      "{'loss': '0.672', 'epoch': 21, 'train': 'eval'}\n",
      "{'loss': '0.470', 'epoch': 22, 'train': 'train'}\n",
      "{'loss': '0.584', 'epoch': 22, 'train': 'eval'}\n",
      "{'loss': '0.466', 'epoch': 23, 'train': 'train'}\n",
      "{'loss': '0.537', 'epoch': 23, 'train': 'eval'}\n",
      "{'loss': '0.460', 'epoch': 24, 'train': 'train'}\n",
      "{'loss': '0.557', 'epoch': 24, 'train': 'eval'}\n"
     ]
    },
    {
     "data": {
      "application/vnd.jupyter.widget-view+json": {
       "model_id": "90bde0affd3948b699172a97df1d7aee",
       "version_major": 2,
       "version_minor": 0
      },
      "text/plain": [
       "VBox(children=(Label(value='0.003 MB of 0.003 MB uploaded\\r'), FloatProgress(value=1.0, max=1.0)))"
      ]
     },
     "metadata": {},
     "output_type": "display_data"
    },
    {
     "data": {
      "text/html": [
       "<style>\n",
       "    table.wandb td:nth-child(1) { padding: 0 10px; text-align: left ; width: auto;} td:nth-child(2) {text-align: left ; width: 100%}\n",
       "    .wandb-row { display: flex; flex-direction: row; flex-wrap: wrap; justify-content: flex-start; width: 100% }\n",
       "    .wandb-col { display: flex; flex-direction: column; flex-basis: 100%; flex: 1; padding: 10px; }\n",
       "    </style>\n",
       "<div class=\"wandb-row\"><div class=\"wandb-col\"><h3>Run history:</h3><br/><table class=\"wandb\"><tr><td>accuracy</td><td>▁▃▅▆▆▆▅▇▇▇▇▇▇▇▇▇▇▇▇▇▇█▇██▇██████████████</td></tr><tr><td>loss</td><td>█▆▆▆▄▄▅▄▃▃▃▃▃▃▃▂▂▂▃▃▂▃▃▃▂▃▂▂▃▂▂▂▁▂▂▁▁▁▂▁</td></tr><tr><td>lr</td><td>▁▁▁▁▁▁▁▁▁▁▁▁▁▁▁▁▁▁▁▁▁▁▁▁▁▁▁▁▁▁▁▁▁▁▁▁▁▁▁▁</td></tr><tr><td>precision</td><td>▁▃▅▆▆▆▆▆▇▇▇▇▇▇▇▇▇▇▇▇▇▇▇██▇██████████████</td></tr><tr><td>recall</td><td>▁▃▅▆▆▆▆▇▇▇▇▇▇▇▇▇▇▇▇▇▇█▇██▇██████████████</td></tr><tr><td>test_accuracy</td><td>▃▁▅▄█▇▅</td></tr><tr><td>test_precision</td><td>▁▁▅▄██▆</td></tr><tr><td>test_recall</td><td>▃▁▅▄█▇▅</td></tr><tr><td>train_loss</td><td>█▅▅▄▄▃▃▃▂▂▂▂▂▂▂▂▂▁▁▁▁▁▁▁▁</td></tr><tr><td>val_loss</td><td>█▆▅▆▄▅▄▄▄▂▄▃▃▃▃▃▄▃▂▁▂▃▂▂▂</td></tr></table><br/></div><div class=\"wandb-col\"><h3>Run summary:</h3><br/><table class=\"wandb\"><tr><td>accuracy</td><td>0.82083</td></tr><tr><td>loss</td><td>0.57389</td></tr><tr><td>lr</td><td>0.01</td></tr><tr><td>precision</td><td>0.82526</td></tr><tr><td>recall</td><td>0.82136</td></tr><tr><td>test_accuracy</td><td>0.8108</td></tr><tr><td>test_precision</td><td>0.81616</td></tr><tr><td>test_recall</td><td>0.8108</td></tr><tr><td>train_loss</td><td>0.46</td></tr><tr><td>val_loss</td><td>0.557</td></tr></table><br/></div></div>"
      ],
      "text/plain": [
       "<IPython.core.display.HTML object>"
      ]
     },
     "metadata": {},
     "output_type": "display_data"
    },
    {
     "data": {
      "text/html": [
       " View run <strong style=\"color:#cdcd00\">Leaky ReLU</strong> at: <a href='https://wandb.ai/afterhoursbilly/diploma/runs/kjl115sv' target=\"_blank\">https://wandb.ai/afterhoursbilly/diploma/runs/kjl115sv</a><br/> View project at: <a href='https://wandb.ai/afterhoursbilly/diploma' target=\"_blank\">https://wandb.ai/afterhoursbilly/diploma</a><br/>Synced 5 W&B file(s), 0 media file(s), 0 artifact file(s) and 0 other file(s)"
      ],
      "text/plain": [
       "<IPython.core.display.HTML object>"
      ]
     },
     "metadata": {},
     "output_type": "display_data"
    },
    {
     "data": {
      "text/html": [
       "Find logs at: <code>./wandb/run-20240507_234030-kjl115sv/logs</code>"
      ],
      "text/plain": [
       "<IPython.core.display.HTML object>"
      ]
     },
     "metadata": {},
     "output_type": "display_data"
    }
   ],
   "source": [
    "learn.fit(epochs)"
   ]
  },
  {
   "cell_type": "markdown",
   "metadata": {},
   "source": [
    "# LR-Scheduler"
   ]
  },
  {
   "cell_type": "code",
   "execution_count": 41,
   "metadata": {},
   "outputs": [],
   "source": [
    "def _lr(cb): return cb.pg['lr']\n",
    "record = RecorderCB(lr = _lr)\n",
    "\n",
    "tmax = epochs * len(dls.train)\n",
    "sched = partial(lr_scheduler.OneCycleLR, max_lr=lr, total_steps=tmax)\n",
    "\n",
    "\n",
    "wandbcb =  WandBCB(config={'lr':lr, 'epochs':epochs, 'bs':bs, 'name':'LR Scheduler'}, project='diploma')\n",
    "cbs = [DeviceCB('cuda'), metrics, ProgressCB(plot=True), augcb, wandbcb]\n",
    "iw = partial(init_weights, leaky=0.1)\n",
    "act_gr = partial(GeneralRelu, leak=0.1, sub=0.4)\n",
    "model = get_model(act_gr,norm=nn.BatchNorm2d).apply(iw).to(def_device)\n",
    "xtra = [BatchSchedCB(sched),record]\n",
    "learn = TrainLearner(model, dls, F.cross_entropy, lr=lr, cbs=cbs+xtra)"
   ]
  },
  {
   "cell_type": "code",
   "execution_count": 42,
   "metadata": {},
   "outputs": [
    {
     "data": {
      "text/html": [
       "Tracking run with wandb version 0.16.6"
      ],
      "text/plain": [
       "<IPython.core.display.HTML object>"
      ]
     },
     "metadata": {},
     "output_type": "display_data"
    },
    {
     "data": {
      "text/html": [
       "Run data is saved locally in <code>/home/billy/diploma/wandb/run-20240508_000105-49y2orv0</code>"
      ],
      "text/plain": [
       "<IPython.core.display.HTML object>"
      ]
     },
     "metadata": {},
     "output_type": "display_data"
    },
    {
     "data": {
      "text/html": [
       "Syncing run <strong><a href='https://wandb.ai/afterhoursbilly/diploma/runs/49y2orv0' target=\"_blank\">LR Scheduler</a></strong> to <a href='https://wandb.ai/afterhoursbilly/diploma' target=\"_blank\">Weights & Biases</a> (<a href='https://wandb.me/run' target=\"_blank\">docs</a>)<br/>"
      ],
      "text/plain": [
       "<IPython.core.display.HTML object>"
      ]
     },
     "metadata": {},
     "output_type": "display_data"
    },
    {
     "data": {
      "text/html": [
       " View project at <a href='https://wandb.ai/afterhoursbilly/diploma' target=\"_blank\">https://wandb.ai/afterhoursbilly/diploma</a>"
      ],
      "text/plain": [
       "<IPython.core.display.HTML object>"
      ]
     },
     "metadata": {},
     "output_type": "display_data"
    },
    {
     "data": {
      "text/html": [
       " View run at <a href='https://wandb.ai/afterhoursbilly/diploma/runs/49y2orv0' target=\"_blank\">https://wandb.ai/afterhoursbilly/diploma/runs/49y2orv0</a>"
      ],
      "text/plain": [
       "<IPython.core.display.HTML object>"
      ]
     },
     "metadata": {},
     "output_type": "display_data"
    },
    {
     "data": {
      "text/html": [
       "\n",
       "<style>\n",
       "    /* Turns off some styling */\n",
       "    progress {\n",
       "        /* gets rid of default border in Firefox and Opera. */\n",
       "        border: none;\n",
       "        /* Needs to be in here for Safari polyfill so background images work as expected. */\n",
       "        background-size: auto;\n",
       "    }\n",
       "    progress:not([value]), progress:not([value])::-webkit-progress-bar {\n",
       "        background: repeating-linear-gradient(45deg, #7e7e7e, #7e7e7e 10px, #5c5c5c 10px, #5c5c5c 20px);\n",
       "    }\n",
       "    .progress-bar-interrupted, .progress-bar-interrupted::-webkit-progress-bar {\n",
       "        background: #F44336;\n",
       "    }\n",
       "</style>\n"
      ],
      "text/plain": [
       "<IPython.core.display.HTML object>"
      ]
     },
     "metadata": {},
     "output_type": "display_data"
    },
    {
     "data": {
      "text/html": [
       "<table border=\"1\" class=\"dataframe\">\n",
       "  <thead>\n",
       "    <tr style=\"text-align: left;\">\n",
       "      <th>accuracy</th>\n",
       "      <th>precision</th>\n",
       "      <th>recall</th>\n",
       "      <th>loss</th>\n",
       "      <th>epoch</th>\n",
       "      <th>train</th>\n",
       "    </tr>\n",
       "  </thead>\n",
       "  <tbody>\n",
       "    <tr>\n",
       "      <td>0.564</td>\n",
       "      <td>0.560</td>\n",
       "      <td>0.564</td>\n",
       "      <td>1.406</td>\n",
       "      <td>0</td>\n",
       "      <td>train</td>\n",
       "    </tr>\n",
       "    <tr>\n",
       "      <td>0.642</td>\n",
       "      <td>0.672</td>\n",
       "      <td>0.643</td>\n",
       "      <td>1.185</td>\n",
       "      <td>0</td>\n",
       "      <td>eval</td>\n",
       "    </tr>\n",
       "    <tr>\n",
       "      <td>0.729</td>\n",
       "      <td>0.722</td>\n",
       "      <td>0.729</td>\n",
       "      <td>0.931</td>\n",
       "      <td>1</td>\n",
       "      <td>train</td>\n",
       "    </tr>\n",
       "    <tr>\n",
       "      <td>0.710</td>\n",
       "      <td>0.736</td>\n",
       "      <td>0.711</td>\n",
       "      <td>0.965</td>\n",
       "      <td>1</td>\n",
       "      <td>eval</td>\n",
       "    </tr>\n",
       "    <tr>\n",
       "      <td>0.768</td>\n",
       "      <td>0.762</td>\n",
       "      <td>0.768</td>\n",
       "      <td>0.760</td>\n",
       "      <td>2</td>\n",
       "      <td>train</td>\n",
       "    </tr>\n",
       "    <tr>\n",
       "      <td>0.731</td>\n",
       "      <td>0.765</td>\n",
       "      <td>0.732</td>\n",
       "      <td>0.866</td>\n",
       "      <td>2</td>\n",
       "      <td>eval</td>\n",
       "    </tr>\n",
       "    <tr>\n",
       "      <td>0.797</td>\n",
       "      <td>0.794</td>\n",
       "      <td>0.797</td>\n",
       "      <td>0.639</td>\n",
       "      <td>3</td>\n",
       "      <td>train</td>\n",
       "    </tr>\n",
       "    <tr>\n",
       "      <td>0.738</td>\n",
       "      <td>0.782</td>\n",
       "      <td>0.738</td>\n",
       "      <td>0.801</td>\n",
       "      <td>3</td>\n",
       "      <td>eval</td>\n",
       "    </tr>\n",
       "    <tr>\n",
       "      <td>0.814</td>\n",
       "      <td>0.810</td>\n",
       "      <td>0.814</td>\n",
       "      <td>0.571</td>\n",
       "      <td>4</td>\n",
       "      <td>train</td>\n",
       "    </tr>\n",
       "    <tr>\n",
       "      <td>0.825</td>\n",
       "      <td>0.831</td>\n",
       "      <td>0.825</td>\n",
       "      <td>0.531</td>\n",
       "      <td>4</td>\n",
       "      <td>eval</td>\n",
       "    </tr>\n",
       "    <tr>\n",
       "      <td>0.825</td>\n",
       "      <td>0.823</td>\n",
       "      <td>0.825</td>\n",
       "      <td>0.524</td>\n",
       "      <td>5</td>\n",
       "      <td>train</td>\n",
       "    </tr>\n",
       "    <tr>\n",
       "      <td>0.785</td>\n",
       "      <td>0.784</td>\n",
       "      <td>0.787</td>\n",
       "      <td>0.667</td>\n",
       "      <td>5</td>\n",
       "      <td>eval</td>\n",
       "    </tr>\n",
       "    <tr>\n",
       "      <td>0.836</td>\n",
       "      <td>0.835</td>\n",
       "      <td>0.836</td>\n",
       "      <td>0.484</td>\n",
       "      <td>6</td>\n",
       "      <td>train</td>\n",
       "    </tr>\n",
       "    <tr>\n",
       "      <td>0.787</td>\n",
       "      <td>0.789</td>\n",
       "      <td>0.789</td>\n",
       "      <td>0.653</td>\n",
       "      <td>6</td>\n",
       "      <td>eval</td>\n",
       "    </tr>\n",
       "    <tr>\n",
       "      <td>0.846</td>\n",
       "      <td>0.844</td>\n",
       "      <td>0.845</td>\n",
       "      <td>0.451</td>\n",
       "      <td>7</td>\n",
       "      <td>train</td>\n",
       "    </tr>\n",
       "    <tr>\n",
       "      <td>0.778</td>\n",
       "      <td>0.812</td>\n",
       "      <td>0.778</td>\n",
       "      <td>0.681</td>\n",
       "      <td>7</td>\n",
       "      <td>eval</td>\n",
       "    </tr>\n",
       "    <tr>\n",
       "      <td>0.853</td>\n",
       "      <td>0.852</td>\n",
       "      <td>0.853</td>\n",
       "      <td>0.426</td>\n",
       "      <td>8</td>\n",
       "      <td>train</td>\n",
       "    </tr>\n",
       "    <tr>\n",
       "      <td>0.812</td>\n",
       "      <td>0.820</td>\n",
       "      <td>0.812</td>\n",
       "      <td>0.577</td>\n",
       "      <td>8</td>\n",
       "      <td>eval</td>\n",
       "    </tr>\n",
       "    <tr>\n",
       "      <td>0.857</td>\n",
       "      <td>0.856</td>\n",
       "      <td>0.857</td>\n",
       "      <td>0.409</td>\n",
       "      <td>9</td>\n",
       "      <td>train</td>\n",
       "    </tr>\n",
       "    <tr>\n",
       "      <td>0.850</td>\n",
       "      <td>0.856</td>\n",
       "      <td>0.849</td>\n",
       "      <td>0.428</td>\n",
       "      <td>9</td>\n",
       "      <td>eval</td>\n",
       "    </tr>\n",
       "    <tr>\n",
       "      <td>0.866</td>\n",
       "      <td>0.865</td>\n",
       "      <td>0.866</td>\n",
       "      <td>0.387</td>\n",
       "      <td>10</td>\n",
       "      <td>train</td>\n",
       "    </tr>\n",
       "    <tr>\n",
       "      <td>0.788</td>\n",
       "      <td>0.813</td>\n",
       "      <td>0.788</td>\n",
       "      <td>0.606</td>\n",
       "      <td>10</td>\n",
       "      <td>eval</td>\n",
       "    </tr>\n",
       "    <tr>\n",
       "      <td>0.866</td>\n",
       "      <td>0.865</td>\n",
       "      <td>0.866</td>\n",
       "      <td>0.380</td>\n",
       "      <td>11</td>\n",
       "      <td>train</td>\n",
       "    </tr>\n",
       "    <tr>\n",
       "      <td>0.767</td>\n",
       "      <td>0.803</td>\n",
       "      <td>0.767</td>\n",
       "      <td>0.629</td>\n",
       "      <td>11</td>\n",
       "      <td>eval</td>\n",
       "    </tr>\n",
       "    <tr>\n",
       "      <td>0.874</td>\n",
       "      <td>0.873</td>\n",
       "      <td>0.874</td>\n",
       "      <td>0.357</td>\n",
       "      <td>12</td>\n",
       "      <td>train</td>\n",
       "    </tr>\n",
       "    <tr>\n",
       "      <td>0.836</td>\n",
       "      <td>0.841</td>\n",
       "      <td>0.837</td>\n",
       "      <td>0.484</td>\n",
       "      <td>12</td>\n",
       "      <td>eval</td>\n",
       "    </tr>\n",
       "    <tr>\n",
       "      <td>0.876</td>\n",
       "      <td>0.875</td>\n",
       "      <td>0.876</td>\n",
       "      <td>0.353</td>\n",
       "      <td>13</td>\n",
       "      <td>train</td>\n",
       "    </tr>\n",
       "    <tr>\n",
       "      <td>0.830</td>\n",
       "      <td>0.851</td>\n",
       "      <td>0.830</td>\n",
       "      <td>0.451</td>\n",
       "      <td>13</td>\n",
       "      <td>eval</td>\n",
       "    </tr>\n",
       "    <tr>\n",
       "      <td>0.879</td>\n",
       "      <td>0.878</td>\n",
       "      <td>0.879</td>\n",
       "      <td>0.341</td>\n",
       "      <td>14</td>\n",
       "      <td>train</td>\n",
       "    </tr>\n",
       "    <tr>\n",
       "      <td>0.793</td>\n",
       "      <td>0.832</td>\n",
       "      <td>0.793</td>\n",
       "      <td>0.555</td>\n",
       "      <td>14</td>\n",
       "      <td>eval</td>\n",
       "    </tr>\n",
       "    <tr>\n",
       "      <td>0.881</td>\n",
       "      <td>0.880</td>\n",
       "      <td>0.881</td>\n",
       "      <td>0.336</td>\n",
       "      <td>15</td>\n",
       "      <td>train</td>\n",
       "    </tr>\n",
       "    <tr>\n",
       "      <td>0.842</td>\n",
       "      <td>0.842</td>\n",
       "      <td>0.843</td>\n",
       "      <td>0.481</td>\n",
       "      <td>15</td>\n",
       "      <td>eval</td>\n",
       "    </tr>\n",
       "    <tr>\n",
       "      <td>0.879</td>\n",
       "      <td>0.878</td>\n",
       "      <td>0.879</td>\n",
       "      <td>0.339</td>\n",
       "      <td>16</td>\n",
       "      <td>train</td>\n",
       "    </tr>\n",
       "    <tr>\n",
       "      <td>0.808</td>\n",
       "      <td>0.833</td>\n",
       "      <td>0.807</td>\n",
       "      <td>0.519</td>\n",
       "      <td>16</td>\n",
       "      <td>eval</td>\n",
       "    </tr>\n",
       "    <tr>\n",
       "      <td>0.885</td>\n",
       "      <td>0.885</td>\n",
       "      <td>0.885</td>\n",
       "      <td>0.323</td>\n",
       "      <td>17</td>\n",
       "      <td>train</td>\n",
       "    </tr>\n",
       "    <tr>\n",
       "      <td>0.839</td>\n",
       "      <td>0.843</td>\n",
       "      <td>0.840</td>\n",
       "      <td>0.469</td>\n",
       "      <td>17</td>\n",
       "      <td>eval</td>\n",
       "    </tr>\n",
       "    <tr>\n",
       "      <td>0.888</td>\n",
       "      <td>0.887</td>\n",
       "      <td>0.888</td>\n",
       "      <td>0.313</td>\n",
       "      <td>18</td>\n",
       "      <td>train</td>\n",
       "    </tr>\n",
       "    <tr>\n",
       "      <td>0.831</td>\n",
       "      <td>0.842</td>\n",
       "      <td>0.831</td>\n",
       "      <td>0.473</td>\n",
       "      <td>18</td>\n",
       "      <td>eval</td>\n",
       "    </tr>\n",
       "    <tr>\n",
       "      <td>0.889</td>\n",
       "      <td>0.888</td>\n",
       "      <td>0.889</td>\n",
       "      <td>0.312</td>\n",
       "      <td>19</td>\n",
       "      <td>train</td>\n",
       "    </tr>\n",
       "    <tr>\n",
       "      <td>0.881</td>\n",
       "      <td>0.884</td>\n",
       "      <td>0.881</td>\n",
       "      <td>0.331</td>\n",
       "      <td>19</td>\n",
       "      <td>eval</td>\n",
       "    </tr>\n",
       "    <tr>\n",
       "      <td>0.892</td>\n",
       "      <td>0.891</td>\n",
       "      <td>0.892</td>\n",
       "      <td>0.308</td>\n",
       "      <td>20</td>\n",
       "      <td>train</td>\n",
       "    </tr>\n",
       "    <tr>\n",
       "      <td>0.832</td>\n",
       "      <td>0.856</td>\n",
       "      <td>0.832</td>\n",
       "      <td>0.439</td>\n",
       "      <td>20</td>\n",
       "      <td>eval</td>\n",
       "    </tr>\n",
       "    <tr>\n",
       "      <td>0.894</td>\n",
       "      <td>0.894</td>\n",
       "      <td>0.894</td>\n",
       "      <td>0.299</td>\n",
       "      <td>21</td>\n",
       "      <td>train</td>\n",
       "    </tr>\n",
       "    <tr>\n",
       "      <td>0.850</td>\n",
       "      <td>0.853</td>\n",
       "      <td>0.851</td>\n",
       "      <td>0.450</td>\n",
       "      <td>21</td>\n",
       "      <td>eval</td>\n",
       "    </tr>\n",
       "    <tr>\n",
       "      <td>0.892</td>\n",
       "      <td>0.891</td>\n",
       "      <td>0.892</td>\n",
       "      <td>0.305</td>\n",
       "      <td>22</td>\n",
       "      <td>train</td>\n",
       "    </tr>\n",
       "    <tr>\n",
       "      <td>0.862</td>\n",
       "      <td>0.861</td>\n",
       "      <td>0.863</td>\n",
       "      <td>0.405</td>\n",
       "      <td>22</td>\n",
       "      <td>eval</td>\n",
       "    </tr>\n",
       "    <tr>\n",
       "      <td>0.896</td>\n",
       "      <td>0.896</td>\n",
       "      <td>0.896</td>\n",
       "      <td>0.292</td>\n",
       "      <td>23</td>\n",
       "      <td>train</td>\n",
       "    </tr>\n",
       "    <tr>\n",
       "      <td>0.860</td>\n",
       "      <td>0.868</td>\n",
       "      <td>0.860</td>\n",
       "      <td>0.382</td>\n",
       "      <td>23</td>\n",
       "      <td>eval</td>\n",
       "    </tr>\n",
       "    <tr>\n",
       "      <td>0.899</td>\n",
       "      <td>0.898</td>\n",
       "      <td>0.898</td>\n",
       "      <td>0.290</td>\n",
       "      <td>24</td>\n",
       "      <td>train</td>\n",
       "    </tr>\n",
       "    <tr>\n",
       "      <td>0.863</td>\n",
       "      <td>0.867</td>\n",
       "      <td>0.864</td>\n",
       "      <td>0.392</td>\n",
       "      <td>24</td>\n",
       "      <td>eval</td>\n",
       "    </tr>\n",
       "  </tbody>\n",
       "</table>"
      ],
      "text/plain": [
       "<IPython.core.display.HTML object>"
      ]
     },
     "metadata": {},
     "output_type": "display_data"
    },
    {
     "name": "stdout",
     "output_type": "stream",
     "text": [
      "{'loss': '1.406', 'epoch': 0, 'train': 'train'}\n"
     ]
    },
    {
     "data": {
      "image/png": "[encoded data removed]",
      "text/plain": [
       "<Figure size 600x400 with 1 Axes>"
      ]
     },
     "metadata": {},
     "output_type": "display_data"
    },
    {
     "name": "stdout",
     "output_type": "stream",
     "text": [
      "{'loss': '1.185', 'epoch': 0, 'train': 'eval'}\n",
      "{'loss': '0.931', 'epoch': 1, 'train': 'train'}\n",
      "{'loss': '0.965', 'epoch': 1, 'train': 'eval'}\n",
      "{'loss': '0.760', 'epoch': 2, 'train': 'train'}\n",
      "{'loss': '0.866', 'epoch': 2, 'train': 'eval'}\n",
      "{'loss': '0.639', 'epoch': 3, 'train': 'train'}\n",
      "{'loss': '0.801', 'epoch': 3, 'train': 'eval'}\n",
      "{'loss': '0.571', 'epoch': 4, 'train': 'train'}\n",
      "{'loss': '0.531', 'epoch': 4, 'train': 'eval'}\n",
      "{'loss': '0.524', 'epoch': 5, 'train': 'train'}\n",
      "{'loss': '0.667', 'epoch': 5, 'train': 'eval'}\n",
      "{'loss': '0.484', 'epoch': 6, 'train': 'train'}\n",
      "{'loss': '0.653', 'epoch': 6, 'train': 'eval'}\n",
      "{'loss': '0.451', 'epoch': 7, 'train': 'train'}\n",
      "{'loss': '0.681', 'epoch': 7, 'train': 'eval'}\n",
      "{'loss': '0.426', 'epoch': 8, 'train': 'train'}\n",
      "{'loss': '0.577', 'epoch': 8, 'train': 'eval'}\n",
      "{'loss': '0.409', 'epoch': 9, 'train': 'train'}\n",
      "{'loss': '0.428', 'epoch': 9, 'train': 'eval'}\n",
      "{'loss': '0.387', 'epoch': 10, 'train': 'train'}\n",
      "{'loss': '0.606', 'epoch': 10, 'train': 'eval'}\n",
      "{'loss': '0.380', 'epoch': 11, 'train': 'train'}\n",
      "{'loss': '0.629', 'epoch': 11, 'train': 'eval'}\n",
      "{'loss': '0.357', 'epoch': 12, 'train': 'train'}\n",
      "{'loss': '0.484', 'epoch': 12, 'train': 'eval'}\n",
      "{'loss': '0.353', 'epoch': 13, 'train': 'train'}\n",
      "{'loss': '0.451', 'epoch': 13, 'train': 'eval'}\n",
      "{'loss': '0.341', 'epoch': 14, 'train': 'train'}\n",
      "{'loss': '0.555', 'epoch': 14, 'train': 'eval'}\n",
      "{'loss': '0.336', 'epoch': 15, 'train': 'train'}\n",
      "{'loss': '0.481', 'epoch': 15, 'train': 'eval'}\n",
      "{'loss': '0.339', 'epoch': 16, 'train': 'train'}\n",
      "{'loss': '0.519', 'epoch': 16, 'train': 'eval'}\n",
      "{'loss': '0.323', 'epoch': 17, 'train': 'train'}\n",
      "{'loss': '0.469', 'epoch': 17, 'train': 'eval'}\n",
      "{'loss': '0.313', 'epoch': 18, 'train': 'train'}\n",
      "{'loss': '0.473', 'epoch': 18, 'train': 'eval'}\n",
      "{'loss': '0.312', 'epoch': 19, 'train': 'train'}\n",
      "{'loss': '0.331', 'epoch': 19, 'train': 'eval'}\n",
      "{'loss': '0.308', 'epoch': 20, 'train': 'train'}\n",
      "{'loss': '0.439', 'epoch': 20, 'train': 'eval'}\n",
      "{'loss': '0.299', 'epoch': 21, 'train': 'train'}\n",
      "{'loss': '0.450', 'epoch': 21, 'train': 'eval'}\n",
      "{'loss': '0.305', 'epoch': 22, 'train': 'train'}\n",
      "{'loss': '0.405', 'epoch': 22, 'train': 'eval'}\n",
      "{'loss': '0.292', 'epoch': 23, 'train': 'train'}\n",
      "{'loss': '0.382', 'epoch': 23, 'train': 'eval'}\n",
      "{'loss': '0.290', 'epoch': 24, 'train': 'train'}\n",
      "{'loss': '0.392', 'epoch': 24, 'train': 'eval'}\n"
     ]
    },
    {
     "data": {
      "application/vnd.jupyter.widget-view+json": {
       "model_id": "072d068eb73f4b0b83fc32e1210b693a",
       "version_major": 2,
       "version_minor": 0
      },
      "text/plain": [
       "VBox(children=(Label(value='0.003 MB of 0.003 MB uploaded\\r'), FloatProgress(value=1.0, max=1.0)))"
      ]
     },
     "metadata": {},
     "output_type": "display_data"
    },
    {
     "data": {
      "text/html": [
       "<style>\n",
       "    table.wandb td:nth-child(1) { padding: 0 10px; text-align: left ; width: auto;} td:nth-child(2) {text-align: left ; width: 100%}\n",
       "    .wandb-row { display: flex; flex-direction: row; flex-wrap: wrap; justify-content: flex-start; width: 100% }\n",
       "    .wandb-col { display: flex; flex-direction: column; flex-basis: 100%; flex: 1; padding: 10px; }\n",
       "    </style>\n",
       "<div class=\"wandb-row\"><div class=\"wandb-col\"><h3>Run history:</h3><br/><table class=\"wandb\"><tr><td>accuracy</td><td>▁▃▆▅▆▇▆▇▇▇▇▇▇▇▇▇███▆██▇██▇████████████▇█</td></tr><tr><td>loss</td><td>█▆▅▅▄▄▄▃▃▃▂▂▂▂▂▂▁▁▂▃▂▁▂▂▂▃▂▁▂▁▁▁▂▁▁▁▁▂▂▁</td></tr><tr><td>lr</td><td>▂▂▂▂▄▅▅▆▇▇██████▇▇▇▇▆▆▆▅▅▅▄▄▃▃▃▂▂▂▁▁▁▁▁▁</td></tr><tr><td>precision</td><td>▁▃▆▆▆▇▆▇▇▇▇▇▇▇▇▇███▇██▇██▇██████████████</td></tr><tr><td>recall</td><td>▁▃▆▅▆▇▆▇▇▇▇▇▇▇▇▇███▆██▇██▇████████████▇█</td></tr><tr><td>test_accuracy</td><td>▂▁▄▃█▇▆</td></tr><tr><td>test_precision</td><td>▁▁▄▄██▆</td></tr><tr><td>test_recall</td><td>▂▁▄▃█▇▆</td></tr><tr><td>train_loss</td><td>█▅▄▃▃▂▂▂▂▂▂▂▁▁▁▁▁▁▁▁▁▁▁▁▁</td></tr><tr><td>val_loss</td><td>█▆▅▅▃▄▄▄▃▂▃▃▂▂▃▂▃▂▂▁▂▂▂▁▁</td></tr></table><br/></div><div class=\"wandb-col\"><h3>Run summary:</h3><br/><table class=\"wandb\"><tr><td>accuracy</td><td>0.86317</td></tr><tr><td>loss</td><td>0.41489</td></tr><tr><td>lr</td><td>0.0</td></tr><tr><td>precision</td><td>0.86692</td></tr><tr><td>recall</td><td>0.86355</td></tr><tr><td>test_accuracy</td><td>0.8566</td></tr><tr><td>test_precision</td><td>0.8602</td></tr><tr><td>test_recall</td><td>0.8566</td></tr><tr><td>train_loss</td><td>0.29</td></tr><tr><td>val_loss</td><td>0.392</td></tr></table><br/></div></div>"
      ],
      "text/plain": [
       "<IPython.core.display.HTML object>"
      ]
     },
     "metadata": {},
     "output_type": "display_data"
    },
    {
     "data": {
      "text/html": [
       " View run <strong style=\"color:#cdcd00\">LR Scheduler</strong> at: <a href='https://wandb.ai/afterhoursbilly/diploma/runs/49y2orv0' target=\"_blank\">https://wandb.ai/afterhoursbilly/diploma/runs/49y2orv0</a><br/> View project at: <a href='https://wandb.ai/afterhoursbilly/diploma' target=\"_blank\">https://wandb.ai/afterhoursbilly/diploma</a><br/>Synced 5 W&B file(s), 0 media file(s), 0 artifact file(s) and 0 other file(s)"
      ],
      "text/plain": [
       "<IPython.core.display.HTML object>"
      ]
     },
     "metadata": {},
     "output_type": "display_data"
    },
    {
     "data": {
      "text/html": [
       "Find logs at: <code>./wandb/run-20240508_000105-49y2orv0/logs</code>"
      ],
      "text/plain": [
       "<IPython.core.display.HTML object>"
      ]
     },
     "metadata": {},
     "output_type": "display_data"
    }
   ],
   "source": [
    "learn.fit(epochs)"
   ]
  },
  {
   "cell_type": "code",
   "execution_count": 43,
   "metadata": {},
   "outputs": [
    {
     "data": {
      "image/png": "[encoded data removed]",
      "text/plain": [
       "<Figure size 640x480 with 1 Axes>"
      ]
     },
     "metadata": {},
     "output_type": "display_data"
    }
   ],
   "source": [
    "record.plot()"
   ]
  },
  {
   "cell_type": "markdown",
   "metadata": {},
   "source": [
    "# AdamW"
   ]
  },
  {
   "cell_type": "code",
   "execution_count": 26,
   "metadata": {},
   "outputs": [],
   "source": [
    "def _lr(cb): return cb.pg['lr']\n",
    "def _beta1(cb): return cb.pg['betas'][0]\n",
    "record = RecorderCB(lr = _lr, mom = _beta1)"
   ]
  },
  {
   "cell_type": "code",
   "execution_count": 27,
   "metadata": {},
   "outputs": [],
   "source": [
    "tmax = epochs * len(dls.train)\n",
    "sched = partial(lr_scheduler.OneCycleLR, max_lr=lr, total_steps=tmax)\n",
    "\n",
    "\n",
    "wandbcb =  WandBCB(config={'lr':lr, 'epochs':epochs, 'bs':bs, 'name':'AdamW_fix'}, project='diploma')\n",
    "cbs = [DeviceCB('cuda'), metrics, ProgressCB(plot=True), augcb, wandbcb]\n",
    "iw = partial(init_weights, leaky=0.1)\n",
    "act_gr = partial(GeneralRelu, leak=0.1, sub=0.4)\n",
    "model = get_model(act_gr,norm=nn.BatchNorm2d).apply(iw).to(def_device)\n",
    "xtra = [BatchSchedCB(sched),record]\n",
    "learn = TrainLearner(model, dls, F.cross_entropy, lr=lr, cbs=cbs+xtra, opt_func=optim.AdamW)"
   ]
  },
  {
   "cell_type": "code",
   "execution_count": 28,
   "metadata": {},
   "outputs": [
    {
     "name": "stderr",
     "output_type": "stream",
     "text": [
      "Failed to detect the name of this notebook, you can set it manually with the WANDB_NOTEBOOK_NAME environment variable to enable code saving.\n",
      "\u001b[34m\u001b[1mwandb\u001b[0m: Currently logged in as: \u001b[33mafterhoursbilly\u001b[0m. Use \u001b[1m`wandb login --relogin`\u001b[0m to force relogin\n"
     ]
    },
    {
     "data": {
      "text/html": [
       "wandb version 0.17.0 is available!  To upgrade, please run:\n",
       " $ pip install wandb --upgrade"
      ],
      "text/plain": [
       "<IPython.core.display.HTML object>"
      ]
     },
     "metadata": {},
     "output_type": "display_data"
    },
    {
     "data": {
      "text/html": [
       "Tracking run with wandb version 0.16.6"
      ],
      "text/plain": [
       "<IPython.core.display.HTML object>"
      ]
     },
     "metadata": {},
     "output_type": "display_data"
    },
    {
     "data": {
      "text/html": [
       "Run data is saved locally in <code>/home/billy/diploma/wandb/run-20240508_030901-l2h9vu8i</code>"
      ],
      "text/plain": [
       "<IPython.core.display.HTML object>"
      ]
     },
     "metadata": {},
     "output_type": "display_data"
    },
    {
     "data": {
      "text/html": [
       "Syncing run <strong><a href='https://wandb.ai/afterhoursbilly/diploma/runs/l2h9vu8i' target=\"_blank\">AdamW_fix</a></strong> to <a href='https://wandb.ai/afterhoursbilly/diploma' target=\"_blank\">Weights & Biases</a> (<a href='https://wandb.me/run' target=\"_blank\">docs</a>)<br/>"
      ],
      "text/plain": [
       "<IPython.core.display.HTML object>"
      ]
     },
     "metadata": {},
     "output_type": "display_data"
    },
    {
     "data": {
      "text/html": [
       " View project at <a href='https://wandb.ai/afterhoursbilly/diploma' target=\"_blank\">https://wandb.ai/afterhoursbilly/diploma</a>"
      ],
      "text/plain": [
       "<IPython.core.display.HTML object>"
      ]
     },
     "metadata": {},
     "output_type": "display_data"
    },
    {
     "data": {
      "text/html": [
       " View run at <a href='https://wandb.ai/afterhoursbilly/diploma/runs/l2h9vu8i' target=\"_blank\">https://wandb.ai/afterhoursbilly/diploma/runs/l2h9vu8i</a>"
      ],
      "text/plain": [
       "<IPython.core.display.HTML object>"
      ]
     },
     "metadata": {},
     "output_type": "display_data"
    },
    {
     "data": {
      "text/html": [
       "\n",
       "<style>\n",
       "    /* Turns off some styling */\n",
       "    progress {\n",
       "        /* gets rid of default border in Firefox and Opera. */\n",
       "        border: none;\n",
       "        /* Needs to be in here for Safari polyfill so background images work as expected. */\n",
       "        background-size: auto;\n",
       "    }\n",
       "    progress:not([value]), progress:not([value])::-webkit-progress-bar {\n",
       "        background: repeating-linear-gradient(45deg, #7e7e7e, #7e7e7e 10px, #5c5c5c 10px, #5c5c5c 20px);\n",
       "    }\n",
       "    .progress-bar-interrupted, .progress-bar-interrupted::-webkit-progress-bar {\n",
       "        background: #F44336;\n",
       "    }\n",
       "</style>\n"
      ],
      "text/plain": [
       "<IPython.core.display.HTML object>"
      ]
     },
     "metadata": {},
     "output_type": "display_data"
    },
    {
     "data": {
      "text/html": [
       "<table border=\"1\" class=\"dataframe\">\n",
       "  <thead>\n",
       "    <tr style=\"text-align: left;\">\n",
       "      <th>accuracy</th>\n",
       "      <th>precision</th>\n",
       "      <th>recall</th>\n",
       "      <th>loss</th>\n",
       "      <th>epoch</th>\n",
       "      <th>train</th>\n",
       "    </tr>\n",
       "  </thead>\n",
       "  <tbody>\n",
       "    <tr>\n",
       "      <td>0.718</td>\n",
       "      <td>0.712</td>\n",
       "      <td>0.718</td>\n",
       "      <td>0.976</td>\n",
       "      <td>0</td>\n",
       "      <td>train</td>\n",
       "    </tr>\n",
       "    <tr>\n",
       "      <td>0.716</td>\n",
       "      <td>0.754</td>\n",
       "      <td>0.711</td>\n",
       "      <td>0.933</td>\n",
       "      <td>0</td>\n",
       "      <td>eval</td>\n",
       "    </tr>\n",
       "    <tr>\n",
       "      <td>0.808</td>\n",
       "      <td>0.805</td>\n",
       "      <td>0.808</td>\n",
       "      <td>0.699</td>\n",
       "      <td>1</td>\n",
       "      <td>train</td>\n",
       "    </tr>\n",
       "    <tr>\n",
       "      <td>0.717</td>\n",
       "      <td>0.754</td>\n",
       "      <td>0.717</td>\n",
       "      <td>0.814</td>\n",
       "      <td>1</td>\n",
       "      <td>eval</td>\n",
       "    </tr>\n",
       "    <tr>\n",
       "      <td>0.834</td>\n",
       "      <td>0.832</td>\n",
       "      <td>0.834</td>\n",
       "      <td>0.574</td>\n",
       "      <td>2</td>\n",
       "      <td>train</td>\n",
       "    </tr>\n",
       "    <tr>\n",
       "      <td>0.791</td>\n",
       "      <td>0.804</td>\n",
       "      <td>0.792</td>\n",
       "      <td>0.625</td>\n",
       "      <td>2</td>\n",
       "      <td>eval</td>\n",
       "    </tr>\n",
       "    <tr>\n",
       "      <td>0.845</td>\n",
       "      <td>0.843</td>\n",
       "      <td>0.845</td>\n",
       "      <td>0.489</td>\n",
       "      <td>3</td>\n",
       "      <td>train</td>\n",
       "    </tr>\n",
       "    <tr>\n",
       "      <td>0.797</td>\n",
       "      <td>0.820</td>\n",
       "      <td>0.795</td>\n",
       "      <td>0.676</td>\n",
       "      <td>3</td>\n",
       "      <td>eval</td>\n",
       "    </tr>\n",
       "    <tr>\n",
       "      <td>0.853</td>\n",
       "      <td>0.852</td>\n",
       "      <td>0.853</td>\n",
       "      <td>0.435</td>\n",
       "      <td>4</td>\n",
       "      <td>train</td>\n",
       "    </tr>\n",
       "    <tr>\n",
       "      <td>0.675</td>\n",
       "      <td>0.750</td>\n",
       "      <td>0.682</td>\n",
       "      <td>1.040</td>\n",
       "      <td>4</td>\n",
       "      <td>eval</td>\n",
       "    </tr>\n",
       "    <tr>\n",
       "      <td>0.867</td>\n",
       "      <td>0.865</td>\n",
       "      <td>0.867</td>\n",
       "      <td>0.391</td>\n",
       "      <td>5</td>\n",
       "      <td>train</td>\n",
       "    </tr>\n",
       "    <tr>\n",
       "      <td>0.819</td>\n",
       "      <td>0.837</td>\n",
       "      <td>0.820</td>\n",
       "      <td>0.510</td>\n",
       "      <td>5</td>\n",
       "      <td>eval</td>\n",
       "    </tr>\n",
       "    <tr>\n",
       "      <td>0.873</td>\n",
       "      <td>0.872</td>\n",
       "      <td>0.873</td>\n",
       "      <td>0.357</td>\n",
       "      <td>6</td>\n",
       "      <td>train</td>\n",
       "    </tr>\n",
       "    <tr>\n",
       "      <td>0.795</td>\n",
       "      <td>0.843</td>\n",
       "      <td>0.795</td>\n",
       "      <td>0.656</td>\n",
       "      <td>6</td>\n",
       "      <td>eval</td>\n",
       "    </tr>\n",
       "    <tr>\n",
       "      <td>0.881</td>\n",
       "      <td>0.881</td>\n",
       "      <td>0.881</td>\n",
       "      <td>0.332</td>\n",
       "      <td>7</td>\n",
       "      <td>train</td>\n",
       "    </tr>\n",
       "    <tr>\n",
       "      <td>0.882</td>\n",
       "      <td>0.889</td>\n",
       "      <td>0.881</td>\n",
       "      <td>0.331</td>\n",
       "      <td>7</td>\n",
       "      <td>eval</td>\n",
       "    </tr>\n",
       "    <tr>\n",
       "      <td>0.890</td>\n",
       "      <td>0.890</td>\n",
       "      <td>0.890</td>\n",
       "      <td>0.308</td>\n",
       "      <td>8</td>\n",
       "      <td>train</td>\n",
       "    </tr>\n",
       "    <tr>\n",
       "      <td>0.877</td>\n",
       "      <td>0.877</td>\n",
       "      <td>0.876</td>\n",
       "      <td>0.343</td>\n",
       "      <td>8</td>\n",
       "      <td>eval</td>\n",
       "    </tr>\n",
       "    <tr>\n",
       "      <td>0.892</td>\n",
       "      <td>0.891</td>\n",
       "      <td>0.892</td>\n",
       "      <td>0.302</td>\n",
       "      <td>9</td>\n",
       "      <td>train</td>\n",
       "    </tr>\n",
       "    <tr>\n",
       "      <td>0.814</td>\n",
       "      <td>0.847</td>\n",
       "      <td>0.815</td>\n",
       "      <td>0.567</td>\n",
       "      <td>9</td>\n",
       "      <td>eval</td>\n",
       "    </tr>\n",
       "    <tr>\n",
       "      <td>0.895</td>\n",
       "      <td>0.894</td>\n",
       "      <td>0.895</td>\n",
       "      <td>0.293</td>\n",
       "      <td>10</td>\n",
       "      <td>train</td>\n",
       "    </tr>\n",
       "    <tr>\n",
       "      <td>0.887</td>\n",
       "      <td>0.890</td>\n",
       "      <td>0.888</td>\n",
       "      <td>0.323</td>\n",
       "      <td>10</td>\n",
       "      <td>eval</td>\n",
       "    </tr>\n",
       "    <tr>\n",
       "      <td>0.902</td>\n",
       "      <td>0.901</td>\n",
       "      <td>0.902</td>\n",
       "      <td>0.270</td>\n",
       "      <td>11</td>\n",
       "      <td>train</td>\n",
       "    </tr>\n",
       "    <tr>\n",
       "      <td>0.891</td>\n",
       "      <td>0.891</td>\n",
       "      <td>0.891</td>\n",
       "      <td>0.309</td>\n",
       "      <td>11</td>\n",
       "      <td>eval</td>\n",
       "    </tr>\n",
       "    <tr>\n",
       "      <td>0.905</td>\n",
       "      <td>0.905</td>\n",
       "      <td>0.906</td>\n",
       "      <td>0.261</td>\n",
       "      <td>12</td>\n",
       "      <td>train</td>\n",
       "    </tr>\n",
       "    <tr>\n",
       "      <td>0.884</td>\n",
       "      <td>0.891</td>\n",
       "      <td>0.884</td>\n",
       "      <td>0.305</td>\n",
       "      <td>12</td>\n",
       "      <td>eval</td>\n",
       "    </tr>\n",
       "    <tr>\n",
       "      <td>0.912</td>\n",
       "      <td>0.911</td>\n",
       "      <td>0.912</td>\n",
       "      <td>0.246</td>\n",
       "      <td>13</td>\n",
       "      <td>train</td>\n",
       "    </tr>\n",
       "    <tr>\n",
       "      <td>0.900</td>\n",
       "      <td>0.905</td>\n",
       "      <td>0.900</td>\n",
       "      <td>0.269</td>\n",
       "      <td>13</td>\n",
       "      <td>eval</td>\n",
       "    </tr>\n",
       "    <tr>\n",
       "      <td>0.911</td>\n",
       "      <td>0.911</td>\n",
       "      <td>0.911</td>\n",
       "      <td>0.244</td>\n",
       "      <td>14</td>\n",
       "      <td>train</td>\n",
       "    </tr>\n",
       "    <tr>\n",
       "      <td>0.892</td>\n",
       "      <td>0.892</td>\n",
       "      <td>0.892</td>\n",
       "      <td>0.296</td>\n",
       "      <td>14</td>\n",
       "      <td>eval</td>\n",
       "    </tr>\n",
       "    <tr>\n",
       "      <td>0.916</td>\n",
       "      <td>0.916</td>\n",
       "      <td>0.916</td>\n",
       "      <td>0.232</td>\n",
       "      <td>15</td>\n",
       "      <td>train</td>\n",
       "    </tr>\n",
       "    <tr>\n",
       "      <td>0.907</td>\n",
       "      <td>0.909</td>\n",
       "      <td>0.907</td>\n",
       "      <td>0.246</td>\n",
       "      <td>15</td>\n",
       "      <td>eval</td>\n",
       "    </tr>\n",
       "    <tr>\n",
       "      <td>0.920</td>\n",
       "      <td>0.920</td>\n",
       "      <td>0.920</td>\n",
       "      <td>0.218</td>\n",
       "      <td>16</td>\n",
       "      <td>train</td>\n",
       "    </tr>\n",
       "    <tr>\n",
       "      <td>0.910</td>\n",
       "      <td>0.915</td>\n",
       "      <td>0.910</td>\n",
       "      <td>0.233</td>\n",
       "      <td>16</td>\n",
       "      <td>eval</td>\n",
       "    </tr>\n",
       "    <tr>\n",
       "      <td>0.923</td>\n",
       "      <td>0.923</td>\n",
       "      <td>0.923</td>\n",
       "      <td>0.213</td>\n",
       "      <td>17</td>\n",
       "      <td>train</td>\n",
       "    </tr>\n",
       "    <tr>\n",
       "      <td>0.918</td>\n",
       "      <td>0.919</td>\n",
       "      <td>0.918</td>\n",
       "      <td>0.230</td>\n",
       "      <td>17</td>\n",
       "      <td>eval</td>\n",
       "    </tr>\n",
       "    <tr>\n",
       "      <td>0.928</td>\n",
       "      <td>0.927</td>\n",
       "      <td>0.928</td>\n",
       "      <td>0.200</td>\n",
       "      <td>18</td>\n",
       "      <td>train</td>\n",
       "    </tr>\n",
       "    <tr>\n",
       "      <td>0.908</td>\n",
       "      <td>0.913</td>\n",
       "      <td>0.907</td>\n",
       "      <td>0.245</td>\n",
       "      <td>18</td>\n",
       "      <td>eval</td>\n",
       "    </tr>\n",
       "    <tr>\n",
       "      <td>0.930</td>\n",
       "      <td>0.930</td>\n",
       "      <td>0.930</td>\n",
       "      <td>0.190</td>\n",
       "      <td>19</td>\n",
       "      <td>train</td>\n",
       "    </tr>\n",
       "    <tr>\n",
       "      <td>0.920</td>\n",
       "      <td>0.924</td>\n",
       "      <td>0.920</td>\n",
       "      <td>0.213</td>\n",
       "      <td>19</td>\n",
       "      <td>eval</td>\n",
       "    </tr>\n",
       "    <tr>\n",
       "      <td>0.932</td>\n",
       "      <td>0.932</td>\n",
       "      <td>0.932</td>\n",
       "      <td>0.187</td>\n",
       "      <td>20</td>\n",
       "      <td>train</td>\n",
       "    </tr>\n",
       "    <tr>\n",
       "      <td>0.922</td>\n",
       "      <td>0.925</td>\n",
       "      <td>0.922</td>\n",
       "      <td>0.207</td>\n",
       "      <td>20</td>\n",
       "      <td>eval</td>\n",
       "    </tr>\n",
       "    <tr>\n",
       "      <td>0.934</td>\n",
       "      <td>0.934</td>\n",
       "      <td>0.934</td>\n",
       "      <td>0.178</td>\n",
       "      <td>21</td>\n",
       "      <td>train</td>\n",
       "    </tr>\n",
       "    <tr>\n",
       "      <td>0.921</td>\n",
       "      <td>0.924</td>\n",
       "      <td>0.921</td>\n",
       "      <td>0.211</td>\n",
       "      <td>21</td>\n",
       "      <td>eval</td>\n",
       "    </tr>\n",
       "    <tr>\n",
       "      <td>0.937</td>\n",
       "      <td>0.936</td>\n",
       "      <td>0.937</td>\n",
       "      <td>0.173</td>\n",
       "      <td>22</td>\n",
       "      <td>train</td>\n",
       "    </tr>\n",
       "    <tr>\n",
       "      <td>0.925</td>\n",
       "      <td>0.927</td>\n",
       "      <td>0.925</td>\n",
       "      <td>0.201</td>\n",
       "      <td>22</td>\n",
       "      <td>eval</td>\n",
       "    </tr>\n",
       "    <tr>\n",
       "      <td>0.939</td>\n",
       "      <td>0.939</td>\n",
       "      <td>0.939</td>\n",
       "      <td>0.168</td>\n",
       "      <td>23</td>\n",
       "      <td>train</td>\n",
       "    </tr>\n",
       "    <tr>\n",
       "      <td>0.925</td>\n",
       "      <td>0.927</td>\n",
       "      <td>0.925</td>\n",
       "      <td>0.193</td>\n",
       "      <td>23</td>\n",
       "      <td>eval</td>\n",
       "    </tr>\n",
       "    <tr>\n",
       "      <td>0.938</td>\n",
       "      <td>0.937</td>\n",
       "      <td>0.938</td>\n",
       "      <td>0.169</td>\n",
       "      <td>24</td>\n",
       "      <td>train</td>\n",
       "    </tr>\n",
       "    <tr>\n",
       "      <td>0.923</td>\n",
       "      <td>0.925</td>\n",
       "      <td>0.922</td>\n",
       "      <td>0.204</td>\n",
       "      <td>24</td>\n",
       "      <td>eval</td>\n",
       "    </tr>\n",
       "  </tbody>\n",
       "</table>"
      ],
      "text/plain": [
       "<IPython.core.display.HTML object>"
      ]
     },
     "metadata": {},
     "output_type": "display_data"
    },
    {
     "name": "stdout",
     "output_type": "stream",
     "text": [
      "{'loss': '0.976', 'epoch': 0, 'train': 'train'}\n"
     ]
    },
    {
     "data": {
      "image/png": "[encoded data removed]",
      "text/plain": [
       "<Figure size 600x400 with 1 Axes>"
      ]
     },
     "metadata": {},
     "output_type": "display_data"
    },
    {
     "name": "stdout",
     "output_type": "stream",
     "text": [
      "{'loss': '0.933', 'epoch': 0, 'train': 'eval'}\n",
      "{'loss': '0.699', 'epoch': 1, 'train': 'train'}\n",
      "{'loss': '0.814', 'epoch': 1, 'train': 'eval'}\n",
      "{'loss': '0.574', 'epoch': 2, 'train': 'train'}\n",
      "{'loss': '0.625', 'epoch': 2, 'train': 'eval'}\n",
      "{'loss': '0.489', 'epoch': 3, 'train': 'train'}\n",
      "{'loss': '0.676', 'epoch': 3, 'train': 'eval'}\n",
      "{'loss': '0.435', 'epoch': 4, 'train': 'train'}\n",
      "{'loss': '1.040', 'epoch': 4, 'train': 'eval'}\n",
      "{'loss': '0.391', 'epoch': 5, 'train': 'train'}\n",
      "{'loss': '0.510', 'epoch': 5, 'train': 'eval'}\n",
      "{'loss': '0.357', 'epoch': 6, 'train': 'train'}\n",
      "{'loss': '0.656', 'epoch': 6, 'train': 'eval'}\n",
      "{'loss': '0.332', 'epoch': 7, 'train': 'train'}\n",
      "{'loss': '0.331', 'epoch': 7, 'train': 'eval'}\n",
      "{'loss': '0.308', 'epoch': 8, 'train': 'train'}\n",
      "{'loss': '0.343', 'epoch': 8, 'train': 'eval'}\n",
      "{'loss': '0.302', 'epoch': 9, 'train': 'train'}\n",
      "{'loss': '0.567', 'epoch': 9, 'train': 'eval'}\n",
      "{'loss': '0.293', 'epoch': 10, 'train': 'train'}\n",
      "{'loss': '0.323', 'epoch': 10, 'train': 'eval'}\n",
      "{'loss': '0.270', 'epoch': 11, 'train': 'train'}\n",
      "{'loss': '0.309', 'epoch': 11, 'train': 'eval'}\n",
      "{'loss': '0.261', 'epoch': 12, 'train': 'train'}\n",
      "{'loss': '0.305', 'epoch': 12, 'train': 'eval'}\n",
      "{'loss': '0.246', 'epoch': 13, 'train': 'train'}\n",
      "{'loss': '0.269', 'epoch': 13, 'train': 'eval'}\n",
      "{'loss': '0.244', 'epoch': 14, 'train': 'train'}\n",
      "{'loss': '0.296', 'epoch': 14, 'train': 'eval'}\n",
      "{'loss': '0.232', 'epoch': 15, 'train': 'train'}\n",
      "{'loss': '0.246', 'epoch': 15, 'train': 'eval'}\n",
      "{'loss': '0.218', 'epoch': 16, 'train': 'train'}\n",
      "{'loss': '0.233', 'epoch': 16, 'train': 'eval'}\n",
      "{'loss': '0.213', 'epoch': 17, 'train': 'train'}\n",
      "{'loss': '0.230', 'epoch': 17, 'train': 'eval'}\n",
      "{'loss': '0.200', 'epoch': 18, 'train': 'train'}\n",
      "{'loss': '0.245', 'epoch': 18, 'train': 'eval'}\n",
      "{'loss': '0.190', 'epoch': 19, 'train': 'train'}\n",
      "{'loss': '0.213', 'epoch': 19, 'train': 'eval'}\n",
      "{'loss': '0.187', 'epoch': 20, 'train': 'train'}\n",
      "{'loss': '0.207', 'epoch': 20, 'train': 'eval'}\n",
      "{'loss': '0.178', 'epoch': 21, 'train': 'train'}\n",
      "{'loss': '0.211', 'epoch': 21, 'train': 'eval'}\n",
      "{'loss': '0.173', 'epoch': 22, 'train': 'train'}\n",
      "{'loss': '0.201', 'epoch': 22, 'train': 'eval'}\n",
      "{'loss': '0.168', 'epoch': 23, 'train': 'train'}\n",
      "{'loss': '0.193', 'epoch': 23, 'train': 'eval'}\n",
      "{'loss': '0.169', 'epoch': 24, 'train': 'train'}\n",
      "{'loss': '0.204', 'epoch': 24, 'train': 'eval'}\n"
     ]
    },
    {
     "data": {
      "application/vnd.jupyter.widget-view+json": {
       "model_id": "cc4b375a703041e5af4b17adc07ee440",
       "version_major": 2,
       "version_minor": 0
      },
      "text/plain": [
       "VBox(children=(Label(value='0.003 MB of 0.003 MB uploaded\\r'), FloatProgress(value=1.0, max=1.0)))"
      ]
     },
     "metadata": {},
     "output_type": "display_data"
    },
    {
     "data": {
      "text/html": [
       "<style>\n",
       "    table.wandb td:nth-child(1) { padding: 0 10px; text-align: left ; width: auto;} td:nth-child(2) {text-align: left ; width: 100%}\n",
       "    .wandb-row { display: flex; flex-direction: row; flex-wrap: wrap; justify-content: flex-start; width: 100% }\n",
       "    .wandb-col { display: flex; flex-direction: column; flex-basis: 100%; flex: 1; padding: 10px; }\n",
       "    </style>\n",
       "<div class=\"wandb-row\"><div class=\"wandb-col\"><h3>Run history:</h3><br/><table class=\"wandb\"><tr><td>accuracy</td><td>▁▃▅▃▆▆▅▆▆▆▇▇▇▇▇▇▇▇▇▇▇▇▇▇▇▇██████████████</td></tr><tr><td>loss</td><td>█▅▅▆▄▄▅▃▃▃▃▂▂▃▂▂▂▂▂▂▂▂▂▂▁▂▂▂▁▂▂▁▁▂▁▁▁▁▁▁</td></tr><tr><td>lr</td><td>▂▂▂▂▄▅▅▆▇▇██████▇▇▇▇▆▆▆▅▅▅▄▄▃▃▃▂▂▂▁▁▁▁▁▁</td></tr><tr><td>precision</td><td>▁▃▅▄▆▆▅▆▆▆▇▇▇▇▇▇▇▇▇▇▇▇▇▇▇▇██████████████</td></tr><tr><td>recall</td><td>▁▃▅▃▆▆▅▆▆▆▇▇▇▇▇▇▇▇▇▇▇▇▇▇▇▇██████████████</td></tr><tr><td>test_accuracy</td><td>▁▁▅▅█████</td></tr><tr><td>test_precision</td><td>▁▁▅▅█████</td></tr><tr><td>test_recall</td><td>▁▁▅▅█████</td></tr><tr><td>train_loss</td><td>█▆▅▄▃▃▃▂▂▂▂▂▂▂▂▂▁▁▁▁▁▁▁▁▁</td></tr><tr><td>val_loss</td><td>▇▆▅▅█▄▅▂▂▄▂▂▂▂▂▁▁▁▁▁▁▁▁▁▁</td></tr></table><br/></div><div class=\"wandb-col\"><h3>Run summary:</h3><br/><table class=\"wandb\"><tr><td>accuracy</td><td>0.92267</td></tr><tr><td>loss</td><td>0.1766</td></tr><tr><td>lr</td><td>0.0</td></tr><tr><td>precision</td><td>0.92516</td></tr><tr><td>recall</td><td>0.92246</td></tr><tr><td>test_accuracy</td><td>0.9185</td></tr><tr><td>test_precision</td><td>0.92114</td></tr><tr><td>test_recall</td><td>0.9185</td></tr><tr><td>train_loss</td><td>0.169</td></tr><tr><td>val_loss</td><td>0.204</td></tr></table><br/></div></div>"
      ],
      "text/plain": [
       "<IPython.core.display.HTML object>"
      ]
     },
     "metadata": {},
     "output_type": "display_data"
    },
    {
     "data": {
      "text/html": [
       " View run <strong style=\"color:#cdcd00\">AdamW_fix</strong> at: <a href='https://wandb.ai/afterhoursbilly/diploma/runs/l2h9vu8i' target=\"_blank\">https://wandb.ai/afterhoursbilly/diploma/runs/l2h9vu8i</a><br/> View project at: <a href='https://wandb.ai/afterhoursbilly/diploma' target=\"_blank\">https://wandb.ai/afterhoursbilly/diploma</a><br/>Synced 5 W&B file(s), 0 media file(s), 0 artifact file(s) and 0 other file(s)"
      ],
      "text/plain": [
       "<IPython.core.display.HTML object>"
      ]
     },
     "metadata": {},
     "output_type": "display_data"
    },
    {
     "data": {
      "text/html": [
       "Find logs at: <code>./wandb/run-20240508_030901-l2h9vu8i/logs</code>"
      ],
      "text/plain": [
       "<IPython.core.display.HTML object>"
      ]
     },
     "metadata": {},
     "output_type": "display_data"
    }
   ],
   "source": [
    "learn.fit(epochs)"
   ]
  },
  {
   "cell_type": "code",
   "execution_count": 77,
   "metadata": {},
   "outputs": [
    {
     "data": {
      "image/png": "[encoded data removed]",
      "text/plain": [
       "<Figure size 640x480 with 1 Axes>"
      ]
     },
     "metadata": {},
     "output_type": "display_data"
    },
    {
     "data": {
      "image/png": "[encoded data removed]",
      "text/plain": [
       "<Figure size 640x480 with 1 Axes>"
      ]
     },
     "metadata": {},
     "output_type": "display_data"
    }
   ],
   "source": [
    "record.plot()"
   ]
  },
  {
   "cell_type": "code",
   "execution_count": 78,
   "metadata": {},
   "outputs": [
    {
     "data": {
      "text/html": [
       "wandb version 0.17.0 is available!  To upgrade, please run:\n",
       " $ pip install wandb --upgrade"
      ],
      "text/plain": [
       "<IPython.core.display.HTML object>"
      ]
     },
     "metadata": {},
     "output_type": "display_data"
    },
    {
     "data": {
      "text/html": [
       "Tracking run with wandb version 0.16.6"
      ],
      "text/plain": [
       "<IPython.core.display.HTML object>"
      ]
     },
     "metadata": {},
     "output_type": "display_data"
    },
    {
     "data": {
      "text/html": [
       "Run data is saved locally in <code>/home/billy/diploma/wandb/run-20240508_005750-nfjympfh</code>"
      ],
      "text/plain": [
       "<IPython.core.display.HTML object>"
      ]
     },
     "metadata": {},
     "output_type": "display_data"
    },
    {
     "data": {
      "text/html": [
       "Syncing run <strong><a href='https://wandb.ai/afterhoursbilly/diploma/runs/nfjympfh' target=\"_blank\">AdamW_t</a></strong> to <a href='https://wandb.ai/afterhoursbilly/diploma' target=\"_blank\">Weights & Biases</a> (<a href='https://wandb.me/run' target=\"_blank\">docs</a>)<br/>"
      ],
      "text/plain": [
       "<IPython.core.display.HTML object>"
      ]
     },
     "metadata": {},
     "output_type": "display_data"
    },
    {
     "data": {
      "text/html": [
       " View project at <a href='https://wandb.ai/afterhoursbilly/diploma' target=\"_blank\">https://wandb.ai/afterhoursbilly/diploma</a>"
      ],
      "text/plain": [
       "<IPython.core.display.HTML object>"
      ]
     },
     "metadata": {},
     "output_type": "display_data"
    },
    {
     "data": {
      "text/html": [
       " View run at <a href='https://wandb.ai/afterhoursbilly/diploma/runs/nfjympfh' target=\"_blank\">https://wandb.ai/afterhoursbilly/diploma/runs/nfjympfh</a>"
      ],
      "text/plain": [
       "<IPython.core.display.HTML object>"
      ]
     },
     "metadata": {},
     "output_type": "display_data"
    },
    {
     "data": {
      "text/html": [
       "\n",
       "<style>\n",
       "    /* Turns off some styling */\n",
       "    progress {\n",
       "        /* gets rid of default border in Firefox and Opera. */\n",
       "        border: none;\n",
       "        /* Needs to be in here for Safari polyfill so background images work as expected. */\n",
       "        background-size: auto;\n",
       "    }\n",
       "    progress:not([value]), progress:not([value])::-webkit-progress-bar {\n",
       "        background: repeating-linear-gradient(45deg, #7e7e7e, #7e7e7e 10px, #5c5c5c 10px, #5c5c5c 20px);\n",
       "    }\n",
       "    .progress-bar-interrupted, .progress-bar-interrupted::-webkit-progress-bar {\n",
       "        background: #F44336;\n",
       "    }\n",
       "</style>\n"
      ],
      "text/plain": [
       "<IPython.core.display.HTML object>"
      ]
     },
     "metadata": {},
     "output_type": "display_data"
    },
    {
     "data": {
      "text/html": [
       "\n",
       "    <div>\n",
       "      <progress value='0' class='' max='1' style='width:300px; height:20px; vertical-align: middle;'></progress>\n",
       "      0.00% [0/1 00:00&lt;?]\n",
       "    </div>\n",
       "    \n",
       "\n",
       "\n",
       "    <div>\n",
       "      <progress value='0' class='' max='106' style='width:300px; height:20px; vertical-align: middle;'></progress>\n",
       "      0.00% [0/106 00:00&lt;?]\n",
       "    </div>\n",
       "    "
      ],
      "text/plain": [
       "<IPython.core.display.HTML object>"
      ]
     },
     "metadata": {},
     "output_type": "display_data"
    },
    {
     "name": "stdout",
     "output_type": "stream",
     "text": [
      "Tot params: 4903236; MFLOPS: 18.6\n"
     ]
    },
    {
     "data": {
      "text/markdown": [
       "|Module|Input|Output|Num params|MFLOPS|\n",
       "|--|--|--|--|--|\n",
       "|ResBlock|(512, 1, 28, 28)|(512, 16, 28, 28)|2576|1.9|\n",
       "|ResBlock|(512, 16, 28, 28)|(512, 32, 14, 14)|14560|2.8|\n",
       "|ResBlock|(512, 32, 14, 14)|(512, 64, 7, 7)|57792|2.8|\n",
       "|ResBlock|(512, 64, 7, 7)|(512, 128, 4, 4)|230272|3.7|\n",
       "|ResBlock|(512, 128, 4, 4)|(512, 256, 2, 2)|919296|3.7|\n",
       "|ResBlock|(512, 256, 2, 2)|(512, 512, 1, 1)|3673600|3.7|\n",
       "|Flatten|(512, 512, 1, 1)|(512, 512)|0|0.0|\n",
       "|Linear|(512, 512)|(512, 10)|5120|0.0|\n",
       "|BatchNorm1d|(512, 10)|(512, 10)|20|0.0|\n"
      ],
      "text/plain": [
       "<IPython.core.display.Markdown object>"
      ]
     },
     "execution_count": 78,
     "metadata": {},
     "output_type": "execute_result"
    }
   ],
   "source": [
    "learn.summary()"
   ]
  },
  {
   "cell_type": "code",
   "execution_count": null,
   "metadata": {},
   "outputs": [],
   "source": []
  }
 ],
 "metadata": {
  "kernelspec": {
   "display_name": "python3",
   "language": "python",
   "name": "python3"
  },
  "language_info": {
   "codemirror_mode": {
    "name": "ipython",
    "version": 3
   },
   "file_extension": ".py",
   "mimetype": "text/x-python",
   "name": "python",
   "nbconvert_exporter": "python",
   "pygments_lexer": "ipython3",
   "version": "3.10.12"
  }
 },
 "nbformat": 4,
 "nbformat_minor": 2
}
